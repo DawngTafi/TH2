{
 "cells": [
  {
   "cell_type": "code",
   "execution_count": 77,
   "id": "47236a6f-cdf1-4043-b8ad-ecd64ea31ccc",
   "metadata": {},
   "outputs": [],
   "source": [
    "import numpy as np\n",
    "import pandas as pd\n",
    "from sklearn.preprocessing import StandardScaler\n",
    "from sklearn.mixture import BayesianGaussianMixture\n",
    "import matplotlib.pyplot as plt\n",
    "import seaborn as sns"
   ]
  },
  {
   "cell_type": "code",
   "execution_count": 78,
   "id": "da61671e-1e1a-4064-ace0-1b23d15cee45",
   "metadata": {},
   "outputs": [
    {
     "data": {
      "text/html": [
       "<div>\n",
       "<style scoped>\n",
       "    .dataframe tbody tr th:only-of-type {\n",
       "        vertical-align: middle;\n",
       "    }\n",
       "\n",
       "    .dataframe tbody tr th {\n",
       "        vertical-align: top;\n",
       "    }\n",
       "\n",
       "    .dataframe thead th {\n",
       "        text-align: right;\n",
       "    }\n",
       "</style>\n",
       "<table border=\"1\" class=\"dataframe\">\n",
       "  <thead>\n",
       "    <tr style=\"text-align: right;\">\n",
       "      <th></th>\n",
       "      <th>Ngay</th>\n",
       "      <th>1</th>\n",
       "      <th>2</th>\n",
       "      <th>3</th>\n",
       "      <th>4</th>\n",
       "      <th>5</th>\n",
       "      <th>6</th>\n",
       "      <th>7</th>\n",
       "      <th>8</th>\n",
       "      <th>9</th>\n",
       "      <th>...</th>\n",
       "      <th>39</th>\n",
       "      <th>40</th>\n",
       "      <th>41</th>\n",
       "      <th>42</th>\n",
       "      <th>43</th>\n",
       "      <th>44</th>\n",
       "      <th>45</th>\n",
       "      <th>46</th>\n",
       "      <th>47</th>\n",
       "      <th>48</th>\n",
       "    </tr>\n",
       "  </thead>\n",
       "  <tbody>\n",
       "    <tr>\n",
       "      <th>0</th>\n",
       "      <td>01/01/2021</td>\n",
       "      <td>964.4</td>\n",
       "      <td>964.4</td>\n",
       "      <td>964.4</td>\n",
       "      <td>964.4</td>\n",
       "      <td>964.4</td>\n",
       "      <td>964.4</td>\n",
       "      <td>964.4</td>\n",
       "      <td>964.4</td>\n",
       "      <td>964.4</td>\n",
       "      <td>...</td>\n",
       "      <td>964.4</td>\n",
       "      <td>964.4</td>\n",
       "      <td>964.4</td>\n",
       "      <td>964.4</td>\n",
       "      <td>964.4</td>\n",
       "      <td>964.4</td>\n",
       "      <td>964.4</td>\n",
       "      <td>964.4</td>\n",
       "      <td>964.4</td>\n",
       "      <td>964.4</td>\n",
       "    </tr>\n",
       "    <tr>\n",
       "      <th>1</th>\n",
       "      <td>01/02/2021</td>\n",
       "      <td>1019.7</td>\n",
       "      <td>1019.7</td>\n",
       "      <td>1019.7</td>\n",
       "      <td>1019.7</td>\n",
       "      <td>1019.7</td>\n",
       "      <td>1019.7</td>\n",
       "      <td>1019.7</td>\n",
       "      <td>1019.7</td>\n",
       "      <td>1019.7</td>\n",
       "      <td>...</td>\n",
       "      <td>1019.7</td>\n",
       "      <td>1019.7</td>\n",
       "      <td>1019.7</td>\n",
       "      <td>1019.7</td>\n",
       "      <td>1019.7</td>\n",
       "      <td>1019.7</td>\n",
       "      <td>1019.7</td>\n",
       "      <td>1019.7</td>\n",
       "      <td>1019.7</td>\n",
       "      <td>1019.7</td>\n",
       "    </tr>\n",
       "    <tr>\n",
       "      <th>2</th>\n",
       "      <td>01/03/2021</td>\n",
       "      <td>988.4</td>\n",
       "      <td>988.4</td>\n",
       "      <td>988.4</td>\n",
       "      <td>988.4</td>\n",
       "      <td>988.4</td>\n",
       "      <td>988.4</td>\n",
       "      <td>988.4</td>\n",
       "      <td>988.4</td>\n",
       "      <td>988.4</td>\n",
       "      <td>...</td>\n",
       "      <td>988.4</td>\n",
       "      <td>988.4</td>\n",
       "      <td>988.4</td>\n",
       "      <td>988.4</td>\n",
       "      <td>988.4</td>\n",
       "      <td>988.4</td>\n",
       "      <td>988.4</td>\n",
       "      <td>988.4</td>\n",
       "      <td>988.4</td>\n",
       "      <td>988.4</td>\n",
       "    </tr>\n",
       "    <tr>\n",
       "      <th>3</th>\n",
       "      <td>01/04/2021</td>\n",
       "      <td>1002.0</td>\n",
       "      <td>1002.0</td>\n",
       "      <td>1002.0</td>\n",
       "      <td>1002.0</td>\n",
       "      <td>1002.0</td>\n",
       "      <td>1002.0</td>\n",
       "      <td>1002.0</td>\n",
       "      <td>1002.0</td>\n",
       "      <td>1002.1</td>\n",
       "      <td>...</td>\n",
       "      <td>1010.8</td>\n",
       "      <td>1010.8</td>\n",
       "      <td>1010.8</td>\n",
       "      <td>1010.8</td>\n",
       "      <td>1010.8</td>\n",
       "      <td>1010.8</td>\n",
       "      <td>1010.8</td>\n",
       "      <td>1010.8</td>\n",
       "      <td>1010.8</td>\n",
       "      <td>1010.8</td>\n",
       "    </tr>\n",
       "    <tr>\n",
       "      <th>4</th>\n",
       "      <td>01/05/2021</td>\n",
       "      <td>1061.5</td>\n",
       "      <td>1061.5</td>\n",
       "      <td>1061.5</td>\n",
       "      <td>1061.5</td>\n",
       "      <td>1061.5</td>\n",
       "      <td>1061.5</td>\n",
       "      <td>1061.5</td>\n",
       "      <td>1061.5</td>\n",
       "      <td>1061.5</td>\n",
       "      <td>...</td>\n",
       "      <td>1061.5</td>\n",
       "      <td>1061.5</td>\n",
       "      <td>1061.5</td>\n",
       "      <td>1061.5</td>\n",
       "      <td>1061.5</td>\n",
       "      <td>1061.5</td>\n",
       "      <td>1061.5</td>\n",
       "      <td>1061.5</td>\n",
       "      <td>1061.5</td>\n",
       "      <td>1061.5</td>\n",
       "    </tr>\n",
       "  </tbody>\n",
       "</table>\n",
       "<p>5 rows × 49 columns</p>\n",
       "</div>"
      ],
      "text/plain": [
       "         Ngay       1       2       3       4       5       6       7       8  \\\n",
       "0  01/01/2021   964.4   964.4   964.4   964.4   964.4   964.4   964.4   964.4   \n",
       "1  01/02/2021  1019.7  1019.7  1019.7  1019.7  1019.7  1019.7  1019.7  1019.7   \n",
       "2  01/03/2021   988.4   988.4   988.4   988.4   988.4   988.4   988.4   988.4   \n",
       "3  01/04/2021  1002.0  1002.0  1002.0  1002.0  1002.0  1002.0  1002.0  1002.0   \n",
       "4  01/05/2021  1061.5  1061.5  1061.5  1061.5  1061.5  1061.5  1061.5  1061.5   \n",
       "\n",
       "        9  ...      39      40      41      42      43      44      45  \\\n",
       "0   964.4  ...   964.4   964.4   964.4   964.4   964.4   964.4   964.4   \n",
       "1  1019.7  ...  1019.7  1019.7  1019.7  1019.7  1019.7  1019.7  1019.7   \n",
       "2   988.4  ...   988.4   988.4   988.4   988.4   988.4   988.4   988.4   \n",
       "3  1002.1  ...  1010.8  1010.8  1010.8  1010.8  1010.8  1010.8  1010.8   \n",
       "4  1061.5  ...  1061.5  1061.5  1061.5  1061.5  1061.5  1061.5  1061.5   \n",
       "\n",
       "       46      47      48  \n",
       "0   964.4   964.4   964.4  \n",
       "1  1019.7  1019.7  1019.7  \n",
       "2   988.4   988.4   988.4  \n",
       "3  1010.8  1010.8  1010.8  \n",
       "4  1061.5  1061.5  1061.5  \n",
       "\n",
       "[5 rows x 49 columns]"
      ]
     },
     "execution_count": 78,
     "metadata": {},
     "output_type": "execute_result"
    }
   ],
   "source": [
    "df = pd.read_csv('Gia SMP va SMPcap 2021(Giá thị trường SMP).csv')\n",
    "df.head(5)"
   ]
  },
  {
   "cell_type": "code",
   "execution_count": 79,
   "id": "8afd92a5-87dd-44ca-8ae2-b3cee0c2dfcf",
   "metadata": {},
   "outputs": [],
   "source": [
    "feats = ['8', '9']"
   ]
  },
  {
   "cell_type": "code",
   "execution_count": 80,
   "id": "4ada1541-c9f2-440e-a05b-7ccd08bba670",
   "metadata": {},
   "outputs": [
    {
     "data": {
      "text/html": [
       "<div>\n",
       "<style scoped>\n",
       "    .dataframe tbody tr th:only-of-type {\n",
       "        vertical-align: middle;\n",
       "    }\n",
       "\n",
       "    .dataframe tbody tr th {\n",
       "        vertical-align: top;\n",
       "    }\n",
       "\n",
       "    .dataframe thead th {\n",
       "        text-align: right;\n",
       "    }\n",
       "</style>\n",
       "<table border=\"1\" class=\"dataframe\">\n",
       "  <thead>\n",
       "    <tr style=\"text-align: right;\">\n",
       "      <th></th>\n",
       "      <th>8</th>\n",
       "      <th>9</th>\n",
       "    </tr>\n",
       "  </thead>\n",
       "  <tbody>\n",
       "    <tr>\n",
       "      <th>0</th>\n",
       "      <td>964.4</td>\n",
       "      <td>964.4</td>\n",
       "    </tr>\n",
       "    <tr>\n",
       "      <th>1</th>\n",
       "      <td>1019.7</td>\n",
       "      <td>1019.7</td>\n",
       "    </tr>\n",
       "    <tr>\n",
       "      <th>2</th>\n",
       "      <td>988.4</td>\n",
       "      <td>988.4</td>\n",
       "    </tr>\n",
       "    <tr>\n",
       "      <th>3</th>\n",
       "      <td>1002.0</td>\n",
       "      <td>1002.1</td>\n",
       "    </tr>\n",
       "    <tr>\n",
       "      <th>4</th>\n",
       "      <td>1061.5</td>\n",
       "      <td>1061.5</td>\n",
       "    </tr>\n",
       "  </tbody>\n",
       "</table>\n",
       "</div>"
      ],
      "text/plain": [
       "        8       9\n",
       "0   964.4   964.4\n",
       "1  1019.7  1019.7\n",
       "2   988.4   988.4\n",
       "3  1002.0  1002.1\n",
       "4  1061.5  1061.5"
      ]
     },
     "execution_count": 80,
     "metadata": {},
     "output_type": "execute_result"
    }
   ],
   "source": [
    "df[feats].head()"
   ]
  },
  {
   "cell_type": "code",
   "execution_count": 81,
   "id": "a34b1498-7f90-4cb2-92b2-81e42fc6b211",
   "metadata": {},
   "outputs": [
    {
     "data": {
      "text/plain": [
       "8    0.0\n",
       "9    0.0\n",
       "dtype: float64"
      ]
     },
     "execution_count": 81,
     "metadata": {},
     "output_type": "execute_result"
    }
   ],
   "source": [
    "df[feats].isna().mean()"
   ]
  },
  {
   "cell_type": "code",
   "execution_count": 82,
   "id": "3748296e-d9fb-4e0d-95b2-ce732eff2c02",
   "metadata": {},
   "outputs": [
    {
     "data": {
      "image/png": "[encoded data removed]",
      "text/plain": [
       "<Figure size 400x400 with 2 Axes>"
      ]
     },
     "metadata": {},
     "output_type": "display_data"
    }
   ],
   "source": [
    "mask = np.triu(np.ones_like(df[feats].corr(), dtype=bool))\n",
    "cmap = sns.diverging_palette(230, 20, as_cmap=True)\n",
    "f, ax = plt.subplots(figsize=(4,4))\n",
    "sns.heatmap(df[feats].corr(), mask=mask, vmax=1, vmin=0, center=0,annot=True,fmt='.2f');"
   ]
  },
  {
   "cell_type": "code",
   "execution_count": 83,
   "id": "64f2216f-cf37-4972-a156-c6ded86d0c91",
   "metadata": {},
   "outputs": [
    {
     "data": {
      "application/vnd.plotly.v1+json": {
       "config": {
        "plotlyServerURL": "https://plot.ly"
       },
       "data": [
        {
         "hovertemplate": "x=%{x}<br>y=%{y}<extra></extra>",
         "legendgroup": "",
         "line": {
          "color": "black",
          "dash": "solid"
         },
         "marker": {
          "symbol": "circle"
         },
         "mode": "lines",
         "name": "",
         "orientation": "v",
         "showlegend": false,
         "type": "scatter",
         "x": [
          "01/01/2021",
          "01/02/2021",
          "01/03/2021",
          "01/04/2021",
          "01/05/2021",
          "01/06/2021",
          "01/07/2021",
          "01/08/2021",
          "01/09/2021",
          "01/10/2021",
          "01/11/2021",
          "01/12/2021",
          "13/01/2021",
          "14/01/2021",
          "15/01/2021",
          "16/01/2021",
          "17/01/2021",
          "18/01/2021",
          "19/01/2021",
          "20/01/2021",
          "21/01/2021",
          "22/01/2021",
          "23/01/2021",
          "24/01/2021",
          "25/01/2021",
          "26/01/2021",
          "27/01/2021",
          "28/01/2021",
          "29/01/2021",
          "30/01/2021",
          "31/01/2021",
          "02/01/2021",
          "02/02/2021",
          "02/03/2021",
          "02/04/2021",
          "02/05/2021",
          "02/06/2021",
          "02/07/2021",
          "02/08/2021",
          "02/09/2021",
          "02/10/2021",
          "02/11/2021",
          "02/12/2021",
          "13/02/2021",
          "14/02/2021",
          "15/02/2021",
          "16/02/2021",
          "17/02/2021",
          "18/02/2021",
          "19/02/2021",
          "20/02/2021",
          "21/02/2021",
          "22/02/2021",
          "23/02/2021",
          "24/02/2021",
          "25/02/2021",
          "26/02/2021",
          "27/02/2021",
          "28/02/2021",
          "03/01/2021",
          "03/02/2021",
          "03/03/2021",
          "03/04/2021",
          "03/05/2021",
          "03/06/2021",
          "03/07/2021",
          "03/08/2021",
          "03/09/2021",
          "03/10/2021",
          "03/11/2021",
          "03/12/2021",
          "13/03/2021",
          "14/03/2021",
          "15/03/2021",
          "16/03/2021",
          "17/03/2021",
          "18/03/2021",
          "19/03/2021",
          "20/03/2021",
          "21/03/2021",
          "22/03/2021",
          "23/03/2021",
          "24/03/2021",
          "25/03/2021",
          "26/03/2021",
          "27/03/2021",
          "28/03/2021",
          "29/03/2021",
          "30/03/2021",
          "31/03/2021",
          "04/01/2021",
          "04/02/2021",
          "04/03/2021",
          "04/04/2021",
          "04/05/2021",
          "04/06/2021",
          "04/07/2021",
          "04/08/2021",
          "04/09/2021",
          "04/10/2021",
          "04/11/2021",
          "04/12/2021",
          "13/04/2021",
          "14/04/2021",
          "15/04/2021",
          "16/04/2021",
          "17/04/2021",
          "18/04/2021",
          "19/04/2021",
          "20/04/2021",
          "21/04/2021",
          "22/04/2021",
          "23/04/2021",
          "24/04/2021",
          "25/04/2021",
          "26/04/2021",
          "27/04/2021",
          "28/04/2021",
          "29/04/2021",
          "30/04/2021",
          "05/01/2021",
          "05/02/2021",
          "05/03/2021",
          "05/04/2021",
          "05/05/2021",
          "05/06/2021",
          "05/07/2021",
          "05/08/2021",
          "05/09/2021",
          "05/10/2021",
          "05/11/2021",
          "05/12/2021",
          "13/05/2021",
          "14/05/2021",
          "15/05/2021",
          "16/05/2021",
          "17/05/2021",
          "18/05/2021",
          "19/05/2021",
          "20/05/2021",
          "21/05/2021",
          "22/05/2021",
          "23/05/2021",
          "24/05/2021",
          "25/05/2021",
          "26/05/2021",
          "27/05/2021",
          "28/05/2021",
          "29/05/2021",
          "30/05/2021",
          "31/05/2021",
          "06/01/2021",
          "06/02/2021",
          "06/03/2021",
          "06/04/2021",
          "06/05/2021",
          "06/06/2021",
          "06/07/2021",
          "06/08/2021",
          "06/09/2021",
          "06/10/2021",
          "06/11/2021",
          "06/12/2021",
          "13/06/2021",
          "14/06/2021",
          "15/06/2021",
          "16/06/2021",
          "17/06/2021",
          "18/06/2021",
          "19/06/2021",
          "20/06/2021",
          "21/06/2021",
          "22/06/2021",
          "23/06/2021",
          "24/06/2021",
          "25/06/2021",
          "26/06/2021",
          "27/06/2021",
          "28/06/2021",
          "29/06/2021",
          "30/06/2021",
          "07/01/2021",
          "07/02/2021",
          "07/03/2021",
          "07/04/2021",
          "07/05/2021",
          "07/06/2021",
          "07/07/2021",
          "07/08/2021",
          "07/09/2021",
          "07/10/2021",
          "07/11/2021",
          "07/12/2021",
          "13/07/2021",
          "14/07/2021",
          "15/07/2021",
          "16/07/2021",
          "17/07/2021",
          "18/07/2021",
          "19/07/2021",
          "20/07/2021",
          "21/07/2021",
          "22/07/2021",
          "23/07/2021",
          "24/07/2021",
          "25/07/2021",
          "26/07/2021",
          "27/07/2021",
          "28/07/2021",
          "29/07/2021",
          "30/07/2021",
          "31/07/2021",
          "08/01/2021",
          "08/02/2021",
          "08/03/2021",
          "08/04/2021",
          "08/05/2021",
          "08/06/2021",
          "08/07/2021",
          "08/08/2021",
          "08/09/2021",
          "08/10/2021",
          "08/11/2021",
          "08/12/2021",
          "13/08/2021",
          "14/08/2021",
          "15/08/2021",
          "16/08/2021",
          "17/08/2021",
          "18/08/2021",
          "19/08/2021",
          "20/08/2021",
          "21/08/2021",
          "22/08/2021",
          "23/08/2021",
          "24/08/2021",
          "25/08/2021",
          "26/08/2021",
          "27/08/2021",
          "28/08/2021",
          "29/08/2021",
          "30/08/2021",
          "31/08/2021",
          "09/01/2021",
          "09/02/2021",
          "09/03/2021",
          "09/04/2021",
          "09/05/2021",
          "09/06/2021",
          "09/07/2021",
          "09/08/2021",
          "09/09/2021",
          "09/10/2021",
          "09/11/2021",
          "09/12/2021",
          "13/09/2021",
          "14/09/2021",
          "15/09/2021",
          "16/09/2021",
          "17/09/2021",
          "18/09/2021",
          "19/09/2021",
          "20/09/2021",
          "21/09/2021",
          "22/09/2021",
          "23/09/2021",
          "24/09/2021",
          "25/09/2021",
          "26/09/2021",
          "27/09/2021",
          "28/09/2021",
          "29/09/2021",
          "30/09/2021",
          "10/01/2021",
          "10/02/2021",
          "10/03/2021",
          "10/04/2021",
          "10/05/2021",
          "10/06/2021",
          "10/07/2021",
          "10/08/2021",
          "10/09/2021",
          "10/10/2021",
          "10/11/2021",
          "10/12/2021",
          "13/10/2021",
          "14/10/2021",
          "15/10/2021",
          "16/10/2021",
          "17/10/2021",
          "18/10/2021",
          "19/10/2021",
          "20/10/2021",
          "21/10/2021",
          "22/10/2021",
          "23/10/2021",
          "24/10/2021",
          "25/10/2021",
          "26/10/2021",
          "27/10/2021",
          "28/10/2021",
          "29/10/2021",
          "30/10/2021",
          "31/10/2021",
          "11/01/2021",
          "11/02/2021",
          "11/03/2021",
          "11/04/2021",
          "11/05/2021",
          "11/06/2021",
          "11/07/2021",
          "11/08/2021",
          "11/09/2021",
          "11/10/2021",
          "11/11/2021",
          "11/12/2021",
          "13/11/2021",
          "14/11/2021",
          "15/11/2021",
          "16/11/2021",
          "17/11/2021",
          "18/11/2021",
          "19/11/2021",
          "20/11/2021",
          "21/11/2021",
          "22/11/2021",
          "23/11/2021",
          "24/11/2021",
          "25/11/2021",
          "26/11/2021",
          "27/11/2021",
          "28/11/2021",
          "29/11/2021",
          "30/11/2021",
          "12/01/2021",
          "12/02/2021",
          "12/03/2021",
          "12/04/2021",
          "12/05/2021",
          "12/06/2021",
          "12/07/2021",
          "12/08/2021",
          "12/09/2021",
          "12/10/2021",
          "12/11/2021",
          "12/12/2021",
          "13/12/2021",
          "14/12/2021",
          "15/12/2021",
          "16/12/2021",
          "17/12/2021",
          "18/12/2021",
          "19/12/2021",
          "20/12/2021",
          "21/12/2021",
          "22/12/2021",
          "23/12/2021",
          "24/12/2021",
          "25/12/2021",
          "26/12/2021",
          "27/12/2021",
          "28/12/2021",
          "29/12/2021",
          "30/12/2021",
          "31/12/2021"
         ],
         "xaxis": "x",
         "y": [
          964.4,
          1019.7,
          988.4,
          1002,
          1061.5,
          1061.5,
          1061.5,
          1061.5,
          1064.1,
          966.7,
          1002,
          1066.6,
          1061.5,
          1061.5,
          1061.5,
          1066.6,
          988.4,
          1058,
          1069.4,
          1069.4,
          1069.4,
          1061.5,
          1019.7,
          988.3,
          988.4,
          988.4,
          966.7,
          963.6,
          945.5,
          918.6,
          966.7,
          964.4,
          966.8,
          966.7,
          964.4,
          964.4,
          963.6,
          963.6,
          963.6,
          912.1,
          912.1,
          916.8,
          888.5,
          894.6,
          912.1,
          890.2,
          963.6,
          963.6,
          964.4,
          964.4,
          964.4,
          963.6,
          988.3,
          988.3,
          988.3,
          988.4,
          1002,
          988.4,
          964.4,
          988.3,
          1019.7,
          988.4,
          1002,
          1002.1,
          988.4,
          966.7,
          1002,
          1019.7,
          1019.7,
          1061.5,
          1002.1,
          1002,
          1019.7,
          1002.1,
          1061.5,
          1061.5,
          1069.4,
          1069.4,
          1061.5,
          966.7,
          1022.6,
          1022.6,
          1022.6,
          1064,
          1061.5,
          1061.5,
          966.7,
          1002,
          1061.5,
          1022.6,
          988.4,
          1002,
          988.4,
          966.7,
          1002,
          1061.5,
          1061.5,
          1061.5,
          1022.6,
          966.7,
          966.7,
          966.7,
          1061.5,
          1069.4,
          1064.1,
          1069.4,
          1069.4,
          1022.6,
          1069.4,
          1069.4,
          1069.4,
          1069.4,
          1069.4,
          1069.4,
          966.8,
          1061.5,
          1069.4,
          1069.4,
          1064,
          945.5,
          930.6,
          966.7,
          1061.5,
          1069.4,
          1061.5,
          1022.6,
          988.4,
          1002,
          964.4,
          1022.6,
          1061.5,
          1069.4,
          1069.4,
          1069.4,
          1069.4,
          1022.6,
          1069.4,
          1069.4,
          1061.5,
          1069.4,
          1069.4,
          1069.4,
          1061.5,
          1069.4,
          1069.4,
          1061.5,
          1061.5,
          1061.5,
          1002.1,
          990.9,
          1061.5,
          990.9,
          990.9,
          990.9,
          990.9,
          966.7,
          966.7,
          1022.6,
          1061.5,
          1069.4,
          1069.4,
          1061.5,
          990.9,
          990.9,
          990.9,
          966.7,
          1022.6,
          1022.6,
          1069.4,
          1064,
          990.9,
          966.7,
          1002,
          1022.6,
          1061.5,
          1069.4,
          1064.1,
          966.7,
          966.7,
          966.7,
          990.9,
          945.5,
          964.4,
          966.7,
          963.6,
          990.9,
          1061.5,
          966.8,
          990.9,
          1022.6,
          1022.6,
          964.5,
          966.8,
          990.9,
          990.9,
          1069.4,
          1069.4,
          1061.5,
          966.7,
          1069.4,
          1403,
          1565.5,
          1403,
          1520.2,
          1403,
          1087.5,
          1379.4,
          1331.3,
          1316.8,
          1061.5,
          990.9,
          964.4,
          945.5,
          990.9,
          1061.5,
          1064.1,
          1069.4,
          1069.4,
          1061.5,
          990.9,
          1069.4,
          1403,
          1422.9,
          1422.9,
          1423.1,
          1403,
          1379.4,
          1565.1,
          1503.4,
          1422.9,
          1403,
          1379.4,
          1316.9,
          1064.1,
          1069.4,
          1294,
          1293.5,
          1069.4,
          1069.4,
          990.9,
          945.5,
          1002,
          1022.6,
          1022.6,
          885.7,
          1022.6,
          1069.4,
          1022.6,
          1069.4,
          1061.5,
          1061.5,
          1061.5,
          1293.5,
          1069.4,
          966.7,
          1061.5,
          1069.4,
          1022.6,
          1002,
          1022.6,
          1002,
          945.5,
          990.9,
          1022.6,
          1022.6,
          1022.6,
          990.9,
          966.7,
          930.6,
          964.4,
          1002,
          1022.6,
          1002.1,
          1022.6,
          990.9,
          945.5,
          1002,
          1022.6,
          966.7,
          1022.6,
          1069.4,
          1022.6,
          964.4,
          1022.6,
          1069.4,
          1061.5,
          1064.1,
          1002,
          990.9,
          963.6,
          1002,
          1069.4,
          1069.4,
          1061.5,
          1061.5,
          1002,
          966.7,
          1002,
          1022.6,
          1022.6,
          990.9,
          1002,
          990.9,
          945.4,
          1002,
          1061.5,
          1002,
          1022.6,
          1002,
          990.9,
          963.6,
          990.9,
          1002,
          1069.4,
          1069.4,
          1061.5,
          1002,
          966.7,
          1069.4,
          1069.4,
          1069.4,
          1061.5,
          1069.4,
          1061.5,
          966.7,
          1022.6,
          1061.5,
          1002,
          1022.6,
          1002.1,
          966.8,
          963.7,
          966.7,
          990.9,
          1002.1,
          1022.6,
          1002,
          990.9,
          964.4,
          990.9,
          1002,
          1022.6,
          1061.5,
          1061.5,
          1022.6,
          966.7,
          1022.6,
          1061.5,
          1064.1,
          1061.5,
          1061.5,
          1022.6,
          990.9,
          1043.3,
          1061.5,
          1022.6,
          1022.6,
          1022.6,
          1002,
          966.7,
          1002,
          1002,
          1061.5,
          1022.6,
          1022.6
         ],
         "yaxis": "y"
        }
       ],
       "layout": {
        "autosize": true,
        "legend": {
         "tracegroupgap": 0
        },
        "margin": {
         "t": 60
        },
        "plot_bgcolor": "rgba(53,223,0,0.8)",
        "template": {
         "data": {
          "bar": [
           {
            "error_x": {
             "color": "#2a3f5f"
            },
            "error_y": {
             "color": "#2a3f5f"
            },
            "marker": {
             "line": {
              "color": "#E5ECF6",
              "width": 0.5
             },
             "pattern": {
              "fillmode": "overlay",
              "size": 10,
              "solidity": 0.2
             }
            },
            "type": "bar"
           }
          ],
          "barpolar": [
           {
            "marker": {
             "line": {
              "color": "#E5ECF6",
              "width": 0.5
             },
             "pattern": {
              "fillmode": "overlay",
              "size": 10,
              "solidity": 0.2
             }
            },
            "type": "barpolar"
           }
          ],
          "carpet": [
           {
            "aaxis": {
             "endlinecolor": "#2a3f5f",
             "gridcolor": "white",
             "linecolor": "white",
             "minorgridcolor": "white",
             "startlinecolor": "#2a3f5f"
            },
            "baxis": {
             "endlinecolor": "#2a3f5f",
             "gridcolor": "white",
             "linecolor": "white",
             "minorgridcolor": "white",
             "startlinecolor": "#2a3f5f"
            },
            "type": "carpet"
           }
          ],
          "choropleth": [
           {
            "colorbar": {
             "outlinewidth": 0,
             "ticks": ""
            },
            "type": "choropleth"
           }
          ],
          "contour": [
           {
            "colorbar": {
             "outlinewidth": 0,
             "ticks": ""
            },
            "colorscale": [
             [
              0,
              "#0d0887"
             ],
             [
              0.1111111111111111,
              "#46039f"
             ],
             [
              0.2222222222222222,
              "#7201a8"
             ],
             [
              0.3333333333333333,
              "#9c179e"
             ],
             [
              0.4444444444444444,
              "#bd3786"
             ],
             [
              0.5555555555555556,
              "#d8576b"
             ],
             [
              0.6666666666666666,
              "#ed7953"
             ],
             [
              0.7777777777777778,
              "#fb9f3a"
             ],
             [
              0.8888888888888888,
              "#fdca26"
             ],
             [
              1,
              "#f0f921"
             ]
            ],
            "type": "contour"
           }
          ],
          "contourcarpet": [
           {
            "colorbar": {
             "outlinewidth": 0,
             "ticks": ""
            },
            "type": "contourcarpet"
           }
          ],
          "heatmap": [
           {
            "colorbar": {
             "outlinewidth": 0,
             "ticks": ""
            },
            "colorscale": [
             [
              0,
              "#0d0887"
             ],
             [
              0.1111111111111111,
              "#46039f"
             ],
             [
              0.2222222222222222,
              "#7201a8"
             ],
             [
              0.3333333333333333,
              "#9c179e"
             ],
             [
              0.4444444444444444,
              "#bd3786"
             ],
             [
              0.5555555555555556,
              "#d8576b"
             ],
             [
              0.6666666666666666,
              "#ed7953"
             ],
             [
              0.7777777777777778,
              "#fb9f3a"
             ],
             [
              0.8888888888888888,
              "#fdca26"
             ],
             [
              1,
              "#f0f921"
             ]
            ],
            "type": "heatmap"
           }
          ],
          "heatmapgl": [
           {
            "colorbar": {
             "outlinewidth": 0,
             "ticks": ""
            },
            "colorscale": [
             [
              0,
              "#0d0887"
             ],
             [
              0.1111111111111111,
              "#46039f"
             ],
             [
              0.2222222222222222,
              "#7201a8"
             ],
             [
              0.3333333333333333,
              "#9c179e"
             ],
             [
              0.4444444444444444,
              "#bd3786"
             ],
             [
              0.5555555555555556,
              "#d8576b"
             ],
             [
              0.6666666666666666,
              "#ed7953"
             ],
             [
              0.7777777777777778,
              "#fb9f3a"
             ],
             [
              0.8888888888888888,
              "#fdca26"
             ],
             [
              1,
              "#f0f921"
             ]
            ],
            "type": "heatmapgl"
           }
          ],
          "histogram": [
           {
            "marker": {
             "pattern": {
              "fillmode": "overlay",
              "size": 10,
              "solidity": 0.2
             }
            },
            "type": "histogram"
           }
          ],
          "histogram2d": [
           {
            "colorbar": {
             "outlinewidth": 0,
             "ticks": ""
            },
            "colorscale": [
             [
              0,
              "#0d0887"
             ],
             [
              0.1111111111111111,
              "#46039f"
             ],
             [
              0.2222222222222222,
              "#7201a8"
             ],
             [
              0.3333333333333333,
              "#9c179e"
             ],
             [
              0.4444444444444444,
              "#bd3786"
             ],
             [
              0.5555555555555556,
              "#d8576b"
             ],
             [
              0.6666666666666666,
              "#ed7953"
             ],
             [
              0.7777777777777778,
              "#fb9f3a"
             ],
             [
              0.8888888888888888,
              "#fdca26"
             ],
             [
              1,
              "#f0f921"
             ]
            ],
            "type": "histogram2d"
           }
          ],
          "histogram2dcontour": [
           {
            "colorbar": {
             "outlinewidth": 0,
             "ticks": ""
            },
            "colorscale": [
             [
              0,
              "#0d0887"
             ],
             [
              0.1111111111111111,
              "#46039f"
             ],
             [
              0.2222222222222222,
              "#7201a8"
             ],
             [
              0.3333333333333333,
              "#9c179e"
             ],
             [
              0.4444444444444444,
              "#bd3786"
             ],
             [
              0.5555555555555556,
              "#d8576b"
             ],
             [
              0.6666666666666666,
              "#ed7953"
             ],
             [
              0.7777777777777778,
              "#fb9f3a"
             ],
             [
              0.8888888888888888,
              "#fdca26"
             ],
             [
              1,
              "#f0f921"
             ]
            ],
            "type": "histogram2dcontour"
           }
          ],
          "mesh3d": [
           {
            "colorbar": {
             "outlinewidth": 0,
             "ticks": ""
            },
            "type": "mesh3d"
           }
          ],
          "parcoords": [
           {
            "line": {
             "colorbar": {
              "outlinewidth": 0,
              "ticks": ""
             }
            },
            "type": "parcoords"
           }
          ],
          "pie": [
           {
            "automargin": true,
            "type": "pie"
           }
          ],
          "scatter": [
           {
            "fillpattern": {
             "fillmode": "overlay",
             "size": 10,
             "solidity": 0.2
            },
            "type": "scatter"
           }
          ],
          "scatter3d": [
           {
            "line": {
             "colorbar": {
              "outlinewidth": 0,
              "ticks": ""
             }
            },
            "marker": {
             "colorbar": {
              "outlinewidth": 0,
              "ticks": ""
             }
            },
            "type": "scatter3d"
           }
          ],
          "scattercarpet": [
           {
            "marker": {
             "colorbar": {
              "outlinewidth": 0,
              "ticks": ""
             }
            },
            "type": "scattercarpet"
           }
          ],
          "scattergeo": [
           {
            "marker": {
             "colorbar": {
              "outlinewidth": 0,
              "ticks": ""
             }
            },
            "type": "scattergeo"
           }
          ],
          "scattergl": [
           {
            "marker": {
             "colorbar": {
              "outlinewidth": 0,
              "ticks": ""
             }
            },
            "type": "scattergl"
           }
          ],
          "scattermapbox": [
           {
            "marker": {
             "colorbar": {
              "outlinewidth": 0,
              "ticks": ""
             }
            },
            "type": "scattermapbox"
           }
          ],
          "scatterpolar": [
           {
            "marker": {
             "colorbar": {
              "outlinewidth": 0,
              "ticks": ""
             }
            },
            "type": "scatterpolar"
           }
          ],
          "scatterpolargl": [
           {
            "marker": {
             "colorbar": {
              "outlinewidth": 0,
              "ticks": ""
             }
            },
            "type": "scatterpolargl"
           }
          ],
          "scatterternary": [
           {
            "marker": {
             "colorbar": {
              "outlinewidth": 0,
              "ticks": ""
             }
            },
            "type": "scatterternary"
           }
          ],
          "surface": [
           {
            "colorbar": {
             "outlinewidth": 0,
             "ticks": ""
            },
            "colorscale": [
             [
              0,
              "#0d0887"
             ],
             [
              0.1111111111111111,
              "#46039f"
             ],
             [
              0.2222222222222222,
              "#7201a8"
             ],
             [
              0.3333333333333333,
              "#9c179e"
             ],
             [
              0.4444444444444444,
              "#bd3786"
             ],
             [
              0.5555555555555556,
              "#d8576b"
             ],
             [
              0.6666666666666666,
              "#ed7953"
             ],
             [
              0.7777777777777778,
              "#fb9f3a"
             ],
             [
              0.8888888888888888,
              "#fdca26"
             ],
             [
              1,
              "#f0f921"
             ]
            ],
            "type": "surface"
           }
          ],
          "table": [
           {
            "cells": {
             "fill": {
              "color": "#EBF0F8"
             },
             "line": {
              "color": "white"
             }
            },
            "header": {
             "fill": {
              "color": "#C8D4E3"
             },
             "line": {
              "color": "white"
             }
            },
            "type": "table"
           }
          ]
         },
         "layout": {
          "annotationdefaults": {
           "arrowcolor": "#2a3f5f",
           "arrowhead": 0,
           "arrowwidth": 1
          },
          "autotypenumbers": "strict",
          "coloraxis": {
           "colorbar": {
            "outlinewidth": 0,
            "ticks": ""
           }
          },
          "colorscale": {
           "diverging": [
            [
             0,
             "#8e0152"
            ],
            [
             0.1,
             "#c51b7d"
            ],
            [
             0.2,
             "#de77ae"
            ],
            [
             0.3,
             "#f1b6da"
            ],
            [
             0.4,
             "#fde0ef"
            ],
            [
             0.5,
             "#f7f7f7"
            ],
            [
             0.6,
             "#e6f5d0"
            ],
            [
             0.7,
             "#b8e186"
            ],
            [
             0.8,
             "#7fbc41"
            ],
            [
             0.9,
             "#4d9221"
            ],
            [
             1,
             "#276419"
            ]
           ],
           "sequential": [
            [
             0,
             "#0d0887"
            ],
            [
             0.1111111111111111,
             "#46039f"
            ],
            [
             0.2222222222222222,
             "#7201a8"
            ],
            [
             0.3333333333333333,
             "#9c179e"
            ],
            [
             0.4444444444444444,
             "#bd3786"
            ],
            [
             0.5555555555555556,
             "#d8576b"
            ],
            [
             0.6666666666666666,
             "#ed7953"
            ],
            [
             0.7777777777777778,
             "#fb9f3a"
            ],
            [
             0.8888888888888888,
             "#fdca26"
            ],
            [
             1,
             "#f0f921"
            ]
           ],
           "sequentialminus": [
            [
             0,
             "#0d0887"
            ],
            [
             0.1111111111111111,
             "#46039f"
            ],
            [
             0.2222222222222222,
             "#7201a8"
            ],
            [
             0.3333333333333333,
             "#9c179e"
            ],
            [
             0.4444444444444444,
             "#bd3786"
            ],
            [
             0.5555555555555556,
             "#d8576b"
            ],
            [
             0.6666666666666666,
             "#ed7953"
            ],
            [
             0.7777777777777778,
             "#fb9f3a"
            ],
            [
             0.8888888888888888,
             "#fdca26"
            ],
            [
             1,
             "#f0f921"
            ]
           ]
          },
          "colorway": [
           "#636efa",
           "#EF553B",
           "#00cc96",
           "#ab63fa",
           "#FFA15A",
           "#19d3f3",
           "#FF6692",
           "#B6E880",
           "#FF97FF",
           "#FECB52"
          ],
          "font": {
           "color": "#2a3f5f"
          },
          "geo": {
           "bgcolor": "white",
           "lakecolor": "white",
           "landcolor": "#E5ECF6",
           "showlakes": true,
           "showland": true,
           "subunitcolor": "white"
          },
          "hoverlabel": {
           "align": "left"
          },
          "hovermode": "closest",
          "mapbox": {
           "style": "light"
          },
          "paper_bgcolor": "white",
          "plot_bgcolor": "#E5ECF6",
          "polar": {
           "angularaxis": {
            "gridcolor": "white",
            "linecolor": "white",
            "ticks": ""
           },
           "bgcolor": "#E5ECF6",
           "radialaxis": {
            "gridcolor": "white",
            "linecolor": "white",
            "ticks": ""
           }
          },
          "scene": {
           "xaxis": {
            "backgroundcolor": "#E5ECF6",
            "gridcolor": "white",
            "gridwidth": 2,
            "linecolor": "white",
            "showbackground": true,
            "ticks": "",
            "zerolinecolor": "white"
           },
           "yaxis": {
            "backgroundcolor": "#E5ECF6",
            "gridcolor": "white",
            "gridwidth": 2,
            "linecolor": "white",
            "showbackground": true,
            "ticks": "",
            "zerolinecolor": "white"
           },
           "zaxis": {
            "backgroundcolor": "#E5ECF6",
            "gridcolor": "white",
            "gridwidth": 2,
            "linecolor": "white",
            "showbackground": true,
            "ticks": "",
            "zerolinecolor": "white"
           }
          },
          "shapedefaults": {
           "line": {
            "color": "#2a3f5f"
           }
          },
          "ternary": {
           "aaxis": {
            "gridcolor": "white",
            "linecolor": "white",
            "ticks": ""
           },
           "baxis": {
            "gridcolor": "white",
            "linecolor": "white",
            "ticks": ""
           },
           "bgcolor": "#E5ECF6",
           "caxis": {
            "gridcolor": "white",
            "linecolor": "white",
            "ticks": ""
           }
          },
          "title": {
           "x": 0.05
          },
          "xaxis": {
           "automargin": true,
           "gridcolor": "white",
           "linecolor": "white",
           "ticks": "",
           "title": {
            "standoff": 15
           },
           "zerolinecolor": "white",
           "zerolinewidth": 2
          },
          "yaxis": {
           "automargin": true,
           "gridcolor": "white",
           "linecolor": "white",
           "ticks": "",
           "title": {
            "standoff": 15
           },
           "zerolinecolor": "white",
           "zerolinewidth": 2
          }
         }
        },
        "title": {
         "text": "Data",
         "x": 0.5,
         "xanchor": "center",
         "y": 0.95,
         "yanchor": "top"
        },
        "xaxis": {
         "anchor": "y",
         "autorange": true,
         "domain": [
          0,
          1
         ],
         "range": [
          0,
          364
         ],
         "title": {
          "text": "Ngay"
         },
         "type": "category"
        },
        "yaxis": {
         "anchor": "x",
         "autorange": true,
         "domain": [
          0,
          1
         ],
         "range": [
          847.9333333333334,
          1603.2666666666667
         ],
         "title": {
          "text": "8"
         },
         "type": "linear"
        }
       }
      },
      "image/png": "[encoded data removed]",
      "text/html": [
       "<div>                            <div id=\"853b8b99-796e-439a-ac95-173032d9737e\" class=\"plotly-graph-div\" style=\"height:525px; width:100%;\"></div>            <script type=\"text/javascript\">                require([\"plotly\"], function(Plotly) {                    window.PLOTLYENV=window.PLOTLYENV || {};                                    if (document.getElementById(\"853b8b99-796e-439a-ac95-173032d9737e\")) {                    Plotly.newPlot(                        \"853b8b99-796e-439a-ac95-173032d9737e\",                        [{\"hovertemplate\":\"x=%{x}\\u003cbr\\u003ey=%{y}\\u003cextra\\u003e\\u003c\\u002fextra\\u003e\",\"legendgroup\":\"\",\"line\":{\"color\":\"black\",\"dash\":\"solid\"},\"marker\":{\"symbol\":\"circle\"},\"mode\":\"lines\",\"name\":\"\",\"orientation\":\"v\",\"showlegend\":false,\"x\":[\"01\\u002f01\\u002f2021\",\"01\\u002f02\\u002f2021\",\"01\\u002f03\\u002f2021\",\"01\\u002f04\\u002f2021\",\"01\\u002f05\\u002f2021\",\"01\\u002f06\\u002f2021\",\"01\\u002f07\\u002f2021\",\"01\\u002f08\\u002f2021\",\"01\\u002f09\\u002f2021\",\"01\\u002f10\\u002f2021\",\"01\\u002f11\\u002f2021\",\"01\\u002f12\\u002f2021\",\"13\\u002f01\\u002f2021\",\"14\\u002f01\\u002f2021\",\"15\\u002f01\\u002f2021\",\"16\\u002f01\\u002f2021\",\"17\\u002f01\\u002f2021\",\"18\\u002f01\\u002f2021\",\"19\\u002f01\\u002f2021\",\"20\\u002f01\\u002f2021\",\"21\\u002f01\\u002f2021\",\"22\\u002f01\\u002f2021\",\"23\\u002f01\\u002f2021\",\"24\\u002f01\\u002f2021\",\"25\\u002f01\\u002f2021\",\"26\\u002f01\\u002f2021\",\"27\\u002f01\\u002f2021\",\"28\\u002f01\\u002f2021\",\"29\\u002f01\\u002f2021\",\"30\\u002f01\\u002f2021\",\"31\\u002f01\\u002f2021\",\"02\\u002f01\\u002f2021\",\"02\\u002f02\\u002f2021\",\"02\\u002f03\\u002f2021\",\"02\\u002f04\\u002f2021\",\"02\\u002f05\\u002f2021\",\"02\\u002f06\\u002f2021\",\"02\\u002f07\\u002f2021\",\"02\\u002f08\\u002f2021\",\"02\\u002f09\\u002f2021\",\"02\\u002f10\\u002f2021\",\"02\\u002f11\\u002f2021\",\"02\\u002f12\\u002f2021\",\"13\\u002f02\\u002f2021\",\"14\\u002f02\\u002f2021\",\"15\\u002f02\\u002f2021\",\"16\\u002f02\\u002f2021\",\"17\\u002f02\\u002f2021\",\"18\\u002f02\\u002f2021\",\"19\\u002f02\\u002f2021\",\"20\\u002f02\\u002f2021\",\"21\\u002f02\\u002f2021\",\"22\\u002f02\\u002f2021\",\"23\\u002f02\\u002f2021\",\"24\\u002f02\\u002f2021\",\"25\\u002f02\\u002f2021\",\"26\\u002f02\\u002f2021\",\"27\\u002f02\\u002f2021\",\"28\\u002f02\\u002f2021\",\"03\\u002f01\\u002f2021\",\"03\\u002f02\\u002f2021\",\"03\\u002f03\\u002f2021\",\"03\\u002f04\\u002f2021\",\"03\\u002f05\\u002f2021\",\"03\\u002f06\\u002f2021\",\"03\\u002f07\\u002f2021\",\"03\\u002f08\\u002f2021\",\"03\\u002f09\\u002f2021\",\"03\\u002f10\\u002f2021\",\"03\\u002f11\\u002f2021\",\"03\\u002f12\\u002f2021\",\"13\\u002f03\\u002f2021\",\"14\\u002f03\\u002f2021\",\"15\\u002f03\\u002f2021\",\"16\\u002f03\\u002f2021\",\"17\\u002f03\\u002f2021\",\"18\\u002f03\\u002f2021\",\"19\\u002f03\\u002f2021\",\"20\\u002f03\\u002f2021\",\"21\\u002f03\\u002f2021\",\"22\\u002f03\\u002f2021\",\"23\\u002f03\\u002f2021\",\"24\\u002f03\\u002f2021\",\"25\\u002f03\\u002f2021\",\"26\\u002f03\\u002f2021\",\"27\\u002f03\\u002f2021\",\"28\\u002f03\\u002f2021\",\"29\\u002f03\\u002f2021\",\"30\\u002f03\\u002f2021\",\"31\\u002f03\\u002f2021\",\"04\\u002f01\\u002f2021\",\"04\\u002f02\\u002f2021\",\"04\\u002f03\\u002f2021\",\"04\\u002f04\\u002f2021\",\"04\\u002f05\\u002f2021\",\"04\\u002f06\\u002f2021\",\"04\\u002f07\\u002f2021\",\"04\\u002f08\\u002f2021\",\"04\\u002f09\\u002f2021\",\"04\\u002f10\\u002f2021\",\"04\\u002f11\\u002f2021\",\"04\\u002f12\\u002f2021\",\"13\\u002f04\\u002f2021\",\"14\\u002f04\\u002f2021\",\"15\\u002f04\\u002f2021\",\"16\\u002f04\\u002f2021\",\"17\\u002f04\\u002f2021\",\"18\\u002f04\\u002f2021\",\"19\\u002f04\\u002f2021\",\"20\\u002f04\\u002f2021\",\"21\\u002f04\\u002f2021\",\"22\\u002f04\\u002f2021\",\"23\\u002f04\\u002f2021\",\"24\\u002f04\\u002f2021\",\"25\\u002f04\\u002f2021\",\"26\\u002f04\\u002f2021\",\"27\\u002f04\\u002f2021\",\"28\\u002f04\\u002f2021\",\"29\\u002f04\\u002f2021\",\"30\\u002f04\\u002f2021\",\"05\\u002f01\\u002f2021\",\"05\\u002f02\\u002f2021\",\"05\\u002f03\\u002f2021\",\"05\\u002f04\\u002f2021\",\"05\\u002f05\\u002f2021\",\"05\\u002f06\\u002f2021\",\"05\\u002f07\\u002f2021\",\"05\\u002f08\\u002f2021\",\"05\\u002f09\\u002f2021\",\"05\\u002f10\\u002f2021\",\"05\\u002f11\\u002f2021\",\"05\\u002f12\\u002f2021\",\"13\\u002f05\\u002f2021\",\"14\\u002f05\\u002f2021\",\"15\\u002f05\\u002f2021\",\"16\\u002f05\\u002f2021\",\"17\\u002f05\\u002f2021\",\"18\\u002f05\\u002f2021\",\"19\\u002f05\\u002f2021\",\"20\\u002f05\\u002f2021\",\"21\\u002f05\\u002f2021\",\"22\\u002f05\\u002f2021\",\"23\\u002f05\\u002f2021\",\"24\\u002f05\\u002f2021\",\"25\\u002f05\\u002f2021\",\"26\\u002f05\\u002f2021\",\"27\\u002f05\\u002f2021\",\"28\\u002f05\\u002f2021\",\"29\\u002f05\\u002f2021\",\"30\\u002f05\\u002f2021\",\"31\\u002f05\\u002f2021\",\"06\\u002f01\\u002f2021\",\"06\\u002f02\\u002f2021\",\"06\\u002f03\\u002f2021\",\"06\\u002f04\\u002f2021\",\"06\\u002f05\\u002f2021\",\"06\\u002f06\\u002f2021\",\"06\\u002f07\\u002f2021\",\"06\\u002f08\\u002f2021\",\"06\\u002f09\\u002f2021\",\"06\\u002f10\\u002f2021\",\"06\\u002f11\\u002f2021\",\"06\\u002f12\\u002f2021\",\"13\\u002f06\\u002f2021\",\"14\\u002f06\\u002f2021\",\"15\\u002f06\\u002f2021\",\"16\\u002f06\\u002f2021\",\"17\\u002f06\\u002f2021\",\"18\\u002f06\\u002f2021\",\"19\\u002f06\\u002f2021\",\"20\\u002f06\\u002f2021\",\"21\\u002f06\\u002f2021\",\"22\\u002f06\\u002f2021\",\"23\\u002f06\\u002f2021\",\"24\\u002f06\\u002f2021\",\"25\\u002f06\\u002f2021\",\"26\\u002f06\\u002f2021\",\"27\\u002f06\\u002f2021\",\"28\\u002f06\\u002f2021\",\"29\\u002f06\\u002f2021\",\"30\\u002f06\\u002f2021\",\"07\\u002f01\\u002f2021\",\"07\\u002f02\\u002f2021\",\"07\\u002f03\\u002f2021\",\"07\\u002f04\\u002f2021\",\"07\\u002f05\\u002f2021\",\"07\\u002f06\\u002f2021\",\"07\\u002f07\\u002f2021\",\"07\\u002f08\\u002f2021\",\"07\\u002f09\\u002f2021\",\"07\\u002f10\\u002f2021\",\"07\\u002f11\\u002f2021\",\"07\\u002f12\\u002f2021\",\"13\\u002f07\\u002f2021\",\"14\\u002f07\\u002f2021\",\"15\\u002f07\\u002f2021\",\"16\\u002f07\\u002f2021\",\"17\\u002f07\\u002f2021\",\"18\\u002f07\\u002f2021\",\"19\\u002f07\\u002f2021\",\"20\\u002f07\\u002f2021\",\"21\\u002f07\\u002f2021\",\"22\\u002f07\\u002f2021\",\"23\\u002f07\\u002f2021\",\"24\\u002f07\\u002f2021\",\"25\\u002f07\\u002f2021\",\"26\\u002f07\\u002f2021\",\"27\\u002f07\\u002f2021\",\"28\\u002f07\\u002f2021\",\"29\\u002f07\\u002f2021\",\"30\\u002f07\\u002f2021\",\"31\\u002f07\\u002f2021\",\"08\\u002f01\\u002f2021\",\"08\\u002f02\\u002f2021\",\"08\\u002f03\\u002f2021\",\"08\\u002f04\\u002f2021\",\"08\\u002f05\\u002f2021\",\"08\\u002f06\\u002f2021\",\"08\\u002f07\\u002f2021\",\"08\\u002f08\\u002f2021\",\"08\\u002f09\\u002f2021\",\"08\\u002f10\\u002f2021\",\"08\\u002f11\\u002f2021\",\"08\\u002f12\\u002f2021\",\"13\\u002f08\\u002f2021\",\"14\\u002f08\\u002f2021\",\"15\\u002f08\\u002f2021\",\"16\\u002f08\\u002f2021\",\"17\\u002f08\\u002f2021\",\"18\\u002f08\\u002f2021\",\"19\\u002f08\\u002f2021\",\"20\\u002f08\\u002f2021\",\"21\\u002f08\\u002f2021\",\"22\\u002f08\\u002f2021\",\"23\\u002f08\\u002f2021\",\"24\\u002f08\\u002f2021\",\"25\\u002f08\\u002f2021\",\"26\\u002f08\\u002f2021\",\"27\\u002f08\\u002f2021\",\"28\\u002f08\\u002f2021\",\"29\\u002f08\\u002f2021\",\"30\\u002f08\\u002f2021\",\"31\\u002f08\\u002f2021\",\"09\\u002f01\\u002f2021\",\"09\\u002f02\\u002f2021\",\"09\\u002f03\\u002f2021\",\"09\\u002f04\\u002f2021\",\"09\\u002f05\\u002f2021\",\"09\\u002f06\\u002f2021\",\"09\\u002f07\\u002f2021\",\"09\\u002f08\\u002f2021\",\"09\\u002f09\\u002f2021\",\"09\\u002f10\\u002f2021\",\"09\\u002f11\\u002f2021\",\"09\\u002f12\\u002f2021\",\"13\\u002f09\\u002f2021\",\"14\\u002f09\\u002f2021\",\"15\\u002f09\\u002f2021\",\"16\\u002f09\\u002f2021\",\"17\\u002f09\\u002f2021\",\"18\\u002f09\\u002f2021\",\"19\\u002f09\\u002f2021\",\"20\\u002f09\\u002f2021\",\"21\\u002f09\\u002f2021\",\"22\\u002f09\\u002f2021\",\"23\\u002f09\\u002f2021\",\"24\\u002f09\\u002f2021\",\"25\\u002f09\\u002f2021\",\"26\\u002f09\\u002f2021\",\"27\\u002f09\\u002f2021\",\"28\\u002f09\\u002f2021\",\"29\\u002f09\\u002f2021\",\"30\\u002f09\\u002f2021\",\"10\\u002f01\\u002f2021\",\"10\\u002f02\\u002f2021\",\"10\\u002f03\\u002f2021\",\"10\\u002f04\\u002f2021\",\"10\\u002f05\\u002f2021\",\"10\\u002f06\\u002f2021\",\"10\\u002f07\\u002f2021\",\"10\\u002f08\\u002f2021\",\"10\\u002f09\\u002f2021\",\"10\\u002f10\\u002f2021\",\"10\\u002f11\\u002f2021\",\"10\\u002f12\\u002f2021\",\"13\\u002f10\\u002f2021\",\"14\\u002f10\\u002f2021\",\"15\\u002f10\\u002f2021\",\"16\\u002f10\\u002f2021\",\"17\\u002f10\\u002f2021\",\"18\\u002f10\\u002f2021\",\"19\\u002f10\\u002f2021\",\"20\\u002f10\\u002f2021\",\"21\\u002f10\\u002f2021\",\"22\\u002f10\\u002f2021\",\"23\\u002f10\\u002f2021\",\"24\\u002f10\\u002f2021\",\"25\\u002f10\\u002f2021\",\"26\\u002f10\\u002f2021\",\"27\\u002f10\\u002f2021\",\"28\\u002f10\\u002f2021\",\"29\\u002f10\\u002f2021\",\"30\\u002f10\\u002f2021\",\"31\\u002f10\\u002f2021\",\"11\\u002f01\\u002f2021\",\"11\\u002f02\\u002f2021\",\"11\\u002f03\\u002f2021\",\"11\\u002f04\\u002f2021\",\"11\\u002f05\\u002f2021\",\"11\\u002f06\\u002f2021\",\"11\\u002f07\\u002f2021\",\"11\\u002f08\\u002f2021\",\"11\\u002f09\\u002f2021\",\"11\\u002f10\\u002f2021\",\"11\\u002f11\\u002f2021\",\"11\\u002f12\\u002f2021\",\"13\\u002f11\\u002f2021\",\"14\\u002f11\\u002f2021\",\"15\\u002f11\\u002f2021\",\"16\\u002f11\\u002f2021\",\"17\\u002f11\\u002f2021\",\"18\\u002f11\\u002f2021\",\"19\\u002f11\\u002f2021\",\"20\\u002f11\\u002f2021\",\"21\\u002f11\\u002f2021\",\"22\\u002f11\\u002f2021\",\"23\\u002f11\\u002f2021\",\"24\\u002f11\\u002f2021\",\"25\\u002f11\\u002f2021\",\"26\\u002f11\\u002f2021\",\"27\\u002f11\\u002f2021\",\"28\\u002f11\\u002f2021\",\"29\\u002f11\\u002f2021\",\"30\\u002f11\\u002f2021\",\"12\\u002f01\\u002f2021\",\"12\\u002f02\\u002f2021\",\"12\\u002f03\\u002f2021\",\"12\\u002f04\\u002f2021\",\"12\\u002f05\\u002f2021\",\"12\\u002f06\\u002f2021\",\"12\\u002f07\\u002f2021\",\"12\\u002f08\\u002f2021\",\"12\\u002f09\\u002f2021\",\"12\\u002f10\\u002f2021\",\"12\\u002f11\\u002f2021\",\"12\\u002f12\\u002f2021\",\"13\\u002f12\\u002f2021\",\"14\\u002f12\\u002f2021\",\"15\\u002f12\\u002f2021\",\"16\\u002f12\\u002f2021\",\"17\\u002f12\\u002f2021\",\"18\\u002f12\\u002f2021\",\"19\\u002f12\\u002f2021\",\"20\\u002f12\\u002f2021\",\"21\\u002f12\\u002f2021\",\"22\\u002f12\\u002f2021\",\"23\\u002f12\\u002f2021\",\"24\\u002f12\\u002f2021\",\"25\\u002f12\\u002f2021\",\"26\\u002f12\\u002f2021\",\"27\\u002f12\\u002f2021\",\"28\\u002f12\\u002f2021\",\"29\\u002f12\\u002f2021\",\"30\\u002f12\\u002f2021\",\"31\\u002f12\\u002f2021\"],\"xaxis\":\"x\",\"y\":[964.4,1019.7,988.4,1002.0,1061.5,1061.5,1061.5,1061.5,1064.1,966.7,1002.0,1066.6,1061.5,1061.5,1061.5,1066.6,988.4,1058.0,1069.4,1069.4,1069.4,1061.5,1019.7,988.3,988.4,988.4,966.7,963.6,945.5,918.6,966.7,964.4,966.8,966.7,964.4,964.4,963.6,963.6,963.6,912.1,912.1,916.8,888.5,894.6,912.1,890.2,963.6,963.6,964.4,964.4,964.4,963.6,988.3,988.3,988.3,988.4,1002.0,988.4,964.4,988.3,1019.7,988.4,1002.0,1002.1,988.4,966.7,1002.0,1019.7,1019.7,1061.5,1002.1,1002.0,1019.7,1002.1,1061.5,1061.5,1069.4,1069.4,1061.5,966.7,1022.6,1022.6,1022.6,1064.0,1061.5,1061.5,966.7,1002.0,1061.5,1022.6,988.4,1002.0,988.4,966.7,1002.0,1061.5,1061.5,1061.5,1022.6,966.7,966.7,966.7,1061.5,1069.4,1064.1,1069.4,1069.4,1022.6,1069.4,1069.4,1069.4,1069.4,1069.4,1069.4,966.8,1061.5,1069.4,1069.4,1064.0,945.5,930.6,966.7,1061.5,1069.4,1061.5,1022.6,988.4,1002.0,964.4,1022.6,1061.5,1069.4,1069.4,1069.4,1069.4,1022.6,1069.4,1069.4,1061.5,1069.4,1069.4,1069.4,1061.5,1069.4,1069.4,1061.5,1061.5,1061.5,1002.1,990.9,1061.5,990.9,990.9,990.9,990.9,966.7,966.7,1022.6,1061.5,1069.4,1069.4,1061.5,990.9,990.9,990.9,966.7,1022.6,1022.6,1069.4,1064.0,990.9,966.7,1002.0,1022.6,1061.5,1069.4,1064.1,966.7,966.7,966.7,990.9,945.5,964.4,966.7,963.6,990.9,1061.5,966.8,990.9,1022.6,1022.6,964.5,966.8,990.9,990.9,1069.4,1069.4,1061.5,966.7,1069.4,1403.0,1565.5,1403.0,1520.2,1403.0,1087.5,1379.4,1331.3,1316.8,1061.5,990.9,964.4,945.5,990.9,1061.5,1064.1,1069.4,1069.4,1061.5,990.9,1069.4,1403.0,1422.9,1422.9,1423.1,1403.0,1379.4,1565.1,1503.4,1422.9,1403.0,1379.4,1316.9,1064.1,1069.4,1294.0,1293.5,1069.4,1069.4,990.9,945.5,1002.0,1022.6,1022.6,885.7,1022.6,1069.4,1022.6,1069.4,1061.5,1061.5,1061.5,1293.5,1069.4,966.7,1061.5,1069.4,1022.6,1002.0,1022.6,1002.0,945.5,990.9,1022.6,1022.6,1022.6,990.9,966.7,930.6,964.4,1002.0,1022.6,1002.1,1022.6,990.9,945.5,1002.0,1022.6,966.7,1022.6,1069.4,1022.6,964.4,1022.6,1069.4,1061.5,1064.1,1002.0,990.9,963.6,1002.0,1069.4,1069.4,1061.5,1061.5,1002.0,966.7,1002.0,1022.6,1022.6,990.9,1002.0,990.9,945.4,1002.0,1061.5,1002.0,1022.6,1002.0,990.9,963.6,990.9,1002.0,1069.4,1069.4,1061.5,1002.0,966.7,1069.4,1069.4,1069.4,1061.5,1069.4,1061.5,966.7,1022.6,1061.5,1002.0,1022.6,1002.1,966.8,963.7,966.7,990.9,1002.1,1022.6,1002.0,990.9,964.4,990.9,1002.0,1022.6,1061.5,1061.5,1022.6,966.7,1022.6,1061.5,1064.1,1061.5,1061.5,1022.6,990.9,1043.3,1061.5,1022.6,1022.6,1022.6,1002.0,966.7,1002.0,1002.0,1061.5,1022.6,1022.6],\"yaxis\":\"y\",\"type\":\"scatter\"}],                        {\"template\":{\"data\":{\"histogram2dcontour\":[{\"type\":\"histogram2dcontour\",\"colorbar\":{\"outlinewidth\":0,\"ticks\":\"\"},\"colorscale\":[[0.0,\"#0d0887\"],[0.1111111111111111,\"#46039f\"],[0.2222222222222222,\"#7201a8\"],[0.3333333333333333,\"#9c179e\"],[0.4444444444444444,\"#bd3786\"],[0.5555555555555556,\"#d8576b\"],[0.6666666666666666,\"#ed7953\"],[0.7777777777777778,\"#fb9f3a\"],[0.8888888888888888,\"#fdca26\"],[1.0,\"#f0f921\"]]}],\"choropleth\":[{\"type\":\"choropleth\",\"colorbar\":{\"outlinewidth\":0,\"ticks\":\"\"}}],\"histogram2d\":[{\"type\":\"histogram2d\",\"colorbar\":{\"outlinewidth\":0,\"ticks\":\"\"},\"colorscale\":[[0.0,\"#0d0887\"],[0.1111111111111111,\"#46039f\"],[0.2222222222222222,\"#7201a8\"],[0.3333333333333333,\"#9c179e\"],[0.4444444444444444,\"#bd3786\"],[0.5555555555555556,\"#d8576b\"],[0.6666666666666666,\"#ed7953\"],[0.7777777777777778,\"#fb9f3a\"],[0.8888888888888888,\"#fdca26\"],[1.0,\"#f0f921\"]]}],\"heatmap\":[{\"type\":\"heatmap\",\"colorbar\":{\"outlinewidth\":0,\"ticks\":\"\"},\"colorscale\":[[0.0,\"#0d0887\"],[0.1111111111111111,\"#46039f\"],[0.2222222222222222,\"#7201a8\"],[0.3333333333333333,\"#9c179e\"],[0.4444444444444444,\"#bd3786\"],[0.5555555555555556,\"#d8576b\"],[0.6666666666666666,\"#ed7953\"],[0.7777777777777778,\"#fb9f3a\"],[0.8888888888888888,\"#fdca26\"],[1.0,\"#f0f921\"]]}],\"heatmapgl\":[{\"type\":\"heatmapgl\",\"colorbar\":{\"outlinewidth\":0,\"ticks\":\"\"},\"colorscale\":[[0.0,\"#0d0887\"],[0.1111111111111111,\"#46039f\"],[0.2222222222222222,\"#7201a8\"],[0.3333333333333333,\"#9c179e\"],[0.4444444444444444,\"#bd3786\"],[0.5555555555555556,\"#d8576b\"],[0.6666666666666666,\"#ed7953\"],[0.7777777777777778,\"#fb9f3a\"],[0.8888888888888888,\"#fdca26\"],[1.0,\"#f0f921\"]]}],\"contourcarpet\":[{\"type\":\"contourcarpet\",\"colorbar\":{\"outlinewidth\":0,\"ticks\":\"\"}}],\"contour\":[{\"type\":\"contour\",\"colorbar\":{\"outlinewidth\":0,\"ticks\":\"\"},\"colorscale\":[[0.0,\"#0d0887\"],[0.1111111111111111,\"#46039f\"],[0.2222222222222222,\"#7201a8\"],[0.3333333333333333,\"#9c179e\"],[0.4444444444444444,\"#bd3786\"],[0.5555555555555556,\"#d8576b\"],[0.6666666666666666,\"#ed7953\"],[0.7777777777777778,\"#fb9f3a\"],[0.8888888888888888,\"#fdca26\"],[1.0,\"#f0f921\"]]}],\"surface\":[{\"type\":\"surface\",\"colorbar\":{\"outlinewidth\":0,\"ticks\":\"\"},\"colorscale\":[[0.0,\"#0d0887\"],[0.1111111111111111,\"#46039f\"],[0.2222222222222222,\"#7201a8\"],[0.3333333333333333,\"#9c179e\"],[0.4444444444444444,\"#bd3786\"],[0.5555555555555556,\"#d8576b\"],[0.6666666666666666,\"#ed7953\"],[0.7777777777777778,\"#fb9f3a\"],[0.8888888888888888,\"#fdca26\"],[1.0,\"#f0f921\"]]}],\"mesh3d\":[{\"type\":\"mesh3d\",\"colorbar\":{\"outlinewidth\":0,\"ticks\":\"\"}}],\"scatter\":[{\"fillpattern\":{\"fillmode\":\"overlay\",\"size\":10,\"solidity\":0.2},\"type\":\"scatter\"}],\"parcoords\":[{\"type\":\"parcoords\",\"line\":{\"colorbar\":{\"outlinewidth\":0,\"ticks\":\"\"}}}],\"scatterpolargl\":[{\"type\":\"scatterpolargl\",\"marker\":{\"colorbar\":{\"outlinewidth\":0,\"ticks\":\"\"}}}],\"bar\":[{\"error_x\":{\"color\":\"#2a3f5f\"},\"error_y\":{\"color\":\"#2a3f5f\"},\"marker\":{\"line\":{\"color\":\"#E5ECF6\",\"width\":0.5},\"pattern\":{\"fillmode\":\"overlay\",\"size\":10,\"solidity\":0.2}},\"type\":\"bar\"}],\"scattergeo\":[{\"type\":\"scattergeo\",\"marker\":{\"colorbar\":{\"outlinewidth\":0,\"ticks\":\"\"}}}],\"scatterpolar\":[{\"type\":\"scatterpolar\",\"marker\":{\"colorbar\":{\"outlinewidth\":0,\"ticks\":\"\"}}}],\"histogram\":[{\"marker\":{\"pattern\":{\"fillmode\":\"overlay\",\"size\":10,\"solidity\":0.2}},\"type\":\"histogram\"}],\"scattergl\":[{\"type\":\"scattergl\",\"marker\":{\"colorbar\":{\"outlinewidth\":0,\"ticks\":\"\"}}}],\"scatter3d\":[{\"type\":\"scatter3d\",\"line\":{\"colorbar\":{\"outlinewidth\":0,\"ticks\":\"\"}},\"marker\":{\"colorbar\":{\"outlinewidth\":0,\"ticks\":\"\"}}}],\"scattermapbox\":[{\"type\":\"scattermapbox\",\"marker\":{\"colorbar\":{\"outlinewidth\":0,\"ticks\":\"\"}}}],\"scatterternary\":[{\"type\":\"scatterternary\",\"marker\":{\"colorbar\":{\"outlinewidth\":0,\"ticks\":\"\"}}}],\"scattercarpet\":[{\"type\":\"scattercarpet\",\"marker\":{\"colorbar\":{\"outlinewidth\":0,\"ticks\":\"\"}}}],\"carpet\":[{\"aaxis\":{\"endlinecolor\":\"#2a3f5f\",\"gridcolor\":\"white\",\"linecolor\":\"white\",\"minorgridcolor\":\"white\",\"startlinecolor\":\"#2a3f5f\"},\"baxis\":{\"endlinecolor\":\"#2a3f5f\",\"gridcolor\":\"white\",\"linecolor\":\"white\",\"minorgridcolor\":\"white\",\"startlinecolor\":\"#2a3f5f\"},\"type\":\"carpet\"}],\"table\":[{\"cells\":{\"fill\":{\"color\":\"#EBF0F8\"},\"line\":{\"color\":\"white\"}},\"header\":{\"fill\":{\"color\":\"#C8D4E3\"},\"line\":{\"color\":\"white\"}},\"type\":\"table\"}],\"barpolar\":[{\"marker\":{\"line\":{\"color\":\"#E5ECF6\",\"width\":0.5},\"pattern\":{\"fillmode\":\"overlay\",\"size\":10,\"solidity\":0.2}},\"type\":\"barpolar\"}],\"pie\":[{\"automargin\":true,\"type\":\"pie\"}]},\"layout\":{\"autotypenumbers\":\"strict\",\"colorway\":[\"#636efa\",\"#EF553B\",\"#00cc96\",\"#ab63fa\",\"#FFA15A\",\"#19d3f3\",\"#FF6692\",\"#B6E880\",\"#FF97FF\",\"#FECB52\"],\"font\":{\"color\":\"#2a3f5f\"},\"hovermode\":\"closest\",\"hoverlabel\":{\"align\":\"left\"},\"paper_bgcolor\":\"white\",\"plot_bgcolor\":\"#E5ECF6\",\"polar\":{\"bgcolor\":\"#E5ECF6\",\"angularaxis\":{\"gridcolor\":\"white\",\"linecolor\":\"white\",\"ticks\":\"\"},\"radialaxis\":{\"gridcolor\":\"white\",\"linecolor\":\"white\",\"ticks\":\"\"}},\"ternary\":{\"bgcolor\":\"#E5ECF6\",\"aaxis\":{\"gridcolor\":\"white\",\"linecolor\":\"white\",\"ticks\":\"\"},\"baxis\":{\"gridcolor\":\"white\",\"linecolor\":\"white\",\"ticks\":\"\"},\"caxis\":{\"gridcolor\":\"white\",\"linecolor\":\"white\",\"ticks\":\"\"}},\"coloraxis\":{\"colorbar\":{\"outlinewidth\":0,\"ticks\":\"\"}},\"colorscale\":{\"sequential\":[[0.0,\"#0d0887\"],[0.1111111111111111,\"#46039f\"],[0.2222222222222222,\"#7201a8\"],[0.3333333333333333,\"#9c179e\"],[0.4444444444444444,\"#bd3786\"],[0.5555555555555556,\"#d8576b\"],[0.6666666666666666,\"#ed7953\"],[0.7777777777777778,\"#fb9f3a\"],[0.8888888888888888,\"#fdca26\"],[1.0,\"#f0f921\"]],\"sequentialminus\":[[0.0,\"#0d0887\"],[0.1111111111111111,\"#46039f\"],[0.2222222222222222,\"#7201a8\"],[0.3333333333333333,\"#9c179e\"],[0.4444444444444444,\"#bd3786\"],[0.5555555555555556,\"#d8576b\"],[0.6666666666666666,\"#ed7953\"],[0.7777777777777778,\"#fb9f3a\"],[0.8888888888888888,\"#fdca26\"],[1.0,\"#f0f921\"]],\"diverging\":[[0,\"#8e0152\"],[0.1,\"#c51b7d\"],[0.2,\"#de77ae\"],[0.3,\"#f1b6da\"],[0.4,\"#fde0ef\"],[0.5,\"#f7f7f7\"],[0.6,\"#e6f5d0\"],[0.7,\"#b8e186\"],[0.8,\"#7fbc41\"],[0.9,\"#4d9221\"],[1,\"#276419\"]]},\"xaxis\":{\"gridcolor\":\"white\",\"linecolor\":\"white\",\"ticks\":\"\",\"title\":{\"standoff\":15},\"zerolinecolor\":\"white\",\"automargin\":true,\"zerolinewidth\":2},\"yaxis\":{\"gridcolor\":\"white\",\"linecolor\":\"white\",\"ticks\":\"\",\"title\":{\"standoff\":15},\"zerolinecolor\":\"white\",\"automargin\":true,\"zerolinewidth\":2},\"scene\":{\"xaxis\":{\"backgroundcolor\":\"#E5ECF6\",\"gridcolor\":\"white\",\"linecolor\":\"white\",\"showbackground\":true,\"ticks\":\"\",\"zerolinecolor\":\"white\",\"gridwidth\":2},\"yaxis\":{\"backgroundcolor\":\"#E5ECF6\",\"gridcolor\":\"white\",\"linecolor\":\"white\",\"showbackground\":true,\"ticks\":\"\",\"zerolinecolor\":\"white\",\"gridwidth\":2},\"zaxis\":{\"backgroundcolor\":\"#E5ECF6\",\"gridcolor\":\"white\",\"linecolor\":\"white\",\"showbackground\":true,\"ticks\":\"\",\"zerolinecolor\":\"white\",\"gridwidth\":2}},\"shapedefaults\":{\"line\":{\"color\":\"#2a3f5f\"}},\"annotationdefaults\":{\"arrowcolor\":\"#2a3f5f\",\"arrowhead\":0,\"arrowwidth\":1},\"geo\":{\"bgcolor\":\"white\",\"landcolor\":\"#E5ECF6\",\"subunitcolor\":\"white\",\"showland\":true,\"showlakes\":true,\"lakecolor\":\"white\"},\"title\":{\"x\":0.05},\"mapbox\":{\"style\":\"light\"}}},\"xaxis\":{\"anchor\":\"y\",\"domain\":[0.0,1.0],\"title\":{\"text\":\"Ngay\"}},\"yaxis\":{\"anchor\":\"x\",\"domain\":[0.0,1.0],\"title\":{\"text\":\"8\"}},\"legend\":{\"tracegroupgap\":0},\"margin\":{\"t\":60},\"title\":{\"text\":\"Data\",\"y\":0.95,\"x\":0.5,\"xanchor\":\"center\",\"yanchor\":\"top\"},\"plot_bgcolor\":\"rgba(53,223,0,0.8)\"},                        {\"responsive\": true}                    ).then(function(){\n",
       "                            \n",
       "var gd = document.getElementById('853b8b99-796e-439a-ac95-173032d9737e');\n",
       "var x = new MutationObserver(function (mutations, observer) {{\n",
       "        var display = window.getComputedStyle(gd).display;\n",
       "        if (!display || display === 'none') {{\n",
       "            console.log([gd, 'removed!']);\n",
       "            Plotly.purge(gd);\n",
       "            observer.disconnect();\n",
       "        }}\n",
       "}});\n",
       "\n",
       "// Listen for the removal of the full notebook cells\n",
       "var notebookContainer = gd.closest('#notebook-container');\n",
       "if (notebookContainer) {{\n",
       "    x.observe(notebookContainer, {childList: true});\n",
       "}}\n",
       "\n",
       "// Listen for the clearing of the current output cell\n",
       "var outputEl = gd.closest('.output');\n",
       "if (outputEl) {{\n",
       "    x.observe(outputEl, {childList: true});\n",
       "}}\n",
       "\n",
       "                        })                };                });            </script>        </div>"
      ]
     },
     "metadata": {},
     "output_type": "display_data"
    }
   ],
   "source": [
    "import plotly.express as px\n",
    "fig = px.line(y=df['8'], x=df['Ngay'])\n",
    "fig.update_traces(line_color='black') \n",
    "fig.update_layout(xaxis_title=\"Ngay\", \n",
    "                  yaxis_title=\"8\",\n",
    "                  title={'text': \"Data\", 'y':0.95, 'x':0.5, 'xanchor':'center', 'yanchor':'top'},\n",
    "                  plot_bgcolor='rgba(53,223,0,0.8)')"
   ]
  },
  {
   "cell_type": "code",
   "execution_count": 84,
   "id": "13027d9f-16dd-4484-a0fd-bce6ba3148d7",
   "metadata": {},
   "outputs": [
    {
     "data": {
      "application/vnd.plotly.v1+json": {
       "config": {
        "plotlyServerURL": "https://plot.ly"
       },
       "data": [
        {
         "hovertemplate": "x=%{x}<br>y=%{y}<extra></extra>",
         "legendgroup": "",
         "line": {
          "color": "black",
          "dash": "solid"
         },
         "marker": {
          "symbol": "circle"
         },
         "mode": "lines",
         "name": "",
         "orientation": "v",
         "showlegend": false,
         "type": "scatter",
         "x": [
          "01/01/2021",
          "01/02/2021",
          "01/03/2021",
          "01/04/2021",
          "01/05/2021",
          "01/06/2021",
          "01/07/2021",
          "01/08/2021",
          "01/09/2021",
          "01/10/2021",
          "01/11/2021",
          "01/12/2021",
          "13/01/2021",
          "14/01/2021",
          "15/01/2021",
          "16/01/2021",
          "17/01/2021",
          "18/01/2021",
          "19/01/2021",
          "20/01/2021",
          "21/01/2021",
          "22/01/2021",
          "23/01/2021",
          "24/01/2021",
          "25/01/2021",
          "26/01/2021",
          "27/01/2021",
          "28/01/2021",
          "29/01/2021",
          "30/01/2021",
          "31/01/2021",
          "02/01/2021",
          "02/02/2021",
          "02/03/2021",
          "02/04/2021",
          "02/05/2021",
          "02/06/2021",
          "02/07/2021",
          "02/08/2021",
          "02/09/2021",
          "02/10/2021",
          "02/11/2021",
          "02/12/2021",
          "13/02/2021",
          "14/02/2021",
          "15/02/2021",
          "16/02/2021",
          "17/02/2021",
          "18/02/2021",
          "19/02/2021",
          "20/02/2021",
          "21/02/2021",
          "22/02/2021",
          "23/02/2021",
          "24/02/2021",
          "25/02/2021",
          "26/02/2021",
          "27/02/2021",
          "28/02/2021",
          "03/01/2021",
          "03/02/2021",
          "03/03/2021",
          "03/04/2021",
          "03/05/2021",
          "03/06/2021",
          "03/07/2021",
          "03/08/2021",
          "03/09/2021",
          "03/10/2021",
          "03/11/2021",
          "03/12/2021",
          "13/03/2021",
          "14/03/2021",
          "15/03/2021",
          "16/03/2021",
          "17/03/2021",
          "18/03/2021",
          "19/03/2021",
          "20/03/2021",
          "21/03/2021",
          "22/03/2021",
          "23/03/2021",
          "24/03/2021",
          "25/03/2021",
          "26/03/2021",
          "27/03/2021",
          "28/03/2021",
          "29/03/2021",
          "30/03/2021",
          "31/03/2021",
          "04/01/2021",
          "04/02/2021",
          "04/03/2021",
          "04/04/2021",
          "04/05/2021",
          "04/06/2021",
          "04/07/2021",
          "04/08/2021",
          "04/09/2021",
          "04/10/2021",
          "04/11/2021",
          "04/12/2021",
          "13/04/2021",
          "14/04/2021",
          "15/04/2021",
          "16/04/2021",
          "17/04/2021",
          "18/04/2021",
          "19/04/2021",
          "20/04/2021",
          "21/04/2021",
          "22/04/2021",
          "23/04/2021",
          "24/04/2021",
          "25/04/2021",
          "26/04/2021",
          "27/04/2021",
          "28/04/2021",
          "29/04/2021",
          "30/04/2021",
          "05/01/2021",
          "05/02/2021",
          "05/03/2021",
          "05/04/2021",
          "05/05/2021",
          "05/06/2021",
          "05/07/2021",
          "05/08/2021",
          "05/09/2021",
          "05/10/2021",
          "05/11/2021",
          "05/12/2021",
          "13/05/2021",
          "14/05/2021",
          "15/05/2021",
          "16/05/2021",
          "17/05/2021",
          "18/05/2021",
          "19/05/2021",
          "20/05/2021",
          "21/05/2021",
          "22/05/2021",
          "23/05/2021",
          "24/05/2021",
          "25/05/2021",
          "26/05/2021",
          "27/05/2021",
          "28/05/2021",
          "29/05/2021",
          "30/05/2021",
          "31/05/2021",
          "06/01/2021",
          "06/02/2021",
          "06/03/2021",
          "06/04/2021",
          "06/05/2021",
          "06/06/2021",
          "06/07/2021",
          "06/08/2021",
          "06/09/2021",
          "06/10/2021",
          "06/11/2021",
          "06/12/2021",
          "13/06/2021",
          "14/06/2021",
          "15/06/2021",
          "16/06/2021",
          "17/06/2021",
          "18/06/2021",
          "19/06/2021",
          "20/06/2021",
          "21/06/2021",
          "22/06/2021",
          "23/06/2021",
          "24/06/2021",
          "25/06/2021",
          "26/06/2021",
          "27/06/2021",
          "28/06/2021",
          "29/06/2021",
          "30/06/2021",
          "07/01/2021",
          "07/02/2021",
          "07/03/2021",
          "07/04/2021",
          "07/05/2021",
          "07/06/2021",
          "07/07/2021",
          "07/08/2021",
          "07/09/2021",
          "07/10/2021",
          "07/11/2021",
          "07/12/2021",
          "13/07/2021",
          "14/07/2021",
          "15/07/2021",
          "16/07/2021",
          "17/07/2021",
          "18/07/2021",
          "19/07/2021",
          "20/07/2021",
          "21/07/2021",
          "22/07/2021",
          "23/07/2021",
          "24/07/2021",
          "25/07/2021",
          "26/07/2021",
          "27/07/2021",
          "28/07/2021",
          "29/07/2021",
          "30/07/2021",
          "31/07/2021",
          "08/01/2021",
          "08/02/2021",
          "08/03/2021",
          "08/04/2021",
          "08/05/2021",
          "08/06/2021",
          "08/07/2021",
          "08/08/2021",
          "08/09/2021",
          "08/10/2021",
          "08/11/2021",
          "08/12/2021",
          "13/08/2021",
          "14/08/2021",
          "15/08/2021",
          "16/08/2021",
          "17/08/2021",
          "18/08/2021",
          "19/08/2021",
          "20/08/2021",
          "21/08/2021",
          "22/08/2021",
          "23/08/2021",
          "24/08/2021",
          "25/08/2021",
          "26/08/2021",
          "27/08/2021",
          "28/08/2021",
          "29/08/2021",
          "30/08/2021",
          "31/08/2021",
          "09/01/2021",
          "09/02/2021",
          "09/03/2021",
          "09/04/2021",
          "09/05/2021",
          "09/06/2021",
          "09/07/2021",
          "09/08/2021",
          "09/09/2021",
          "09/10/2021",
          "09/11/2021",
          "09/12/2021",
          "13/09/2021",
          "14/09/2021",
          "15/09/2021",
          "16/09/2021",
          "17/09/2021",
          "18/09/2021",
          "19/09/2021",
          "20/09/2021",
          "21/09/2021",
          "22/09/2021",
          "23/09/2021",
          "24/09/2021",
          "25/09/2021",
          "26/09/2021",
          "27/09/2021",
          "28/09/2021",
          "29/09/2021",
          "30/09/2021",
          "10/01/2021",
          "10/02/2021",
          "10/03/2021",
          "10/04/2021",
          "10/05/2021",
          "10/06/2021",
          "10/07/2021",
          "10/08/2021",
          "10/09/2021",
          "10/10/2021",
          "10/11/2021",
          "10/12/2021",
          "13/10/2021",
          "14/10/2021",
          "15/10/2021",
          "16/10/2021",
          "17/10/2021",
          "18/10/2021",
          "19/10/2021",
          "20/10/2021",
          "21/10/2021",
          "22/10/2021",
          "23/10/2021",
          "24/10/2021",
          "25/10/2021",
          "26/10/2021",
          "27/10/2021",
          "28/10/2021",
          "29/10/2021",
          "30/10/2021",
          "31/10/2021",
          "11/01/2021",
          "11/02/2021",
          "11/03/2021",
          "11/04/2021",
          "11/05/2021",
          "11/06/2021",
          "11/07/2021",
          "11/08/2021",
          "11/09/2021",
          "11/10/2021",
          "11/11/2021",
          "11/12/2021",
          "13/11/2021",
          "14/11/2021",
          "15/11/2021",
          "16/11/2021",
          "17/11/2021",
          "18/11/2021",
          "19/11/2021",
          "20/11/2021",
          "21/11/2021",
          "22/11/2021",
          "23/11/2021",
          "24/11/2021",
          "25/11/2021",
          "26/11/2021",
          "27/11/2021",
          "28/11/2021",
          "29/11/2021",
          "30/11/2021",
          "12/01/2021",
          "12/02/2021",
          "12/03/2021",
          "12/04/2021",
          "12/05/2021",
          "12/06/2021",
          "12/07/2021",
          "12/08/2021",
          "12/09/2021",
          "12/10/2021",
          "12/11/2021",
          "12/12/2021",
          "13/12/2021",
          "14/12/2021",
          "15/12/2021",
          "16/12/2021",
          "17/12/2021",
          "18/12/2021",
          "19/12/2021",
          "20/12/2021",
          "21/12/2021",
          "22/12/2021",
          "23/12/2021",
          "24/12/2021",
          "25/12/2021",
          "26/12/2021",
          "27/12/2021",
          "28/12/2021",
          "29/12/2021",
          "30/12/2021",
          "31/12/2021"
         ],
         "xaxis": "x",
         "y": [
          964.4,
          1019.7,
          988.4,
          1002.1,
          1061.5,
          1061.5,
          1061.5,
          1061.5,
          1064.1,
          966.7,
          1002,
          1066.6,
          1061.5,
          1061.5,
          1061.5,
          1066.6,
          988.4,
          1058,
          1069.4,
          1069.4,
          1069.4,
          1061.5,
          1019.7,
          988.3,
          988.4,
          988.4,
          966.7,
          963.6,
          945.5,
          918.6,
          966.7,
          964.4,
          966.8,
          966.7,
          964.4,
          964.4,
          963.6,
          963.6,
          963.6,
          912.1,
          912.1,
          916.8,
          888.5,
          894.6,
          912.1,
          890.2,
          963.6,
          963.6,
          964.4,
          964.4,
          964.4,
          963.6,
          988.3,
          988.3,
          988.3,
          988.4,
          1002,
          988.4,
          964.4,
          988.3,
          1019.7,
          988.4,
          1002,
          1002.1,
          988.4,
          966.7,
          1002,
          1019.7,
          1019.7,
          1061.5,
          1002.1,
          1002,
          1019.7,
          1002.1,
          1061.5,
          1061.5,
          1069.4,
          1069.4,
          1061.5,
          966.7,
          1022.6,
          1022.6,
          1022.6,
          1064,
          1061.5,
          1061.5,
          966.7,
          1002,
          1061.5,
          1022.6,
          988.4,
          1002,
          988.4,
          966.7,
          1002,
          1061.5,
          1061.5,
          1061.5,
          1022.6,
          966.7,
          966.7,
          966.7,
          1061.5,
          1069.4,
          1064.1,
          1069.4,
          1069.4,
          1022.6,
          1069.4,
          1069.4,
          1069.4,
          1069.4,
          1069.4,
          1069.4,
          966.8,
          1061.5,
          1069.4,
          1069.4,
          1064,
          945.5,
          930.6,
          966.7,
          1061.5,
          1069.4,
          1061.5,
          1022.6,
          988.4,
          1002,
          964.4,
          1022.6,
          1061.5,
          1069.4,
          1069.4,
          1069.4,
          1069.4,
          1022.6,
          1069.4,
          1069.4,
          1061.5,
          1069.4,
          1069.4,
          1069.4,
          1061.5,
          1069.4,
          1069.4,
          1061.5,
          1061.5,
          1061.5,
          1002.1,
          990.9,
          1061.5,
          990.9,
          990.9,
          990.9,
          990.9,
          966.7,
          966.7,
          1022.6,
          1061.5,
          1069.4,
          1069.4,
          1061.5,
          990.9,
          990.9,
          990.9,
          966.7,
          1022.6,
          1022.6,
          1069.4,
          1064,
          990.9,
          966.7,
          1002,
          1022.6,
          1061.5,
          1069.4,
          1064.1,
          966.7,
          966.7,
          966.7,
          990.9,
          945.5,
          964.4,
          966.7,
          963.6,
          990.9,
          1061.5,
          966.8,
          990.9,
          1022.6,
          1022.6,
          964.4,
          966.8,
          990.9,
          990.9,
          1069.4,
          1069.4,
          1061.5,
          966.7,
          1069.4,
          1403,
          1565.5,
          1403,
          1520.2,
          1403,
          1087.5,
          1379.4,
          1331.3,
          1316.8,
          1061.5,
          990.9,
          964.4,
          945.5,
          990.9,
          1061.5,
          1064.1,
          1069.4,
          1069.4,
          1061.5,
          990.9,
          1069.4,
          1403,
          1422.9,
          1422.9,
          1423.1,
          1403,
          1379.4,
          1565.1,
          1503.4,
          1422.9,
          1403,
          1379.4,
          1316.9,
          1064.1,
          1069.4,
          1294,
          1293.5,
          1069.4,
          1069.4,
          990.9,
          945.5,
          1002,
          1022.6,
          1022.6,
          885.7,
          1022.6,
          1069.4,
          1022.6,
          1069.4,
          1061.5,
          1061.5,
          1061.5,
          1293.5,
          1069.4,
          966.7,
          1061.5,
          1069.4,
          1022.6,
          1002,
          1022.6,
          1002,
          945.5,
          990.9,
          1022.6,
          1022.6,
          1022.6,
          990.9,
          966.7,
          930.6,
          964.4,
          1002,
          1022.6,
          1002.1,
          1022.6,
          990.9,
          945.5,
          1002,
          1022.6,
          966.7,
          1022.6,
          1069.4,
          1022.6,
          964.4,
          1022.6,
          1069.4,
          1061.5,
          1064.1,
          1002,
          990.9,
          963.6,
          1002,
          1069.4,
          1069.4,
          1061.5,
          1061.5,
          1002,
          966.7,
          1002,
          1022.6,
          1022.6,
          990.9,
          1002,
          990.9,
          945.4,
          1002,
          1061.5,
          1002,
          1022.6,
          1002,
          990.9,
          963.6,
          990.9,
          1002,
          1069.4,
          1069.4,
          1061.5,
          1002,
          966.7,
          1069.4,
          1069.4,
          1069.4,
          1061.5,
          1069.4,
          1061.5,
          966.7,
          1022.6,
          1061.5,
          1002,
          1022.6,
          1002.1,
          966.8,
          963.7,
          966.7,
          990.9,
          1002.1,
          1022.6,
          1002,
          990.9,
          964.4,
          990.9,
          1002,
          1022.6,
          1061.5,
          1061.5,
          1022.6,
          966.7,
          1022.6,
          1061.5,
          1064.1,
          1061.5,
          1061.5,
          1022.6,
          990.9,
          1061.5,
          1061.5,
          1022.6,
          1022.6,
          1022.6,
          1002,
          966.7,
          1002,
          1002,
          1061.5,
          1022.6,
          1022.6
         ],
         "yaxis": "y"
        }
       ],
       "layout": {
        "autosize": true,
        "legend": {
         "tracegroupgap": 0
        },
        "margin": {
         "t": 60
        },
        "plot_bgcolor": "rgba(53,223,0,0.8)",
        "template": {
         "data": {
          "bar": [
           {
            "error_x": {
             "color": "#2a3f5f"
            },
            "error_y": {
             "color": "#2a3f5f"
            },
            "marker": {
             "line": {
              "color": "#E5ECF6",
              "width": 0.5
             },
             "pattern": {
              "fillmode": "overlay",
              "size": 10,
              "solidity": 0.2
             }
            },
            "type": "bar"
           }
          ],
          "barpolar": [
           {
            "marker": {
             "line": {
              "color": "#E5ECF6",
              "width": 0.5
             },
             "pattern": {
              "fillmode": "overlay",
              "size": 10,
              "solidity": 0.2
             }
            },
            "type": "barpolar"
           }
          ],
          "carpet": [
           {
            "aaxis": {
             "endlinecolor": "#2a3f5f",
             "gridcolor": "white",
             "linecolor": "white",
             "minorgridcolor": "white",
             "startlinecolor": "#2a3f5f"
            },
            "baxis": {
             "endlinecolor": "#2a3f5f",
             "gridcolor": "white",
             "linecolor": "white",
             "minorgridcolor": "white",
             "startlinecolor": "#2a3f5f"
            },
            "type": "carpet"
           }
          ],
          "choropleth": [
           {
            "colorbar": {
             "outlinewidth": 0,
             "ticks": ""
            },
            "type": "choropleth"
           }
          ],
          "contour": [
           {
            "colorbar": {
             "outlinewidth": 0,
             "ticks": ""
            },
            "colorscale": [
             [
              0,
              "#0d0887"
             ],
             [
              0.1111111111111111,
              "#46039f"
             ],
             [
              0.2222222222222222,
              "#7201a8"
             ],
             [
              0.3333333333333333,
              "#9c179e"
             ],
             [
              0.4444444444444444,
              "#bd3786"
             ],
             [
              0.5555555555555556,
              "#d8576b"
             ],
             [
              0.6666666666666666,
              "#ed7953"
             ],
             [
              0.7777777777777778,
              "#fb9f3a"
             ],
             [
              0.8888888888888888,
              "#fdca26"
             ],
             [
              1,
              "#f0f921"
             ]
            ],
            "type": "contour"
           }
          ],
          "contourcarpet": [
           {
            "colorbar": {
             "outlinewidth": 0,
             "ticks": ""
            },
            "type": "contourcarpet"
           }
          ],
          "heatmap": [
           {
            "colorbar": {
             "outlinewidth": 0,
             "ticks": ""
            },
            "colorscale": [
             [
              0,
              "#0d0887"
             ],
             [
              0.1111111111111111,
              "#46039f"
             ],
             [
              0.2222222222222222,
              "#7201a8"
             ],
             [
              0.3333333333333333,
              "#9c179e"
             ],
             [
              0.4444444444444444,
              "#bd3786"
             ],
             [
              0.5555555555555556,
              "#d8576b"
             ],
             [
              0.6666666666666666,
              "#ed7953"
             ],
             [
              0.7777777777777778,
              "#fb9f3a"
             ],
             [
              0.8888888888888888,
              "#fdca26"
             ],
             [
              1,
              "#f0f921"
             ]
            ],
            "type": "heatmap"
           }
          ],
          "heatmapgl": [
           {
            "colorbar": {
             "outlinewidth": 0,
             "ticks": ""
            },
            "colorscale": [
             [
              0,
              "#0d0887"
             ],
             [
              0.1111111111111111,
              "#46039f"
             ],
             [
              0.2222222222222222,
              "#7201a8"
             ],
             [
              0.3333333333333333,
              "#9c179e"
             ],
             [
              0.4444444444444444,
              "#bd3786"
             ],
             [
              0.5555555555555556,
              "#d8576b"
             ],
             [
              0.6666666666666666,
              "#ed7953"
             ],
             [
              0.7777777777777778,
              "#fb9f3a"
             ],
             [
              0.8888888888888888,
              "#fdca26"
             ],
             [
              1,
              "#f0f921"
             ]
            ],
            "type": "heatmapgl"
           }
          ],
          "histogram": [
           {
            "marker": {
             "pattern": {
              "fillmode": "overlay",
              "size": 10,
              "solidity": 0.2
             }
            },
            "type": "histogram"
           }
          ],
          "histogram2d": [
           {
            "colorbar": {
             "outlinewidth": 0,
             "ticks": ""
            },
            "colorscale": [
             [
              0,
              "#0d0887"
             ],
             [
              0.1111111111111111,
              "#46039f"
             ],
             [
              0.2222222222222222,
              "#7201a8"
             ],
             [
              0.3333333333333333,
              "#9c179e"
             ],
             [
              0.4444444444444444,
              "#bd3786"
             ],
             [
              0.5555555555555556,
              "#d8576b"
             ],
             [
              0.6666666666666666,
              "#ed7953"
             ],
             [
              0.7777777777777778,
              "#fb9f3a"
             ],
             [
              0.8888888888888888,
              "#fdca26"
             ],
             [
              1,
              "#f0f921"
             ]
            ],
            "type": "histogram2d"
           }
          ],
          "histogram2dcontour": [
           {
            "colorbar": {
             "outlinewidth": 0,
             "ticks": ""
            },
            "colorscale": [
             [
              0,
              "#0d0887"
             ],
             [
              0.1111111111111111,
              "#46039f"
             ],
             [
              0.2222222222222222,
              "#7201a8"
             ],
             [
              0.3333333333333333,
              "#9c179e"
             ],
             [
              0.4444444444444444,
              "#bd3786"
             ],
             [
              0.5555555555555556,
              "#d8576b"
             ],
             [
              0.6666666666666666,
              "#ed7953"
             ],
             [
              0.7777777777777778,
              "#fb9f3a"
             ],
             [
              0.8888888888888888,
              "#fdca26"
             ],
             [
              1,
              "#f0f921"
             ]
            ],
            "type": "histogram2dcontour"
           }
          ],
          "mesh3d": [
           {
            "colorbar": {
             "outlinewidth": 0,
             "ticks": ""
            },
            "type": "mesh3d"
           }
          ],
          "parcoords": [
           {
            "line": {
             "colorbar": {
              "outlinewidth": 0,
              "ticks": ""
             }
            },
            "type": "parcoords"
           }
          ],
          "pie": [
           {
            "automargin": true,
            "type": "pie"
           }
          ],
          "scatter": [
           {
            "fillpattern": {
             "fillmode": "overlay",
             "size": 10,
             "solidity": 0.2
            },
            "type": "scatter"
           }
          ],
          "scatter3d": [
           {
            "line": {
             "colorbar": {
              "outlinewidth": 0,
              "ticks": ""
             }
            },
            "marker": {
             "colorbar": {
              "outlinewidth": 0,
              "ticks": ""
             }
            },
            "type": "scatter3d"
           }
          ],
          "scattercarpet": [
           {
            "marker": {
             "colorbar": {
              "outlinewidth": 0,
              "ticks": ""
             }
            },
            "type": "scattercarpet"
           }
          ],
          "scattergeo": [
           {
            "marker": {
             "colorbar": {
              "outlinewidth": 0,
              "ticks": ""
             }
            },
            "type": "scattergeo"
           }
          ],
          "scattergl": [
           {
            "marker": {
             "colorbar": {
              "outlinewidth": 0,
              "ticks": ""
             }
            },
            "type": "scattergl"
           }
          ],
          "scattermapbox": [
           {
            "marker": {
             "colorbar": {
              "outlinewidth": 0,
              "ticks": ""
             }
            },
            "type": "scattermapbox"
           }
          ],
          "scatterpolar": [
           {
            "marker": {
             "colorbar": {
              "outlinewidth": 0,
              "ticks": ""
             }
            },
            "type": "scatterpolar"
           }
          ],
          "scatterpolargl": [
           {
            "marker": {
             "colorbar": {
              "outlinewidth": 0,
              "ticks": ""
             }
            },
            "type": "scatterpolargl"
           }
          ],
          "scatterternary": [
           {
            "marker": {
             "colorbar": {
              "outlinewidth": 0,
              "ticks": ""
             }
            },
            "type": "scatterternary"
           }
          ],
          "surface": [
           {
            "colorbar": {
             "outlinewidth": 0,
             "ticks": ""
            },
            "colorscale": [
             [
              0,
              "#0d0887"
             ],
             [
              0.1111111111111111,
              "#46039f"
             ],
             [
              0.2222222222222222,
              "#7201a8"
             ],
             [
              0.3333333333333333,
              "#9c179e"
             ],
             [
              0.4444444444444444,
              "#bd3786"
             ],
             [
              0.5555555555555556,
              "#d8576b"
             ],
             [
              0.6666666666666666,
              "#ed7953"
             ],
             [
              0.7777777777777778,
              "#fb9f3a"
             ],
             [
              0.8888888888888888,
              "#fdca26"
             ],
             [
              1,
              "#f0f921"
             ]
            ],
            "type": "surface"
           }
          ],
          "table": [
           {
            "cells": {
             "fill": {
              "color": "#EBF0F8"
             },
             "line": {
              "color": "white"
             }
            },
            "header": {
             "fill": {
              "color": "#C8D4E3"
             },
             "line": {
              "color": "white"
             }
            },
            "type": "table"
           }
          ]
         },
         "layout": {
          "annotationdefaults": {
           "arrowcolor": "#2a3f5f",
           "arrowhead": 0,
           "arrowwidth": 1
          },
          "autotypenumbers": "strict",
          "coloraxis": {
           "colorbar": {
            "outlinewidth": 0,
            "ticks": ""
           }
          },
          "colorscale": {
           "diverging": [
            [
             0,
             "#8e0152"
            ],
            [
             0.1,
             "#c51b7d"
            ],
            [
             0.2,
             "#de77ae"
            ],
            [
             0.3,
             "#f1b6da"
            ],
            [
             0.4,
             "#fde0ef"
            ],
            [
             0.5,
             "#f7f7f7"
            ],
            [
             0.6,
             "#e6f5d0"
            ],
            [
             0.7,
             "#b8e186"
            ],
            [
             0.8,
             "#7fbc41"
            ],
            [
             0.9,
             "#4d9221"
            ],
            [
             1,
             "#276419"
            ]
           ],
           "sequential": [
            [
             0,
             "#0d0887"
            ],
            [
             0.1111111111111111,
             "#46039f"
            ],
            [
             0.2222222222222222,
             "#7201a8"
            ],
            [
             0.3333333333333333,
             "#9c179e"
            ],
            [
             0.4444444444444444,
             "#bd3786"
            ],
            [
             0.5555555555555556,
             "#d8576b"
            ],
            [
             0.6666666666666666,
             "#ed7953"
            ],
            [
             0.7777777777777778,
             "#fb9f3a"
            ],
            [
             0.8888888888888888,
             "#fdca26"
            ],
            [
             1,
             "#f0f921"
            ]
           ],
           "sequentialminus": [
            [
             0,
             "#0d0887"
            ],
            [
             0.1111111111111111,
             "#46039f"
            ],
            [
             0.2222222222222222,
             "#7201a8"
            ],
            [
             0.3333333333333333,
             "#9c179e"
            ],
            [
             0.4444444444444444,
             "#bd3786"
            ],
            [
             0.5555555555555556,
             "#d8576b"
            ],
            [
             0.6666666666666666,
             "#ed7953"
            ],
            [
             0.7777777777777778,
             "#fb9f3a"
            ],
            [
             0.8888888888888888,
             "#fdca26"
            ],
            [
             1,
             "#f0f921"
            ]
           ]
          },
          "colorway": [
           "#636efa",
           "#EF553B",
           "#00cc96",
           "#ab63fa",
           "#FFA15A",
           "#19d3f3",
           "#FF6692",
           "#B6E880",
           "#FF97FF",
           "#FECB52"
          ],
          "font": {
           "color": "#2a3f5f"
          },
          "geo": {
           "bgcolor": "white",
           "lakecolor": "white",
           "landcolor": "#E5ECF6",
           "showlakes": true,
           "showland": true,
           "subunitcolor": "white"
          },
          "hoverlabel": {
           "align": "left"
          },
          "hovermode": "closest",
          "mapbox": {
           "style": "light"
          },
          "paper_bgcolor": "white",
          "plot_bgcolor": "#E5ECF6",
          "polar": {
           "angularaxis": {
            "gridcolor": "white",
            "linecolor": "white",
            "ticks": ""
           },
           "bgcolor": "#E5ECF6",
           "radialaxis": {
            "gridcolor": "white",
            "linecolor": "white",
            "ticks": ""
           }
          },
          "scene": {
           "xaxis": {
            "backgroundcolor": "#E5ECF6",
            "gridcolor": "white",
            "gridwidth": 2,
            "linecolor": "white",
            "showbackground": true,
            "ticks": "",
            "zerolinecolor": "white"
           },
           "yaxis": {
            "backgroundcolor": "#E5ECF6",
            "gridcolor": "white",
            "gridwidth": 2,
            "linecolor": "white",
            "showbackground": true,
            "ticks": "",
            "zerolinecolor": "white"
           },
           "zaxis": {
            "backgroundcolor": "#E5ECF6",
            "gridcolor": "white",
            "gridwidth": 2,
            "linecolor": "white",
            "showbackground": true,
            "ticks": "",
            "zerolinecolor": "white"
           }
          },
          "shapedefaults": {
           "line": {
            "color": "#2a3f5f"
           }
          },
          "ternary": {
           "aaxis": {
            "gridcolor": "white",
            "linecolor": "white",
            "ticks": ""
           },
           "baxis": {
            "gridcolor": "white",
            "linecolor": "white",
            "ticks": ""
           },
           "bgcolor": "#E5ECF6",
           "caxis": {
            "gridcolor": "white",
            "linecolor": "white",
            "ticks": ""
           }
          },
          "title": {
           "x": 0.05
          },
          "xaxis": {
           "automargin": true,
           "gridcolor": "white",
           "linecolor": "white",
           "ticks": "",
           "title": {
            "standoff": 15
           },
           "zerolinecolor": "white",
           "zerolinewidth": 2
          },
          "yaxis": {
           "automargin": true,
           "gridcolor": "white",
           "linecolor": "white",
           "ticks": "",
           "title": {
            "standoff": 15
           },
           "zerolinecolor": "white",
           "zerolinewidth": 2
          }
         }
        },
        "title": {
         "text": "Data",
         "x": 0.5,
         "xanchor": "center",
         "y": 0.95,
         "yanchor": "top"
        },
        "xaxis": {
         "anchor": "y",
         "autorange": true,
         "domain": [
          0,
          1
         ],
         "range": [
          0,
          364
         ],
         "title": {
          "text": "Ngay"
         },
         "type": "category"
        },
        "yaxis": {
         "anchor": "x",
         "autorange": true,
         "domain": [
          0,
          1
         ],
         "range": [
          847.9333333333334,
          1603.2666666666667
         ],
         "title": {
          "text": "9"
         },
         "type": "linear"
        }
       }
      },
      "image/png": "[encoded data removed]",
      "text/html": [
       "<div>                            <div id=\"075b4697-c2fa-465d-865e-3fd8d702f52b\" class=\"plotly-graph-div\" style=\"height:525px; width:100%;\"></div>            <script type=\"text/javascript\">                require([\"plotly\"], function(Plotly) {                    window.PLOTLYENV=window.PLOTLYENV || {};                                    if (document.getElementById(\"075b4697-c2fa-465d-865e-3fd8d702f52b\")) {                    Plotly.newPlot(                        \"075b4697-c2fa-465d-865e-3fd8d702f52b\",                        [{\"hovertemplate\":\"x=%{x}\\u003cbr\\u003ey=%{y}\\u003cextra\\u003e\\u003c\\u002fextra\\u003e\",\"legendgroup\":\"\",\"line\":{\"color\":\"black\",\"dash\":\"solid\"},\"marker\":{\"symbol\":\"circle\"},\"mode\":\"lines\",\"name\":\"\",\"orientation\":\"v\",\"showlegend\":false,\"x\":[\"01\\u002f01\\u002f2021\",\"01\\u002f02\\u002f2021\",\"01\\u002f03\\u002f2021\",\"01\\u002f04\\u002f2021\",\"01\\u002f05\\u002f2021\",\"01\\u002f06\\u002f2021\",\"01\\u002f07\\u002f2021\",\"01\\u002f08\\u002f2021\",\"01\\u002f09\\u002f2021\",\"01\\u002f10\\u002f2021\",\"01\\u002f11\\u002f2021\",\"01\\u002f12\\u002f2021\",\"13\\u002f01\\u002f2021\",\"14\\u002f01\\u002f2021\",\"15\\u002f01\\u002f2021\",\"16\\u002f01\\u002f2021\",\"17\\u002f01\\u002f2021\",\"18\\u002f01\\u002f2021\",\"19\\u002f01\\u002f2021\",\"20\\u002f01\\u002f2021\",\"21\\u002f01\\u002f2021\",\"22\\u002f01\\u002f2021\",\"23\\u002f01\\u002f2021\",\"24\\u002f01\\u002f2021\",\"25\\u002f01\\u002f2021\",\"26\\u002f01\\u002f2021\",\"27\\u002f01\\u002f2021\",\"28\\u002f01\\u002f2021\",\"29\\u002f01\\u002f2021\",\"30\\u002f01\\u002f2021\",\"31\\u002f01\\u002f2021\",\"02\\u002f01\\u002f2021\",\"02\\u002f02\\u002f2021\",\"02\\u002f03\\u002f2021\",\"02\\u002f04\\u002f2021\",\"02\\u002f05\\u002f2021\",\"02\\u002f06\\u002f2021\",\"02\\u002f07\\u002f2021\",\"02\\u002f08\\u002f2021\",\"02\\u002f09\\u002f2021\",\"02\\u002f10\\u002f2021\",\"02\\u002f11\\u002f2021\",\"02\\u002f12\\u002f2021\",\"13\\u002f02\\u002f2021\",\"14\\u002f02\\u002f2021\",\"15\\u002f02\\u002f2021\",\"16\\u002f02\\u002f2021\",\"17\\u002f02\\u002f2021\",\"18\\u002f02\\u002f2021\",\"19\\u002f02\\u002f2021\",\"20\\u002f02\\u002f2021\",\"21\\u002f02\\u002f2021\",\"22\\u002f02\\u002f2021\",\"23\\u002f02\\u002f2021\",\"24\\u002f02\\u002f2021\",\"25\\u002f02\\u002f2021\",\"26\\u002f02\\u002f2021\",\"27\\u002f02\\u002f2021\",\"28\\u002f02\\u002f2021\",\"03\\u002f01\\u002f2021\",\"03\\u002f02\\u002f2021\",\"03\\u002f03\\u002f2021\",\"03\\u002f04\\u002f2021\",\"03\\u002f05\\u002f2021\",\"03\\u002f06\\u002f2021\",\"03\\u002f07\\u002f2021\",\"03\\u002f08\\u002f2021\",\"03\\u002f09\\u002f2021\",\"03\\u002f10\\u002f2021\",\"03\\u002f11\\u002f2021\",\"03\\u002f12\\u002f2021\",\"13\\u002f03\\u002f2021\",\"14\\u002f03\\u002f2021\",\"15\\u002f03\\u002f2021\",\"16\\u002f03\\u002f2021\",\"17\\u002f03\\u002f2021\",\"18\\u002f03\\u002f2021\",\"19\\u002f03\\u002f2021\",\"20\\u002f03\\u002f2021\",\"21\\u002f03\\u002f2021\",\"22\\u002f03\\u002f2021\",\"23\\u002f03\\u002f2021\",\"24\\u002f03\\u002f2021\",\"25\\u002f03\\u002f2021\",\"26\\u002f03\\u002f2021\",\"27\\u002f03\\u002f2021\",\"28\\u002f03\\u002f2021\",\"29\\u002f03\\u002f2021\",\"30\\u002f03\\u002f2021\",\"31\\u002f03\\u002f2021\",\"04\\u002f01\\u002f2021\",\"04\\u002f02\\u002f2021\",\"04\\u002f03\\u002f2021\",\"04\\u002f04\\u002f2021\",\"04\\u002f05\\u002f2021\",\"04\\u002f06\\u002f2021\",\"04\\u002f07\\u002f2021\",\"04\\u002f08\\u002f2021\",\"04\\u002f09\\u002f2021\",\"04\\u002f10\\u002f2021\",\"04\\u002f11\\u002f2021\",\"04\\u002f12\\u002f2021\",\"13\\u002f04\\u002f2021\",\"14\\u002f04\\u002f2021\",\"15\\u002f04\\u002f2021\",\"16\\u002f04\\u002f2021\",\"17\\u002f04\\u002f2021\",\"18\\u002f04\\u002f2021\",\"19\\u002f04\\u002f2021\",\"20\\u002f04\\u002f2021\",\"21\\u002f04\\u002f2021\",\"22\\u002f04\\u002f2021\",\"23\\u002f04\\u002f2021\",\"24\\u002f04\\u002f2021\",\"25\\u002f04\\u002f2021\",\"26\\u002f04\\u002f2021\",\"27\\u002f04\\u002f2021\",\"28\\u002f04\\u002f2021\",\"29\\u002f04\\u002f2021\",\"30\\u002f04\\u002f2021\",\"05\\u002f01\\u002f2021\",\"05\\u002f02\\u002f2021\",\"05\\u002f03\\u002f2021\",\"05\\u002f04\\u002f2021\",\"05\\u002f05\\u002f2021\",\"05\\u002f06\\u002f2021\",\"05\\u002f07\\u002f2021\",\"05\\u002f08\\u002f2021\",\"05\\u002f09\\u002f2021\",\"05\\u002f10\\u002f2021\",\"05\\u002f11\\u002f2021\",\"05\\u002f12\\u002f2021\",\"13\\u002f05\\u002f2021\",\"14\\u002f05\\u002f2021\",\"15\\u002f05\\u002f2021\",\"16\\u002f05\\u002f2021\",\"17\\u002f05\\u002f2021\",\"18\\u002f05\\u002f2021\",\"19\\u002f05\\u002f2021\",\"20\\u002f05\\u002f2021\",\"21\\u002f05\\u002f2021\",\"22\\u002f05\\u002f2021\",\"23\\u002f05\\u002f2021\",\"24\\u002f05\\u002f2021\",\"25\\u002f05\\u002f2021\",\"26\\u002f05\\u002f2021\",\"27\\u002f05\\u002f2021\",\"28\\u002f05\\u002f2021\",\"29\\u002f05\\u002f2021\",\"30\\u002f05\\u002f2021\",\"31\\u002f05\\u002f2021\",\"06\\u002f01\\u002f2021\",\"06\\u002f02\\u002f2021\",\"06\\u002f03\\u002f2021\",\"06\\u002f04\\u002f2021\",\"06\\u002f05\\u002f2021\",\"06\\u002f06\\u002f2021\",\"06\\u002f07\\u002f2021\",\"06\\u002f08\\u002f2021\",\"06\\u002f09\\u002f2021\",\"06\\u002f10\\u002f2021\",\"06\\u002f11\\u002f2021\",\"06\\u002f12\\u002f2021\",\"13\\u002f06\\u002f2021\",\"14\\u002f06\\u002f2021\",\"15\\u002f06\\u002f2021\",\"16\\u002f06\\u002f2021\",\"17\\u002f06\\u002f2021\",\"18\\u002f06\\u002f2021\",\"19\\u002f06\\u002f2021\",\"20\\u002f06\\u002f2021\",\"21\\u002f06\\u002f2021\",\"22\\u002f06\\u002f2021\",\"23\\u002f06\\u002f2021\",\"24\\u002f06\\u002f2021\",\"25\\u002f06\\u002f2021\",\"26\\u002f06\\u002f2021\",\"27\\u002f06\\u002f2021\",\"28\\u002f06\\u002f2021\",\"29\\u002f06\\u002f2021\",\"30\\u002f06\\u002f2021\",\"07\\u002f01\\u002f2021\",\"07\\u002f02\\u002f2021\",\"07\\u002f03\\u002f2021\",\"07\\u002f04\\u002f2021\",\"07\\u002f05\\u002f2021\",\"07\\u002f06\\u002f2021\",\"07\\u002f07\\u002f2021\",\"07\\u002f08\\u002f2021\",\"07\\u002f09\\u002f2021\",\"07\\u002f10\\u002f2021\",\"07\\u002f11\\u002f2021\",\"07\\u002f12\\u002f2021\",\"13\\u002f07\\u002f2021\",\"14\\u002f07\\u002f2021\",\"15\\u002f07\\u002f2021\",\"16\\u002f07\\u002f2021\",\"17\\u002f07\\u002f2021\",\"18\\u002f07\\u002f2021\",\"19\\u002f07\\u002f2021\",\"20\\u002f07\\u002f2021\",\"21\\u002f07\\u002f2021\",\"22\\u002f07\\u002f2021\",\"23\\u002f07\\u002f2021\",\"24\\u002f07\\u002f2021\",\"25\\u002f07\\u002f2021\",\"26\\u002f07\\u002f2021\",\"27\\u002f07\\u002f2021\",\"28\\u002f07\\u002f2021\",\"29\\u002f07\\u002f2021\",\"30\\u002f07\\u002f2021\",\"31\\u002f07\\u002f2021\",\"08\\u002f01\\u002f2021\",\"08\\u002f02\\u002f2021\",\"08\\u002f03\\u002f2021\",\"08\\u002f04\\u002f2021\",\"08\\u002f05\\u002f2021\",\"08\\u002f06\\u002f2021\",\"08\\u002f07\\u002f2021\",\"08\\u002f08\\u002f2021\",\"08\\u002f09\\u002f2021\",\"08\\u002f10\\u002f2021\",\"08\\u002f11\\u002f2021\",\"08\\u002f12\\u002f2021\",\"13\\u002f08\\u002f2021\",\"14\\u002f08\\u002f2021\",\"15\\u002f08\\u002f2021\",\"16\\u002f08\\u002f2021\",\"17\\u002f08\\u002f2021\",\"18\\u002f08\\u002f2021\",\"19\\u002f08\\u002f2021\",\"20\\u002f08\\u002f2021\",\"21\\u002f08\\u002f2021\",\"22\\u002f08\\u002f2021\",\"23\\u002f08\\u002f2021\",\"24\\u002f08\\u002f2021\",\"25\\u002f08\\u002f2021\",\"26\\u002f08\\u002f2021\",\"27\\u002f08\\u002f2021\",\"28\\u002f08\\u002f2021\",\"29\\u002f08\\u002f2021\",\"30\\u002f08\\u002f2021\",\"31\\u002f08\\u002f2021\",\"09\\u002f01\\u002f2021\",\"09\\u002f02\\u002f2021\",\"09\\u002f03\\u002f2021\",\"09\\u002f04\\u002f2021\",\"09\\u002f05\\u002f2021\",\"09\\u002f06\\u002f2021\",\"09\\u002f07\\u002f2021\",\"09\\u002f08\\u002f2021\",\"09\\u002f09\\u002f2021\",\"09\\u002f10\\u002f2021\",\"09\\u002f11\\u002f2021\",\"09\\u002f12\\u002f2021\",\"13\\u002f09\\u002f2021\",\"14\\u002f09\\u002f2021\",\"15\\u002f09\\u002f2021\",\"16\\u002f09\\u002f2021\",\"17\\u002f09\\u002f2021\",\"18\\u002f09\\u002f2021\",\"19\\u002f09\\u002f2021\",\"20\\u002f09\\u002f2021\",\"21\\u002f09\\u002f2021\",\"22\\u002f09\\u002f2021\",\"23\\u002f09\\u002f2021\",\"24\\u002f09\\u002f2021\",\"25\\u002f09\\u002f2021\",\"26\\u002f09\\u002f2021\",\"27\\u002f09\\u002f2021\",\"28\\u002f09\\u002f2021\",\"29\\u002f09\\u002f2021\",\"30\\u002f09\\u002f2021\",\"10\\u002f01\\u002f2021\",\"10\\u002f02\\u002f2021\",\"10\\u002f03\\u002f2021\",\"10\\u002f04\\u002f2021\",\"10\\u002f05\\u002f2021\",\"10\\u002f06\\u002f2021\",\"10\\u002f07\\u002f2021\",\"10\\u002f08\\u002f2021\",\"10\\u002f09\\u002f2021\",\"10\\u002f10\\u002f2021\",\"10\\u002f11\\u002f2021\",\"10\\u002f12\\u002f2021\",\"13\\u002f10\\u002f2021\",\"14\\u002f10\\u002f2021\",\"15\\u002f10\\u002f2021\",\"16\\u002f10\\u002f2021\",\"17\\u002f10\\u002f2021\",\"18\\u002f10\\u002f2021\",\"19\\u002f10\\u002f2021\",\"20\\u002f10\\u002f2021\",\"21\\u002f10\\u002f2021\",\"22\\u002f10\\u002f2021\",\"23\\u002f10\\u002f2021\",\"24\\u002f10\\u002f2021\",\"25\\u002f10\\u002f2021\",\"26\\u002f10\\u002f2021\",\"27\\u002f10\\u002f2021\",\"28\\u002f10\\u002f2021\",\"29\\u002f10\\u002f2021\",\"30\\u002f10\\u002f2021\",\"31\\u002f10\\u002f2021\",\"11\\u002f01\\u002f2021\",\"11\\u002f02\\u002f2021\",\"11\\u002f03\\u002f2021\",\"11\\u002f04\\u002f2021\",\"11\\u002f05\\u002f2021\",\"11\\u002f06\\u002f2021\",\"11\\u002f07\\u002f2021\",\"11\\u002f08\\u002f2021\",\"11\\u002f09\\u002f2021\",\"11\\u002f10\\u002f2021\",\"11\\u002f11\\u002f2021\",\"11\\u002f12\\u002f2021\",\"13\\u002f11\\u002f2021\",\"14\\u002f11\\u002f2021\",\"15\\u002f11\\u002f2021\",\"16\\u002f11\\u002f2021\",\"17\\u002f11\\u002f2021\",\"18\\u002f11\\u002f2021\",\"19\\u002f11\\u002f2021\",\"20\\u002f11\\u002f2021\",\"21\\u002f11\\u002f2021\",\"22\\u002f11\\u002f2021\",\"23\\u002f11\\u002f2021\",\"24\\u002f11\\u002f2021\",\"25\\u002f11\\u002f2021\",\"26\\u002f11\\u002f2021\",\"27\\u002f11\\u002f2021\",\"28\\u002f11\\u002f2021\",\"29\\u002f11\\u002f2021\",\"30\\u002f11\\u002f2021\",\"12\\u002f01\\u002f2021\",\"12\\u002f02\\u002f2021\",\"12\\u002f03\\u002f2021\",\"12\\u002f04\\u002f2021\",\"12\\u002f05\\u002f2021\",\"12\\u002f06\\u002f2021\",\"12\\u002f07\\u002f2021\",\"12\\u002f08\\u002f2021\",\"12\\u002f09\\u002f2021\",\"12\\u002f10\\u002f2021\",\"12\\u002f11\\u002f2021\",\"12\\u002f12\\u002f2021\",\"13\\u002f12\\u002f2021\",\"14\\u002f12\\u002f2021\",\"15\\u002f12\\u002f2021\",\"16\\u002f12\\u002f2021\",\"17\\u002f12\\u002f2021\",\"18\\u002f12\\u002f2021\",\"19\\u002f12\\u002f2021\",\"20\\u002f12\\u002f2021\",\"21\\u002f12\\u002f2021\",\"22\\u002f12\\u002f2021\",\"23\\u002f12\\u002f2021\",\"24\\u002f12\\u002f2021\",\"25\\u002f12\\u002f2021\",\"26\\u002f12\\u002f2021\",\"27\\u002f12\\u002f2021\",\"28\\u002f12\\u002f2021\",\"29\\u002f12\\u002f2021\",\"30\\u002f12\\u002f2021\",\"31\\u002f12\\u002f2021\"],\"xaxis\":\"x\",\"y\":[964.4,1019.7,988.4,1002.1,1061.5,1061.5,1061.5,1061.5,1064.1,966.7,1002.0,1066.6,1061.5,1061.5,1061.5,1066.6,988.4,1058.0,1069.4,1069.4,1069.4,1061.5,1019.7,988.3,988.4,988.4,966.7,963.6,945.5,918.6,966.7,964.4,966.8,966.7,964.4,964.4,963.6,963.6,963.6,912.1,912.1,916.8,888.5,894.6,912.1,890.2,963.6,963.6,964.4,964.4,964.4,963.6,988.3,988.3,988.3,988.4,1002.0,988.4,964.4,988.3,1019.7,988.4,1002.0,1002.1,988.4,966.7,1002.0,1019.7,1019.7,1061.5,1002.1,1002.0,1019.7,1002.1,1061.5,1061.5,1069.4,1069.4,1061.5,966.7,1022.6,1022.6,1022.6,1064.0,1061.5,1061.5,966.7,1002.0,1061.5,1022.6,988.4,1002.0,988.4,966.7,1002.0,1061.5,1061.5,1061.5,1022.6,966.7,966.7,966.7,1061.5,1069.4,1064.1,1069.4,1069.4,1022.6,1069.4,1069.4,1069.4,1069.4,1069.4,1069.4,966.8,1061.5,1069.4,1069.4,1064.0,945.5,930.6,966.7,1061.5,1069.4,1061.5,1022.6,988.4,1002.0,964.4,1022.6,1061.5,1069.4,1069.4,1069.4,1069.4,1022.6,1069.4,1069.4,1061.5,1069.4,1069.4,1069.4,1061.5,1069.4,1069.4,1061.5,1061.5,1061.5,1002.1,990.9,1061.5,990.9,990.9,990.9,990.9,966.7,966.7,1022.6,1061.5,1069.4,1069.4,1061.5,990.9,990.9,990.9,966.7,1022.6,1022.6,1069.4,1064.0,990.9,966.7,1002.0,1022.6,1061.5,1069.4,1064.1,966.7,966.7,966.7,990.9,945.5,964.4,966.7,963.6,990.9,1061.5,966.8,990.9,1022.6,1022.6,964.4,966.8,990.9,990.9,1069.4,1069.4,1061.5,966.7,1069.4,1403.0,1565.5,1403.0,1520.2,1403.0,1087.5,1379.4,1331.3,1316.8,1061.5,990.9,964.4,945.5,990.9,1061.5,1064.1,1069.4,1069.4,1061.5,990.9,1069.4,1403.0,1422.9,1422.9,1423.1,1403.0,1379.4,1565.1,1503.4,1422.9,1403.0,1379.4,1316.9,1064.1,1069.4,1294.0,1293.5,1069.4,1069.4,990.9,945.5,1002.0,1022.6,1022.6,885.7,1022.6,1069.4,1022.6,1069.4,1061.5,1061.5,1061.5,1293.5,1069.4,966.7,1061.5,1069.4,1022.6,1002.0,1022.6,1002.0,945.5,990.9,1022.6,1022.6,1022.6,990.9,966.7,930.6,964.4,1002.0,1022.6,1002.1,1022.6,990.9,945.5,1002.0,1022.6,966.7,1022.6,1069.4,1022.6,964.4,1022.6,1069.4,1061.5,1064.1,1002.0,990.9,963.6,1002.0,1069.4,1069.4,1061.5,1061.5,1002.0,966.7,1002.0,1022.6,1022.6,990.9,1002.0,990.9,945.4,1002.0,1061.5,1002.0,1022.6,1002.0,990.9,963.6,990.9,1002.0,1069.4,1069.4,1061.5,1002.0,966.7,1069.4,1069.4,1069.4,1061.5,1069.4,1061.5,966.7,1022.6,1061.5,1002.0,1022.6,1002.1,966.8,963.7,966.7,990.9,1002.1,1022.6,1002.0,990.9,964.4,990.9,1002.0,1022.6,1061.5,1061.5,1022.6,966.7,1022.6,1061.5,1064.1,1061.5,1061.5,1022.6,990.9,1061.5,1061.5,1022.6,1022.6,1022.6,1002.0,966.7,1002.0,1002.0,1061.5,1022.6,1022.6],\"yaxis\":\"y\",\"type\":\"scatter\"}],                        {\"template\":{\"data\":{\"histogram2dcontour\":[{\"type\":\"histogram2dcontour\",\"colorbar\":{\"outlinewidth\":0,\"ticks\":\"\"},\"colorscale\":[[0.0,\"#0d0887\"],[0.1111111111111111,\"#46039f\"],[0.2222222222222222,\"#7201a8\"],[0.3333333333333333,\"#9c179e\"],[0.4444444444444444,\"#bd3786\"],[0.5555555555555556,\"#d8576b\"],[0.6666666666666666,\"#ed7953\"],[0.7777777777777778,\"#fb9f3a\"],[0.8888888888888888,\"#fdca26\"],[1.0,\"#f0f921\"]]}],\"choropleth\":[{\"type\":\"choropleth\",\"colorbar\":{\"outlinewidth\":0,\"ticks\":\"\"}}],\"histogram2d\":[{\"type\":\"histogram2d\",\"colorbar\":{\"outlinewidth\":0,\"ticks\":\"\"},\"colorscale\":[[0.0,\"#0d0887\"],[0.1111111111111111,\"#46039f\"],[0.2222222222222222,\"#7201a8\"],[0.3333333333333333,\"#9c179e\"],[0.4444444444444444,\"#bd3786\"],[0.5555555555555556,\"#d8576b\"],[0.6666666666666666,\"#ed7953\"],[0.7777777777777778,\"#fb9f3a\"],[0.8888888888888888,\"#fdca26\"],[1.0,\"#f0f921\"]]}],\"heatmap\":[{\"type\":\"heatmap\",\"colorbar\":{\"outlinewidth\":0,\"ticks\":\"\"},\"colorscale\":[[0.0,\"#0d0887\"],[0.1111111111111111,\"#46039f\"],[0.2222222222222222,\"#7201a8\"],[0.3333333333333333,\"#9c179e\"],[0.4444444444444444,\"#bd3786\"],[0.5555555555555556,\"#d8576b\"],[0.6666666666666666,\"#ed7953\"],[0.7777777777777778,\"#fb9f3a\"],[0.8888888888888888,\"#fdca26\"],[1.0,\"#f0f921\"]]}],\"heatmapgl\":[{\"type\":\"heatmapgl\",\"colorbar\":{\"outlinewidth\":0,\"ticks\":\"\"},\"colorscale\":[[0.0,\"#0d0887\"],[0.1111111111111111,\"#46039f\"],[0.2222222222222222,\"#7201a8\"],[0.3333333333333333,\"#9c179e\"],[0.4444444444444444,\"#bd3786\"],[0.5555555555555556,\"#d8576b\"],[0.6666666666666666,\"#ed7953\"],[0.7777777777777778,\"#fb9f3a\"],[0.8888888888888888,\"#fdca26\"],[1.0,\"#f0f921\"]]}],\"contourcarpet\":[{\"type\":\"contourcarpet\",\"colorbar\":{\"outlinewidth\":0,\"ticks\":\"\"}}],\"contour\":[{\"type\":\"contour\",\"colorbar\":{\"outlinewidth\":0,\"ticks\":\"\"},\"colorscale\":[[0.0,\"#0d0887\"],[0.1111111111111111,\"#46039f\"],[0.2222222222222222,\"#7201a8\"],[0.3333333333333333,\"#9c179e\"],[0.4444444444444444,\"#bd3786\"],[0.5555555555555556,\"#d8576b\"],[0.6666666666666666,\"#ed7953\"],[0.7777777777777778,\"#fb9f3a\"],[0.8888888888888888,\"#fdca26\"],[1.0,\"#f0f921\"]]}],\"surface\":[{\"type\":\"surface\",\"colorbar\":{\"outlinewidth\":0,\"ticks\":\"\"},\"colorscale\":[[0.0,\"#0d0887\"],[0.1111111111111111,\"#46039f\"],[0.2222222222222222,\"#7201a8\"],[0.3333333333333333,\"#9c179e\"],[0.4444444444444444,\"#bd3786\"],[0.5555555555555556,\"#d8576b\"],[0.6666666666666666,\"#ed7953\"],[0.7777777777777778,\"#fb9f3a\"],[0.8888888888888888,\"#fdca26\"],[1.0,\"#f0f921\"]]}],\"mesh3d\":[{\"type\":\"mesh3d\",\"colorbar\":{\"outlinewidth\":0,\"ticks\":\"\"}}],\"scatter\":[{\"fillpattern\":{\"fillmode\":\"overlay\",\"size\":10,\"solidity\":0.2},\"type\":\"scatter\"}],\"parcoords\":[{\"type\":\"parcoords\",\"line\":{\"colorbar\":{\"outlinewidth\":0,\"ticks\":\"\"}}}],\"scatterpolargl\":[{\"type\":\"scatterpolargl\",\"marker\":{\"colorbar\":{\"outlinewidth\":0,\"ticks\":\"\"}}}],\"bar\":[{\"error_x\":{\"color\":\"#2a3f5f\"},\"error_y\":{\"color\":\"#2a3f5f\"},\"marker\":{\"line\":{\"color\":\"#E5ECF6\",\"width\":0.5},\"pattern\":{\"fillmode\":\"overlay\",\"size\":10,\"solidity\":0.2}},\"type\":\"bar\"}],\"scattergeo\":[{\"type\":\"scattergeo\",\"marker\":{\"colorbar\":{\"outlinewidth\":0,\"ticks\":\"\"}}}],\"scatterpolar\":[{\"type\":\"scatterpolar\",\"marker\":{\"colorbar\":{\"outlinewidth\":0,\"ticks\":\"\"}}}],\"histogram\":[{\"marker\":{\"pattern\":{\"fillmode\":\"overlay\",\"size\":10,\"solidity\":0.2}},\"type\":\"histogram\"}],\"scattergl\":[{\"type\":\"scattergl\",\"marker\":{\"colorbar\":{\"outlinewidth\":0,\"ticks\":\"\"}}}],\"scatter3d\":[{\"type\":\"scatter3d\",\"line\":{\"colorbar\":{\"outlinewidth\":0,\"ticks\":\"\"}},\"marker\":{\"colorbar\":{\"outlinewidth\":0,\"ticks\":\"\"}}}],\"scattermapbox\":[{\"type\":\"scattermapbox\",\"marker\":{\"colorbar\":{\"outlinewidth\":0,\"ticks\":\"\"}}}],\"scatterternary\":[{\"type\":\"scatterternary\",\"marker\":{\"colorbar\":{\"outlinewidth\":0,\"ticks\":\"\"}}}],\"scattercarpet\":[{\"type\":\"scattercarpet\",\"marker\":{\"colorbar\":{\"outlinewidth\":0,\"ticks\":\"\"}}}],\"carpet\":[{\"aaxis\":{\"endlinecolor\":\"#2a3f5f\",\"gridcolor\":\"white\",\"linecolor\":\"white\",\"minorgridcolor\":\"white\",\"startlinecolor\":\"#2a3f5f\"},\"baxis\":{\"endlinecolor\":\"#2a3f5f\",\"gridcolor\":\"white\",\"linecolor\":\"white\",\"minorgridcolor\":\"white\",\"startlinecolor\":\"#2a3f5f\"},\"type\":\"carpet\"}],\"table\":[{\"cells\":{\"fill\":{\"color\":\"#EBF0F8\"},\"line\":{\"color\":\"white\"}},\"header\":{\"fill\":{\"color\":\"#C8D4E3\"},\"line\":{\"color\":\"white\"}},\"type\":\"table\"}],\"barpolar\":[{\"marker\":{\"line\":{\"color\":\"#E5ECF6\",\"width\":0.5},\"pattern\":{\"fillmode\":\"overlay\",\"size\":10,\"solidity\":0.2}},\"type\":\"barpolar\"}],\"pie\":[{\"automargin\":true,\"type\":\"pie\"}]},\"layout\":{\"autotypenumbers\":\"strict\",\"colorway\":[\"#636efa\",\"#EF553B\",\"#00cc96\",\"#ab63fa\",\"#FFA15A\",\"#19d3f3\",\"#FF6692\",\"#B6E880\",\"#FF97FF\",\"#FECB52\"],\"font\":{\"color\":\"#2a3f5f\"},\"hovermode\":\"closest\",\"hoverlabel\":{\"align\":\"left\"},\"paper_bgcolor\":\"white\",\"plot_bgcolor\":\"#E5ECF6\",\"polar\":{\"bgcolor\":\"#E5ECF6\",\"angularaxis\":{\"gridcolor\":\"white\",\"linecolor\":\"white\",\"ticks\":\"\"},\"radialaxis\":{\"gridcolor\":\"white\",\"linecolor\":\"white\",\"ticks\":\"\"}},\"ternary\":{\"bgcolor\":\"#E5ECF6\",\"aaxis\":{\"gridcolor\":\"white\",\"linecolor\":\"white\",\"ticks\":\"\"},\"baxis\":{\"gridcolor\":\"white\",\"linecolor\":\"white\",\"ticks\":\"\"},\"caxis\":{\"gridcolor\":\"white\",\"linecolor\":\"white\",\"ticks\":\"\"}},\"coloraxis\":{\"colorbar\":{\"outlinewidth\":0,\"ticks\":\"\"}},\"colorscale\":{\"sequential\":[[0.0,\"#0d0887\"],[0.1111111111111111,\"#46039f\"],[0.2222222222222222,\"#7201a8\"],[0.3333333333333333,\"#9c179e\"],[0.4444444444444444,\"#bd3786\"],[0.5555555555555556,\"#d8576b\"],[0.6666666666666666,\"#ed7953\"],[0.7777777777777778,\"#fb9f3a\"],[0.8888888888888888,\"#fdca26\"],[1.0,\"#f0f921\"]],\"sequentialminus\":[[0.0,\"#0d0887\"],[0.1111111111111111,\"#46039f\"],[0.2222222222222222,\"#7201a8\"],[0.3333333333333333,\"#9c179e\"],[0.4444444444444444,\"#bd3786\"],[0.5555555555555556,\"#d8576b\"],[0.6666666666666666,\"#ed7953\"],[0.7777777777777778,\"#fb9f3a\"],[0.8888888888888888,\"#fdca26\"],[1.0,\"#f0f921\"]],\"diverging\":[[0,\"#8e0152\"],[0.1,\"#c51b7d\"],[0.2,\"#de77ae\"],[0.3,\"#f1b6da\"],[0.4,\"#fde0ef\"],[0.5,\"#f7f7f7\"],[0.6,\"#e6f5d0\"],[0.7,\"#b8e186\"],[0.8,\"#7fbc41\"],[0.9,\"#4d9221\"],[1,\"#276419\"]]},\"xaxis\":{\"gridcolor\":\"white\",\"linecolor\":\"white\",\"ticks\":\"\",\"title\":{\"standoff\":15},\"zerolinecolor\":\"white\",\"automargin\":true,\"zerolinewidth\":2},\"yaxis\":{\"gridcolor\":\"white\",\"linecolor\":\"white\",\"ticks\":\"\",\"title\":{\"standoff\":15},\"zerolinecolor\":\"white\",\"automargin\":true,\"zerolinewidth\":2},\"scene\":{\"xaxis\":{\"backgroundcolor\":\"#E5ECF6\",\"gridcolor\":\"white\",\"linecolor\":\"white\",\"showbackground\":true,\"ticks\":\"\",\"zerolinecolor\":\"white\",\"gridwidth\":2},\"yaxis\":{\"backgroundcolor\":\"#E5ECF6\",\"gridcolor\":\"white\",\"linecolor\":\"white\",\"showbackground\":true,\"ticks\":\"\",\"zerolinecolor\":\"white\",\"gridwidth\":2},\"zaxis\":{\"backgroundcolor\":\"#E5ECF6\",\"gridcolor\":\"white\",\"linecolor\":\"white\",\"showbackground\":true,\"ticks\":\"\",\"zerolinecolor\":\"white\",\"gridwidth\":2}},\"shapedefaults\":{\"line\":{\"color\":\"#2a3f5f\"}},\"annotationdefaults\":{\"arrowcolor\":\"#2a3f5f\",\"arrowhead\":0,\"arrowwidth\":1},\"geo\":{\"bgcolor\":\"white\",\"landcolor\":\"#E5ECF6\",\"subunitcolor\":\"white\",\"showland\":true,\"showlakes\":true,\"lakecolor\":\"white\"},\"title\":{\"x\":0.05},\"mapbox\":{\"style\":\"light\"}}},\"xaxis\":{\"anchor\":\"y\",\"domain\":[0.0,1.0],\"title\":{\"text\":\"Ngay\"}},\"yaxis\":{\"anchor\":\"x\",\"domain\":[0.0,1.0],\"title\":{\"text\":\"9\"}},\"legend\":{\"tracegroupgap\":0},\"margin\":{\"t\":60},\"title\":{\"text\":\"Data\",\"y\":0.95,\"x\":0.5,\"xanchor\":\"center\",\"yanchor\":\"top\"},\"plot_bgcolor\":\"rgba(53,223,0,0.8)\"},                        {\"responsive\": true}                    ).then(function(){\n",
       "                            \n",
       "var gd = document.getElementById('075b4697-c2fa-465d-865e-3fd8d702f52b');\n",
       "var x = new MutationObserver(function (mutations, observer) {{\n",
       "        var display = window.getComputedStyle(gd).display;\n",
       "        if (!display || display === 'none') {{\n",
       "            console.log([gd, 'removed!']);\n",
       "            Plotly.purge(gd);\n",
       "            observer.disconnect();\n",
       "        }}\n",
       "}});\n",
       "\n",
       "// Listen for the removal of the full notebook cells\n",
       "var notebookContainer = gd.closest('#notebook-container');\n",
       "if (notebookContainer) {{\n",
       "    x.observe(notebookContainer, {childList: true});\n",
       "}}\n",
       "\n",
       "// Listen for the clearing of the current output cell\n",
       "var outputEl = gd.closest('.output');\n",
       "if (outputEl) {{\n",
       "    x.observe(outputEl, {childList: true});\n",
       "}}\n",
       "\n",
       "                        })                };                });            </script>        </div>"
      ]
     },
     "metadata": {},
     "output_type": "display_data"
    }
   ],
   "source": [
    "fig = px.line(y=df['9'], x=df['Ngay'])\n",
    "fig.update_traces(line_color='black') \n",
    "fig.update_layout(xaxis_title=\"Ngay\", \n",
    "                  yaxis_title=\"9\",\n",
    "                  title={'text': \"Data\", 'y':0.95, 'x':0.5, 'xanchor':'center', 'yanchor':'top'},\n",
    "                  plot_bgcolor='rgba(53,223,0,0.8)')"
   ]
  },
  {
   "cell_type": "code",
   "execution_count": 85,
   "id": "df8c0871-f664-4a0e-87db-0f3ed87fd9b9",
   "metadata": {},
   "outputs": [],
   "source": [
    "transformer = StandardScaler()\n",
    "X = transformer.fit_transform(np.array(df[feats]))"
   ]
  },
  {
   "cell_type": "code",
   "execution_count": 86,
   "id": "d9c908c9-ea93-48e0-8ef9-93d3326e773d",
   "metadata": {},
   "outputs": [
    {
     "data": {
      "text/plain": [
       "array([[-0.7221531 , -0.7225876 ],\n",
       "       [-0.19550132, -0.19596525],\n",
       "       [-0.49358813, -0.49403541],\n",
       "       [-0.36406799, -0.36357019],\n",
       "       [ 0.20258266,  0.2020965 ]])"
      ]
     },
     "execution_count": 86,
     "metadata": {},
     "output_type": "execute_result"
    }
   ],
   "source": [
    "X[:5]"
   ]
  },
  {
   "cell_type": "code",
   "execution_count": 87,
   "id": "8e0cc7ad-7685-479f-b52c-c098c0542d46",
   "metadata": {},
   "outputs": [
    {
     "name": "stderr",
     "output_type": "stream",
     "text": [
      "C:\\Users\\WELCOME\\AppData\\Local\\Programs\\Python\\Python312\\Lib\\site-packages\\sklearn\\cluster\\_kmeans.py:1416: FutureWarning:\n",
      "\n",
      "The default value of `n_init` will change from 10 to 'auto' in 1.4. Set the value of `n_init` explicitly to suppress the warning\n",
      "\n",
      "C:\\Users\\WELCOME\\AppData\\Local\\Programs\\Python\\Python312\\Lib\\site-packages\\sklearn\\cluster\\_kmeans.py:1416: FutureWarning:\n",
      "\n",
      "The default value of `n_init` will change from 10 to 'auto' in 1.4. Set the value of `n_init` explicitly to suppress the warning\n",
      "\n",
      "C:\\Users\\WELCOME\\AppData\\Local\\Programs\\Python\\Python312\\Lib\\site-packages\\sklearn\\cluster\\_kmeans.py:1416: FutureWarning:\n",
      "\n",
      "The default value of `n_init` will change from 10 to 'auto' in 1.4. Set the value of `n_init` explicitly to suppress the warning\n",
      "\n",
      "C:\\Users\\WELCOME\\AppData\\Local\\Programs\\Python\\Python312\\Lib\\site-packages\\sklearn\\cluster\\_kmeans.py:1416: FutureWarning:\n",
      "\n",
      "The default value of `n_init` will change from 10 to 'auto' in 1.4. Set the value of `n_init` explicitly to suppress the warning\n",
      "\n",
      "C:\\Users\\WELCOME\\AppData\\Local\\Programs\\Python\\Python312\\Lib\\site-packages\\sklearn\\cluster\\_kmeans.py:1416: FutureWarning:\n",
      "\n",
      "The default value of `n_init` will change from 10 to 'auto' in 1.4. Set the value of `n_init` explicitly to suppress the warning\n",
      "\n",
      "C:\\Users\\WELCOME\\AppData\\Local\\Programs\\Python\\Python312\\Lib\\site-packages\\sklearn\\cluster\\_kmeans.py:1416: FutureWarning:\n",
      "\n",
      "The default value of `n_init` will change from 10 to 'auto' in 1.4. Set the value of `n_init` explicitly to suppress the warning\n",
      "\n",
      "C:\\Users\\WELCOME\\AppData\\Local\\Programs\\Python\\Python312\\Lib\\site-packages\\sklearn\\cluster\\_kmeans.py:1416: FutureWarning:\n",
      "\n",
      "The default value of `n_init` will change from 10 to 'auto' in 1.4. Set the value of `n_init` explicitly to suppress the warning\n",
      "\n",
      "C:\\Users\\WELCOME\\AppData\\Local\\Programs\\Python\\Python312\\Lib\\site-packages\\sklearn\\cluster\\_kmeans.py:1416: FutureWarning:\n",
      "\n",
      "The default value of `n_init` will change from 10 to 'auto' in 1.4. Set the value of `n_init` explicitly to suppress the warning\n",
      "\n",
      "C:\\Users\\WELCOME\\AppData\\Local\\Programs\\Python\\Python312\\Lib\\site-packages\\sklearn\\cluster\\_kmeans.py:1416: FutureWarning:\n",
      "\n",
      "The default value of `n_init` will change from 10 to 'auto' in 1.4. Set the value of `n_init` explicitly to suppress the warning\n",
      "\n"
     ]
    },
    {
     "data": {
      "image/png": "[encoded data removed]",
      "text/plain": [
       "<Figure size 800x550 with 2 Axes>"
      ]
     },
     "metadata": {},
     "output_type": "display_data"
    }
   ],
   "source": [
    "from sklearn.cluster import KMeans\n",
    "from yellowbrick.cluster import KElbowVisualizer\n",
    "\n",
    "Elbow_M = KElbowVisualizer(KMeans(random_state=23), k=(3,12))\n",
    "Elbow_M.fit(X)\n",
    "Elbow_M.show();"
   ]
  },
  {
   "cell_type": "code",
   "execution_count": 88,
   "id": "00fa5404-0fce-49fe-b460-bbc52ffad1f2",
   "metadata": {},
   "outputs": [],
   "source": [
    "BGM = BayesianGaussianMixture(n_components=6,covariance_type='full',random_state=1,n_init=12)\n",
    "preds = BGM.fit_predict(X)\n",
    "df[\"Clusters\"]= preds"
   ]
  },
  {
   "cell_type": "code",
   "execution_count": 89,
   "id": "4b37075f-0cfb-4ddb-8eff-93ae5cb8d346",
   "metadata": {},
   "outputs": [],
   "source": [
    "pp=BGM.predict_proba(X)\n",
    "df_new=pd.DataFrame(X,columns=feats) \n",
    "df_new[[f'predict_proba_{i}' for i in range(6)]]=pp \n",
    "df_new['preds']=preds\n",
    "df_new['predict_proba']=np.max(pp,axis=1)\n",
    "df_new['predict']=np.argmax(pp,axis=1)\n",
    "    \n",
    "train_index=np.array([])\n",
    "for n in range(6):\n",
    "    n_inx=df_new[(df_new.preds==n) & (df_new.predict_proba > 0.5)].index\n",
    "    train_index = np.concatenate((train_index, n_inx))"
   ]
  },
  {
   "cell_type": "code",
   "execution_count": 90,
   "id": "37596317-daae-405d-8789-e405bfb0647b",
   "metadata": {},
   "outputs": [
    {
     "name": "stderr",
     "output_type": "stream",
     "text": [
      "C:\\Users\\WELCOME\\AppData\\Local\\Programs\\Python\\Python312\\Lib\\site-packages\\sklearn\\model_selection\\_split.py:737: UserWarning:\n",
      "\n",
      "The least populated class in y has only 1 members, which is less than n_splits=5.\n",
      "\n"
     ]
    },
    {
     "name": "stdout",
     "output_type": "stream",
     "text": [
      "[200]\tvalid_0's multi_logloss: 0.00542853\n",
      "[200]\tvalid_0's multi_logloss: 0.00246459\n",
      "[200]\tvalid_0's multi_logloss: 0.00311854\n",
      "[200]\tvalid_0's multi_logloss: 0.00131357\n",
      "[400]\tvalid_0's multi_logloss: 0.00131357\n",
      "[200]\tvalid_0's multi_logloss: 0.494771\n"
     ]
    }
   ],
   "source": [
    "from sklearn.model_selection import StratifiedKFold\n",
    "import lightgbm as lgb\n",
    "X_new=df_new.loc[train_index][feats]\n",
    "y=df_new.loc[train_index]['preds']\n",
    "\n",
    "params_lgb = {'learning_rate': 0.06,'objective': 'multiclass','boosting': 'gbdt','n_jobs': -1,'verbosity': -1, 'num_classes':7} \n",
    "\n",
    "model_list=[]\n",
    "\n",
    "gkf = StratifiedKFold(5)\n",
    "for fold, (train_idx, valid_idx) in enumerate(gkf.split(X_new,y)):   \n",
    "\n",
    "    tr_dataset = lgb.Dataset(X_new.iloc[train_idx],y.iloc[train_idx],feature_name = feats)\n",
    "    vl_dataset = lgb.Dataset(X_new.iloc[valid_idx],y.iloc[valid_idx],feature_name = feats)\n",
    "    \n",
    "    model = lgb.train(params = params_lgb, \n",
    "                train_set = tr_dataset, \n",
    "                valid_sets =  vl_dataset, \n",
    "                num_boost_round = 5000, \n",
    "                callbacks=[ lgb.early_stopping(stopping_rounds=300, verbose=False), lgb.log_evaluation(period=200)])  \n",
    "    \n",
    "    model_list.append(model) "
   ]
  },
  {
   "cell_type": "code",
   "execution_count": 91,
   "id": "2650d796-1c29-4b65-be66-20e83c1fedaa",
   "metadata": {},
   "outputs": [],
   "source": [
    "lgb_preds=0\n",
    "for model in model_list:\n",
    "    lgb_preds+=model.predict(df_new[feats])"
   ]
  },
  {
   "cell_type": "code",
   "execution_count": 92,
   "id": "429ec751-fedc-4382-b38b-995f33cc52ad",
   "metadata": {},
   "outputs": [],
   "source": [
    "labels=np.argmax(lgb_preds,axis=1)"
   ]
  },
  {
   "cell_type": "code",
   "execution_count": 93,
   "id": "26378faf-7e0e-4878-8e96-25d90937b4cc",
   "metadata": {},
   "outputs": [
    {
     "data": {
      "text/plain": [
       "array([0, 1, 5], dtype=int64)"
      ]
     },
     "execution_count": 93,
     "metadata": {},
     "output_type": "execute_result"
    }
   ],
   "source": [
    "u = np.unique(labels)\n",
    "u"
   ]
  },
  {
   "cell_type": "code",
   "execution_count": 94,
   "id": "e0e6ea9b-8d8b-44dd-ab56-990cf9658e2f",
   "metadata": {},
   "outputs": [
    {
     "data": {
      "image/png": "[encoded data removed]",
      "text/plain": [
       "<Figure size 800x550 with 1 Axes>"
      ]
     },
     "metadata": {},
     "output_type": "display_data"
    }
   ],
   "source": [
    "pl = sns.countplot(x=np.argmax(lgb_preds,axis=1))\n",
    "pl.set_title(\"Phân phối của các cụm\")\n",
    "plt.show()"
   ]
  },
  {
   "cell_type": "code",
   "execution_count": 95,
   "id": "2a35bedc-2493-48ae-9e87-e4bb2487e163",
   "metadata": {},
   "outputs": [],
   "source": [
    "BGM = BayesianGaussianMixture(n_components=4,covariance_type='full',random_state=1,n_init=12)\n",
    "preds = BGM.fit_predict(X)\n",
    "df[\"Clusters\"]= preds"
   ]
  },
  {
   "cell_type": "code",
   "execution_count": 96,
   "id": "3eecbcbd-e2d3-4f58-bdd4-86d311e0c301",
   "metadata": {},
   "outputs": [],
   "source": [
    "pp=BGM.predict_proba(X)\n",
    "df_new=pd.DataFrame(X,columns=feats) \n",
    "df_new[[f'predict_proba_{i}' for i in range(4)]]=pp \n",
    "df_new['preds']=preds\n",
    "df_new['predict_proba']=np.max(pp,axis=1)\n",
    "df_new['predict']=np.argmax(pp,axis=1)\n",
    "    \n",
    "train_index=np.array([])\n",
    "for n in range(4):\n",
    "    n_inx=df_new[(df_new.preds==n) & (df_new.predict_proba > 0.5)].index\n",
    "    train_index = np.concatenate((train_index, n_inx))"
   ]
  },
  {
   "cell_type": "code",
   "execution_count": 97,
   "id": "6d16ca0d-39d0-4236-9ca3-063ac5cbe236",
   "metadata": {},
   "outputs": [
    {
     "name": "stderr",
     "output_type": "stream",
     "text": [
      "C:\\Users\\WELCOME\\AppData\\Local\\Programs\\Python\\Python312\\Lib\\site-packages\\sklearn\\model_selection\\_split.py:737: UserWarning:\n",
      "\n",
      "The least populated class in y has only 1 members, which is less than n_splits=5.\n",
      "\n"
     ]
    },
    {
     "name": "stdout",
     "output_type": "stream",
     "text": [
      "[200]\tvalid_0's multi_logloss: 0.00275981\n",
      "[200]\tvalid_0's multi_logloss: 0.00505691\n",
      "[200]\tvalid_0's multi_logloss: 0.00285742\n",
      "[400]\tvalid_0's multi_logloss: 0.00285742\n",
      "[200]\tvalid_0's multi_logloss: 0.00283209\n",
      "[200]\tvalid_0's multi_logloss: 0.495131\n"
     ]
    }
   ],
   "source": [
    "from sklearn.model_selection import StratifiedKFold\n",
    "import lightgbm as lgb\n",
    "X_new=df_new.loc[train_index][feats]\n",
    "y=df_new.loc[train_index]['preds']\n",
    "\n",
    "params_lgb = {'learning_rate': 0.06,'objective': 'multiclass','boosting': 'gbdt','n_jobs': -1,'verbosity': -1, 'num_classes':7} \n",
    "\n",
    "model_list=[]\n",
    "\n",
    "gkf = StratifiedKFold(5)\n",
    "for fold, (train_idx, valid_idx) in enumerate(gkf.split(X_new,y)):   \n",
    "\n",
    "    tr_dataset = lgb.Dataset(X_new.iloc[train_idx],y.iloc[train_idx],feature_name = feats)\n",
    "    vl_dataset = lgb.Dataset(X_new.iloc[valid_idx],y.iloc[valid_idx],feature_name = feats)\n",
    "    \n",
    "    model = lgb.train(params = params_lgb, \n",
    "                train_set = tr_dataset, \n",
    "                valid_sets =  vl_dataset, \n",
    "                num_boost_round = 5000, \n",
    "                callbacks=[ lgb.early_stopping(stopping_rounds=300, verbose=False), lgb.log_evaluation(period=200)])  \n",
    "    \n",
    "    model_list.append(model) "
   ]
  },
  {
   "cell_type": "code",
   "execution_count": 98,
   "id": "702ebaf5-49c3-4409-8222-4278760303d5",
   "metadata": {},
   "outputs": [],
   "source": [
    "lgb_preds=0\n",
    "for model in model_list:\n",
    "    lgb_preds+=model.predict(df_new[feats])\n",
    "labels=np.argmax(lgb_preds,axis=1)"
   ]
  },
  {
   "cell_type": "code",
   "execution_count": 99,
   "id": "d6048fc9-504d-415c-9ae1-7d30b24c37f8",
   "metadata": {},
   "outputs": [
    {
     "data": {
      "text/plain": [
       "array([0, 1], dtype=int64)"
      ]
     },
     "execution_count": 99,
     "metadata": {},
     "output_type": "execute_result"
    }
   ],
   "source": [
    "u = np.unique(labels)\n",
    "u"
   ]
  },
  {
   "cell_type": "code",
   "execution_count": 100,
   "id": "1afee0c3-5d15-4a2e-b444-fbcd8c612e37",
   "metadata": {},
   "outputs": [
    {
     "data": {
      "image/png": "[encoded data removed]",
      "text/plain": [
       "<Figure size 800x550 with 1 Axes>"
      ]
     },
     "metadata": {},
     "output_type": "display_data"
    }
   ],
   "source": [
    "pl = sns.countplot(x=np.argmax(lgb_preds,axis=1))\n",
    "pl.set_title(\"Phân phối của các cụm\")\n",
    "plt.show()"
   ]
  },
  {
   "cell_type": "code",
   "execution_count": 101,
   "id": "86e4b3cc-c0d3-4f6b-b42a-7937ad5a6f84",
   "metadata": {},
   "outputs": [],
   "source": [
    "BGM = BayesianGaussianMixture(n_components=3,covariance_type='full',random_state=1,n_init=12)\n",
    "preds = BGM.fit_predict(X)\n",
    "df[\"Clusters\"]= preds"
   ]
  },
  {
   "cell_type": "code",
   "execution_count": 102,
   "id": "d232cabf-5aff-4363-b6b3-da1b12d0267a",
   "metadata": {},
   "outputs": [],
   "source": [
    "pp=BGM.predict_proba(X)\n",
    "df_new=pd.DataFrame(X,columns=feats) \n",
    "df_new[[f'predict_proba_{i}' for i in range(3)]]=pp \n",
    "df_new['preds']=preds\n",
    "df_new['predict_proba']=np.max(pp,axis=1)\n",
    "df_new['predict']=np.argmax(pp,axis=1)\n",
    "    \n",
    "train_index=np.array([])\n",
    "for n in range(3):\n",
    "    n_inx=df_new[(df_new.preds==n) & (df_new.predict_proba > 0.5)].index\n",
    "    train_index = np.concatenate((train_index, n_inx))"
   ]
  },
  {
   "cell_type": "code",
   "execution_count": 103,
   "id": "e7389fa1-169d-4d27-b834-d5a20e92d324",
   "metadata": {},
   "outputs": [
    {
     "name": "stderr",
     "output_type": "stream",
     "text": [
      "C:\\Users\\WELCOME\\AppData\\Local\\Programs\\Python\\Python312\\Lib\\site-packages\\sklearn\\model_selection\\_split.py:737: UserWarning:\n",
      "\n",
      "The least populated class in y has only 1 members, which is less than n_splits=5.\n",
      "\n"
     ]
    },
    {
     "name": "stdout",
     "output_type": "stream",
     "text": [
      "[200]\tvalid_0's multi_logloss: 0.00275981\n",
      "[200]\tvalid_0's multi_logloss: 0.00505691\n",
      "[200]\tvalid_0's multi_logloss: 0.00285742\n",
      "[400]\tvalid_0's multi_logloss: 0.00285742\n",
      "[200]\tvalid_0's multi_logloss: 0.00283209\n",
      "[200]\tvalid_0's multi_logloss: 0.495131\n"
     ]
    }
   ],
   "source": [
    "from sklearn.model_selection import StratifiedKFold\n",
    "import lightgbm as lgb\n",
    "X_new=df_new.loc[train_index][feats]\n",
    "y=df_new.loc[train_index]['preds']\n",
    "\n",
    "params_lgb = {'learning_rate': 0.06,'objective': 'multiclass','boosting': 'gbdt','n_jobs': -1,'verbosity': -1, 'num_classes':7} \n",
    "\n",
    "model_list=[]\n",
    "\n",
    "gkf = StratifiedKFold(5)\n",
    "for fold, (train_idx, valid_idx) in enumerate(gkf.split(X_new,y)):   \n",
    "\n",
    "    tr_dataset = lgb.Dataset(X_new.iloc[train_idx],y.iloc[train_idx],feature_name = feats)\n",
    "    vl_dataset = lgb.Dataset(X_new.iloc[valid_idx],y.iloc[valid_idx],feature_name = feats)\n",
    "    \n",
    "    model = lgb.train(params = params_lgb, \n",
    "                train_set = tr_dataset, \n",
    "                valid_sets =  vl_dataset, \n",
    "                num_boost_round = 5000, \n",
    "                callbacks=[ lgb.early_stopping(stopping_rounds=300, verbose=False), lgb.log_evaluation(period=200)])  \n",
    "    \n",
    "    model_list.append(model) "
   ]
  },
  {
   "cell_type": "code",
   "execution_count": 104,
   "id": "9e0e773a-7a36-4732-a73d-adeda522e021",
   "metadata": {},
   "outputs": [],
   "source": [
    "lgb_preds=0\n",
    "for model in model_list:\n",
    "    lgb_preds+=model.predict(df_new[feats])\n",
    "labels=np.argmax(lgb_preds,axis=1)"
   ]
  },
  {
   "cell_type": "code",
   "execution_count": 105,
   "id": "e20b8736-bd51-4ed8-b965-231d6c629fa7",
   "metadata": {},
   "outputs": [
    {
     "data": {
      "text/plain": [
       "array([0, 1], dtype=int64)"
      ]
     },
     "execution_count": 105,
     "metadata": {},
     "output_type": "execute_result"
    }
   ],
   "source": [
    "u = np.unique(labels)\n",
    "u"
   ]
  },
  {
   "cell_type": "code",
   "execution_count": 106,
   "id": "c293208a-8b46-4fe0-aec8-85c8f00b7079",
   "metadata": {},
   "outputs": [
    {
     "data": {
      "image/png": "[encoded data removed]",
      "text/plain": [
       "<Figure size 800x550 with 1 Axes>"
      ]
     },
     "metadata": {},
     "output_type": "display_data"
    }
   ],
   "source": [
    "pl = sns.countplot(x=np.argmax(lgb_preds,axis=1))\n",
    "pl.set_title(\"Phân phối của các cụm\")\n",
    "plt.show()"
   ]
  },
  {
   "cell_type": "code",
   "execution_count": 107,
   "id": "e8b2652e-952e-4a37-a5a2-92c20f128459",
   "metadata": {},
   "outputs": [],
   "source": [
    "import tensorflow as tf\n",
    "from keras import Model\n",
    "from keras.layers import Input, Dense, Dropout\n",
    "from keras.layers import GRU"
   ]
  },
  {
   "cell_type": "code",
   "execution_count": 108,
   "id": "dde10bfc-c917-4753-a62f-0e55f126124d",
   "metadata": {},
   "outputs": [],
   "source": [
    "feats = ['Ngay', '8', '9']"
   ]
  },
  {
   "cell_type": "code",
   "execution_count": 109,
   "id": "7b820923-a168-44a6-a8f0-9a27393b9b6e",
   "metadata": {},
   "outputs": [],
   "source": [
    "df = df[feats]"
   ]
  },
  {
   "cell_type": "code",
   "execution_count": 110,
   "id": "e9784878-f658-4f6d-8c45-4189e4c67f42",
   "metadata": {},
   "outputs": [
    {
     "data": {
      "text/html": [
       "<div>\n",
       "<style scoped>\n",
       "    .dataframe tbody tr th:only-of-type {\n",
       "        vertical-align: middle;\n",
       "    }\n",
       "\n",
       "    .dataframe tbody tr th {\n",
       "        vertical-align: top;\n",
       "    }\n",
       "\n",
       "    .dataframe thead th {\n",
       "        text-align: right;\n",
       "    }\n",
       "</style>\n",
       "<table border=\"1\" class=\"dataframe\">\n",
       "  <thead>\n",
       "    <tr style=\"text-align: right;\">\n",
       "      <th></th>\n",
       "      <th>Ngay</th>\n",
       "      <th>8</th>\n",
       "      <th>9</th>\n",
       "    </tr>\n",
       "  </thead>\n",
       "  <tbody>\n",
       "    <tr>\n",
       "      <th>0</th>\n",
       "      <td>01/01/2021</td>\n",
       "      <td>964.4</td>\n",
       "      <td>964.4</td>\n",
       "    </tr>\n",
       "    <tr>\n",
       "      <th>1</th>\n",
       "      <td>01/02/2021</td>\n",
       "      <td>1019.7</td>\n",
       "      <td>1019.7</td>\n",
       "    </tr>\n",
       "    <tr>\n",
       "      <th>2</th>\n",
       "      <td>01/03/2021</td>\n",
       "      <td>988.4</td>\n",
       "      <td>988.4</td>\n",
       "    </tr>\n",
       "    <tr>\n",
       "      <th>3</th>\n",
       "      <td>01/04/2021</td>\n",
       "      <td>1002.0</td>\n",
       "      <td>1002.1</td>\n",
       "    </tr>\n",
       "    <tr>\n",
       "      <th>4</th>\n",
       "      <td>01/05/2021</td>\n",
       "      <td>1061.5</td>\n",
       "      <td>1061.5</td>\n",
       "    </tr>\n",
       "    <tr>\n",
       "      <th>...</th>\n",
       "      <td>...</td>\n",
       "      <td>...</td>\n",
       "      <td>...</td>\n",
       "    </tr>\n",
       "    <tr>\n",
       "      <th>360</th>\n",
       "      <td>27/12/2021</td>\n",
       "      <td>1002.0</td>\n",
       "      <td>1002.0</td>\n",
       "    </tr>\n",
       "    <tr>\n",
       "      <th>361</th>\n",
       "      <td>28/12/2021</td>\n",
       "      <td>1002.0</td>\n",
       "      <td>1002.0</td>\n",
       "    </tr>\n",
       "    <tr>\n",
       "      <th>362</th>\n",
       "      <td>29/12/2021</td>\n",
       "      <td>1061.5</td>\n",
       "      <td>1061.5</td>\n",
       "    </tr>\n",
       "    <tr>\n",
       "      <th>363</th>\n",
       "      <td>30/12/2021</td>\n",
       "      <td>1022.6</td>\n",
       "      <td>1022.6</td>\n",
       "    </tr>\n",
       "    <tr>\n",
       "      <th>364</th>\n",
       "      <td>31/12/2021</td>\n",
       "      <td>1022.6</td>\n",
       "      <td>1022.6</td>\n",
       "    </tr>\n",
       "  </tbody>\n",
       "</table>\n",
       "<p>365 rows × 3 columns</p>\n",
       "</div>"
      ],
      "text/plain": [
       "           Ngay       8       9\n",
       "0    01/01/2021   964.4   964.4\n",
       "1    01/02/2021  1019.7  1019.7\n",
       "2    01/03/2021   988.4   988.4\n",
       "3    01/04/2021  1002.0  1002.1\n",
       "4    01/05/2021  1061.5  1061.5\n",
       "..          ...     ...     ...\n",
       "360  27/12/2021  1002.0  1002.0\n",
       "361  28/12/2021  1002.0  1002.0\n",
       "362  29/12/2021  1061.5  1061.5\n",
       "363  30/12/2021  1022.6  1022.6\n",
       "364  31/12/2021  1022.6  1022.6\n",
       "\n",
       "[365 rows x 3 columns]"
      ]
     },
     "execution_count": 110,
     "metadata": {},
     "output_type": "execute_result"
    }
   ],
   "source": [
    "df"
   ]
  },
  {
   "cell_type": "code",
   "execution_count": 111,
   "id": "5692d558-c5ab-4c81-957a-a5bb16f7260b",
   "metadata": {},
   "outputs": [],
   "source": [
    "df['Ngay'] = pd.to_datetime(df['Ngay'], format='%d/%m/%Y')\n",
    "df.sort_values(by='Ngay', ascending=True, inplace=True)\n",
    "df.reset_index(drop=True, inplace=True)"
   ]
  },
  {
   "cell_type": "code",
   "execution_count": 112,
   "id": "b3ba9873-b066-4069-84b8-286d4b038028",
   "metadata": {},
   "outputs": [
    {
     "data": {
      "text/plain": [
       "31"
      ]
     },
     "execution_count": 112,
     "metadata": {},
     "output_type": "execute_result"
    }
   ],
   "source": [
    "test_size = df[df['Ngay'].dt.month==12].shape[0]\n",
    "test_size"
   ]
  },
  {
   "cell_type": "code",
   "execution_count": 113,
   "id": "6a79d14e-06be-4799-9ad0-5183cb6819d3",
   "metadata": {},
   "outputs": [
    {
     "data": {
      "application/vnd.plotly.v1+json": {
       "config": {
        "plotlyServerURL": "https://plot.ly"
       },
       "data": [
        {
         "hovertemplate": "x=%{x}<br>y=%{y}<extra></extra>",
         "legendgroup": "",
         "line": {
          "color": "black",
          "dash": "solid"
         },
         "marker": {
          "symbol": "circle"
         },
         "mode": "lines",
         "name": "",
         "orientation": "v",
         "showlegend": false,
         "type": "scatter",
         "x": [
          "2021-01-01T00:00:00",
          "2021-01-02T00:00:00",
          "2021-01-03T00:00:00",
          "2021-01-04T00:00:00",
          "2021-01-05T00:00:00",
          "2021-01-06T00:00:00",
          "2021-01-07T00:00:00",
          "2021-01-08T00:00:00",
          "2021-01-09T00:00:00",
          "2021-01-10T00:00:00",
          "2021-01-11T00:00:00",
          "2021-01-12T00:00:00",
          "2021-01-13T00:00:00",
          "2021-01-14T00:00:00",
          "2021-01-15T00:00:00",
          "2021-01-16T00:00:00",
          "2021-01-17T00:00:00",
          "2021-01-18T00:00:00",
          "2021-01-19T00:00:00",
          "2021-01-20T00:00:00",
          "2021-01-21T00:00:00",
          "2021-01-22T00:00:00",
          "2021-01-23T00:00:00",
          "2021-01-24T00:00:00",
          "2021-01-25T00:00:00",
          "2021-01-26T00:00:00",
          "2021-01-27T00:00:00",
          "2021-01-28T00:00:00",
          "2021-01-29T00:00:00",
          "2021-01-30T00:00:00",
          "2021-01-31T00:00:00",
          "2021-02-01T00:00:00",
          "2021-02-02T00:00:00",
          "2021-02-03T00:00:00",
          "2021-02-04T00:00:00",
          "2021-02-05T00:00:00",
          "2021-02-06T00:00:00",
          "2021-02-07T00:00:00",
          "2021-02-08T00:00:00",
          "2021-02-09T00:00:00",
          "2021-02-10T00:00:00",
          "2021-02-11T00:00:00",
          "2021-02-12T00:00:00",
          "2021-02-13T00:00:00",
          "2021-02-14T00:00:00",
          "2021-02-15T00:00:00",
          "2021-02-16T00:00:00",
          "2021-02-17T00:00:00",
          "2021-02-18T00:00:00",
          "2021-02-19T00:00:00",
          "2021-02-20T00:00:00",
          "2021-02-21T00:00:00",
          "2021-02-22T00:00:00",
          "2021-02-23T00:00:00",
          "2021-02-24T00:00:00",
          "2021-02-25T00:00:00",
          "2021-02-26T00:00:00",
          "2021-02-27T00:00:00",
          "2021-02-28T00:00:00",
          "2021-03-01T00:00:00",
          "2021-03-02T00:00:00",
          "2021-03-03T00:00:00",
          "2021-03-04T00:00:00",
          "2021-03-05T00:00:00",
          "2021-03-06T00:00:00",
          "2021-03-07T00:00:00",
          "2021-03-08T00:00:00",
          "2021-03-09T00:00:00",
          "2021-03-10T00:00:00",
          "2021-03-11T00:00:00",
          "2021-03-12T00:00:00",
          "2021-03-13T00:00:00",
          "2021-03-14T00:00:00",
          "2021-03-15T00:00:00",
          "2021-03-16T00:00:00",
          "2021-03-17T00:00:00",
          "2021-03-18T00:00:00",
          "2021-03-19T00:00:00",
          "2021-03-20T00:00:00",
          "2021-03-21T00:00:00",
          "2021-03-22T00:00:00",
          "2021-03-23T00:00:00",
          "2021-03-24T00:00:00",
          "2021-03-25T00:00:00",
          "2021-03-26T00:00:00",
          "2021-03-27T00:00:00",
          "2021-03-28T00:00:00",
          "2021-03-29T00:00:00",
          "2021-03-30T00:00:00",
          "2021-03-31T00:00:00",
          "2021-04-01T00:00:00",
          "2021-04-02T00:00:00",
          "2021-04-03T00:00:00",
          "2021-04-04T00:00:00",
          "2021-04-05T00:00:00",
          "2021-04-06T00:00:00",
          "2021-04-07T00:00:00",
          "2021-04-08T00:00:00",
          "2021-04-09T00:00:00",
          "2021-04-10T00:00:00",
          "2021-04-11T00:00:00",
          "2021-04-12T00:00:00",
          "2021-04-13T00:00:00",
          "2021-04-14T00:00:00",
          "2021-04-15T00:00:00",
          "2021-04-16T00:00:00",
          "2021-04-17T00:00:00",
          "2021-04-18T00:00:00",
          "2021-04-19T00:00:00",
          "2021-04-20T00:00:00",
          "2021-04-21T00:00:00",
          "2021-04-22T00:00:00",
          "2021-04-23T00:00:00",
          "2021-04-24T00:00:00",
          "2021-04-25T00:00:00",
          "2021-04-26T00:00:00",
          "2021-04-27T00:00:00",
          "2021-04-28T00:00:00",
          "2021-04-29T00:00:00",
          "2021-04-30T00:00:00",
          "2021-05-01T00:00:00",
          "2021-05-02T00:00:00",
          "2021-05-03T00:00:00",
          "2021-05-04T00:00:00",
          "2021-05-05T00:00:00",
          "2021-05-06T00:00:00",
          "2021-05-07T00:00:00",
          "2021-05-08T00:00:00",
          "2021-05-09T00:00:00",
          "2021-05-10T00:00:00",
          "2021-05-11T00:00:00",
          "2021-05-12T00:00:00",
          "2021-05-13T00:00:00",
          "2021-05-14T00:00:00",
          "2021-05-15T00:00:00",
          "2021-05-16T00:00:00",
          "2021-05-17T00:00:00",
          "2021-05-18T00:00:00",
          "2021-05-19T00:00:00",
          "2021-05-20T00:00:00",
          "2021-05-21T00:00:00",
          "2021-05-22T00:00:00",
          "2021-05-23T00:00:00",
          "2021-05-24T00:00:00",
          "2021-05-25T00:00:00",
          "2021-05-26T00:00:00",
          "2021-05-27T00:00:00",
          "2021-05-28T00:00:00",
          "2021-05-29T00:00:00",
          "2021-05-30T00:00:00",
          "2021-05-31T00:00:00",
          "2021-06-01T00:00:00",
          "2021-06-02T00:00:00",
          "2021-06-03T00:00:00",
          "2021-06-04T00:00:00",
          "2021-06-05T00:00:00",
          "2021-06-06T00:00:00",
          "2021-06-07T00:00:00",
          "2021-06-08T00:00:00",
          "2021-06-09T00:00:00",
          "2021-06-10T00:00:00",
          "2021-06-11T00:00:00",
          "2021-06-12T00:00:00",
          "2021-06-13T00:00:00",
          "2021-06-14T00:00:00",
          "2021-06-15T00:00:00",
          "2021-06-16T00:00:00",
          "2021-06-17T00:00:00",
          "2021-06-18T00:00:00",
          "2021-06-19T00:00:00",
          "2021-06-20T00:00:00",
          "2021-06-21T00:00:00",
          "2021-06-22T00:00:00",
          "2021-06-23T00:00:00",
          "2021-06-24T00:00:00",
          "2021-06-25T00:00:00",
          "2021-06-26T00:00:00",
          "2021-06-27T00:00:00",
          "2021-06-28T00:00:00",
          "2021-06-29T00:00:00",
          "2021-06-30T00:00:00",
          "2021-07-01T00:00:00",
          "2021-07-02T00:00:00",
          "2021-07-03T00:00:00",
          "2021-07-04T00:00:00",
          "2021-07-05T00:00:00",
          "2021-07-06T00:00:00",
          "2021-07-07T00:00:00",
          "2021-07-08T00:00:00",
          "2021-07-09T00:00:00",
          "2021-07-10T00:00:00",
          "2021-07-11T00:00:00",
          "2021-07-12T00:00:00",
          "2021-07-13T00:00:00",
          "2021-07-14T00:00:00",
          "2021-07-15T00:00:00",
          "2021-07-16T00:00:00",
          "2021-07-17T00:00:00",
          "2021-07-18T00:00:00",
          "2021-07-19T00:00:00",
          "2021-07-20T00:00:00",
          "2021-07-21T00:00:00",
          "2021-07-22T00:00:00",
          "2021-07-23T00:00:00",
          "2021-07-24T00:00:00",
          "2021-07-25T00:00:00",
          "2021-07-26T00:00:00",
          "2021-07-27T00:00:00",
          "2021-07-28T00:00:00",
          "2021-07-29T00:00:00",
          "2021-07-30T00:00:00",
          "2021-07-31T00:00:00",
          "2021-08-01T00:00:00",
          "2021-08-02T00:00:00",
          "2021-08-03T00:00:00",
          "2021-08-04T00:00:00",
          "2021-08-05T00:00:00",
          "2021-08-06T00:00:00",
          "2021-08-07T00:00:00",
          "2021-08-08T00:00:00",
          "2021-08-09T00:00:00",
          "2021-08-10T00:00:00",
          "2021-08-11T00:00:00",
          "2021-08-12T00:00:00",
          "2021-08-13T00:00:00",
          "2021-08-14T00:00:00",
          "2021-08-15T00:00:00",
          "2021-08-16T00:00:00",
          "2021-08-17T00:00:00",
          "2021-08-18T00:00:00",
          "2021-08-19T00:00:00",
          "2021-08-20T00:00:00",
          "2021-08-21T00:00:00",
          "2021-08-22T00:00:00",
          "2021-08-23T00:00:00",
          "2021-08-24T00:00:00",
          "2021-08-25T00:00:00",
          "2021-08-26T00:00:00",
          "2021-08-27T00:00:00",
          "2021-08-28T00:00:00",
          "2021-08-29T00:00:00",
          "2021-08-30T00:00:00",
          "2021-08-31T00:00:00",
          "2021-09-01T00:00:00",
          "2021-09-02T00:00:00",
          "2021-09-03T00:00:00",
          "2021-09-04T00:00:00",
          "2021-09-05T00:00:00",
          "2021-09-06T00:00:00",
          "2021-09-07T00:00:00",
          "2021-09-08T00:00:00",
          "2021-09-09T00:00:00",
          "2021-09-10T00:00:00",
          "2021-09-11T00:00:00",
          "2021-09-12T00:00:00",
          "2021-09-13T00:00:00",
          "2021-09-14T00:00:00",
          "2021-09-15T00:00:00",
          "2021-09-16T00:00:00",
          "2021-09-17T00:00:00",
          "2021-09-18T00:00:00",
          "2021-09-19T00:00:00",
          "2021-09-20T00:00:00",
          "2021-09-21T00:00:00",
          "2021-09-22T00:00:00",
          "2021-09-23T00:00:00",
          "2021-09-24T00:00:00",
          "2021-09-25T00:00:00",
          "2021-09-26T00:00:00",
          "2021-09-27T00:00:00",
          "2021-09-28T00:00:00",
          "2021-09-29T00:00:00",
          "2021-09-30T00:00:00",
          "2021-10-01T00:00:00",
          "2021-10-02T00:00:00",
          "2021-10-03T00:00:00",
          "2021-10-04T00:00:00",
          "2021-10-05T00:00:00",
          "2021-10-06T00:00:00",
          "2021-10-07T00:00:00",
          "2021-10-08T00:00:00",
          "2021-10-09T00:00:00",
          "2021-10-10T00:00:00",
          "2021-10-11T00:00:00",
          "2021-10-12T00:00:00",
          "2021-10-13T00:00:00",
          "2021-10-14T00:00:00",
          "2021-10-15T00:00:00",
          "2021-10-16T00:00:00",
          "2021-10-17T00:00:00",
          "2021-10-18T00:00:00",
          "2021-10-19T00:00:00",
          "2021-10-20T00:00:00",
          "2021-10-21T00:00:00",
          "2021-10-22T00:00:00",
          "2021-10-23T00:00:00",
          "2021-10-24T00:00:00",
          "2021-10-25T00:00:00",
          "2021-10-26T00:00:00",
          "2021-10-27T00:00:00",
          "2021-10-28T00:00:00",
          "2021-10-29T00:00:00",
          "2021-10-30T00:00:00",
          "2021-10-31T00:00:00",
          "2021-11-01T00:00:00",
          "2021-11-02T00:00:00",
          "2021-11-03T00:00:00",
          "2021-11-04T00:00:00",
          "2021-11-05T00:00:00",
          "2021-11-06T00:00:00",
          "2021-11-07T00:00:00",
          "2021-11-08T00:00:00",
          "2021-11-09T00:00:00",
          "2021-11-10T00:00:00",
          "2021-11-11T00:00:00",
          "2021-11-12T00:00:00",
          "2021-11-13T00:00:00",
          "2021-11-14T00:00:00",
          "2021-11-15T00:00:00",
          "2021-11-16T00:00:00",
          "2021-11-17T00:00:00",
          "2021-11-18T00:00:00",
          "2021-11-19T00:00:00",
          "2021-11-20T00:00:00",
          "2021-11-21T00:00:00",
          "2021-11-22T00:00:00",
          "2021-11-23T00:00:00",
          "2021-11-24T00:00:00",
          "2021-11-25T00:00:00",
          "2021-11-26T00:00:00",
          "2021-11-27T00:00:00",
          "2021-11-28T00:00:00",
          "2021-11-29T00:00:00",
          "2021-11-30T00:00:00",
          "2021-12-01T00:00:00",
          "2021-12-02T00:00:00",
          "2021-12-03T00:00:00",
          "2021-12-04T00:00:00",
          "2021-12-05T00:00:00",
          "2021-12-06T00:00:00",
          "2021-12-07T00:00:00",
          "2021-12-08T00:00:00",
          "2021-12-09T00:00:00",
          "2021-12-10T00:00:00",
          "2021-12-11T00:00:00",
          "2021-12-12T00:00:00",
          "2021-12-13T00:00:00",
          "2021-12-14T00:00:00",
          "2021-12-15T00:00:00",
          "2021-12-16T00:00:00",
          "2021-12-17T00:00:00",
          "2021-12-18T00:00:00",
          "2021-12-19T00:00:00",
          "2021-12-20T00:00:00",
          "2021-12-21T00:00:00",
          "2021-12-22T00:00:00",
          "2021-12-23T00:00:00",
          "2021-12-24T00:00:00",
          "2021-12-25T00:00:00",
          "2021-12-26T00:00:00",
          "2021-12-27T00:00:00",
          "2021-12-28T00:00:00",
          "2021-12-29T00:00:00",
          "2021-12-30T00:00:00",
          "2021-12-31T00:00:00"
         ],
         "xaxis": "x",
         "y": [
          964.4,
          964.4,
          988.3,
          988.4,
          930.6,
          990.9,
          945.5,
          945.5,
          1022.6,
          1022.6,
          1002,
          1002.1,
          1061.5,
          1061.5,
          1061.5,
          1066.6,
          988.4,
          1058,
          1069.4,
          1069.4,
          1069.4,
          1061.5,
          1019.7,
          988.3,
          988.4,
          988.4,
          966.7,
          963.6,
          945.5,
          918.6,
          966.7,
          1019.7,
          966.8,
          1019.7,
          1002,
          966.7,
          990.9,
          964.4,
          990.9,
          885.7,
          990.9,
          1061.5,
          1022.6,
          894.6,
          912.1,
          890.2,
          963.6,
          963.6,
          964.4,
          964.4,
          964.4,
          963.6,
          988.3,
          988.3,
          988.3,
          988.4,
          1002,
          988.4,
          964.4,
          988.4,
          966.7,
          988.4,
          988.4,
          1061.5,
          990.9,
          966.7,
          1061.5,
          1022.6,
          945.5,
          1002,
          1002,
          1002,
          1019.7,
          1002.1,
          1061.5,
          1061.5,
          1069.4,
          1069.4,
          1061.5,
          966.7,
          1022.6,
          1022.6,
          1022.6,
          1064,
          1061.5,
          1061.5,
          966.7,
          1002,
          1061.5,
          1022.6,
          1002,
          964.4,
          1002,
          966.7,
          1069.4,
          990.9,
          963.6,
          1064.1,
          1069.4,
          1002,
          1022.6,
          990.9,
          1061.5,
          1069.4,
          1064.1,
          1069.4,
          1069.4,
          1022.6,
          1069.4,
          1069.4,
          1069.4,
          1069.4,
          1069.4,
          1069.4,
          966.8,
          1061.5,
          1069.4,
          1069.4,
          1064,
          945.5,
          1061.5,
          964.4,
          1002.1,
          1002,
          1061.5,
          966.7,
          990.9,
          1069.4,
          1022.6,
          1022.6,
          1002,
          964.4,
          1069.4,
          1069.4,
          1069.4,
          1022.6,
          1069.4,
          1069.4,
          1061.5,
          1069.4,
          1069.4,
          1069.4,
          1061.5,
          1069.4,
          1069.4,
          1061.5,
          1061.5,
          1061.5,
          1002.1,
          990.9,
          1061.5,
          1061.5,
          963.6,
          988.4,
          1061.5,
          1022.6,
          966.7,
          1061.5,
          1069.4,
          1069.4,
          966.7,
          990.9,
          990.9,
          990.9,
          990.9,
          966.7,
          1022.6,
          1022.6,
          1069.4,
          1064,
          990.9,
          966.7,
          1002,
          1022.6,
          1061.5,
          1069.4,
          1064.1,
          966.7,
          966.7,
          966.7,
          990.9,
          1061.5,
          963.6,
          966.7,
          1061.5,
          988.4,
          1022.6,
          966.8,
          1061.5,
          1061.5,
          1022.6,
          963.6,
          1002,
          990.9,
          990.9,
          1069.4,
          1069.4,
          1061.5,
          966.7,
          1069.4,
          1403,
          1565.5,
          1403,
          1520.2,
          1403,
          1087.5,
          1379.4,
          1331.3,
          1316.8,
          1061.5,
          990.9,
          964.4,
          1061.5,
          963.6,
          1002,
          1061.5,
          1002,
          1061.5,
          990.9,
          990.9,
          1061.5,
          1069.4,
          990.9,
          1022.6,
          1423.1,
          1403,
          1379.4,
          1565.1,
          1503.4,
          1422.9,
          1403,
          1379.4,
          1316.9,
          1064.1,
          1069.4,
          1294,
          1293.5,
          1069.4,
          1069.4,
          990.9,
          945.5,
          1002,
          1022.6,
          1064.1,
          912.1,
          1019.7,
          1022.6,
          964.4,
          1069.4,
          1022.6,
          1069.4,
          1061.5,
          1022.6,
          1002,
          1061.5,
          1061.5,
          1069.4,
          1022.6,
          1002,
          1022.6,
          1002,
          945.5,
          990.9,
          1022.6,
          1022.6,
          1022.6,
          990.9,
          966.7,
          930.6,
          964.4,
          1002,
          1022.6,
          1002.1,
          966.7,
          912.1,
          1019.7,
          966.7,
          1022.6,
          1069.4,
          1022.6,
          1403,
          1293.5,
          964.4,
          1069.4,
          1061.5,
          1061.5,
          1064.1,
          1002,
          990.9,
          963.6,
          1002,
          1069.4,
          1069.4,
          1061.5,
          1061.5,
          1002,
          966.7,
          1002,
          1022.6,
          1022.6,
          990.9,
          1002,
          990.9,
          945.4,
          1002,
          916.8,
          1061.5,
          966.7,
          1061.5,
          1061.5,
          964.5,
          1422.9,
          1069.4,
          1022.6,
          1069.4,
          1022.6,
          1002,
          966.7,
          1069.4,
          1069.4,
          1069.4,
          1061.5,
          1069.4,
          1061.5,
          966.7,
          1022.6,
          1061.5,
          1002,
          1022.6,
          1002.1,
          966.8,
          963.7,
          966.7,
          990.9,
          1066.6,
          888.5,
          1002.1,
          966.7,
          1069.4,
          990.9,
          966.8,
          1422.9,
          966.7,
          1069.4,
          1061.5,
          966.7,
          1022.6,
          1061.5,
          1064.1,
          1061.5,
          1061.5,
          1022.6,
          990.9,
          1043.3,
          1061.5,
          1022.6,
          1022.6,
          1022.6,
          1002,
          966.7,
          1002,
          1002,
          1061.5,
          1022.6,
          1022.6
         ],
         "yaxis": "y"
        }
       ],
       "layout": {
        "autosize": true,
        "legend": {
         "tracegroupgap": 0
        },
        "margin": {
         "t": 60
        },
        "plot_bgcolor": "rgba(53,223,0,0.8)",
        "template": {
         "data": {
          "bar": [
           {
            "error_x": {
             "color": "#2a3f5f"
            },
            "error_y": {
             "color": "#2a3f5f"
            },
            "marker": {
             "line": {
              "color": "#E5ECF6",
              "width": 0.5
             },
             "pattern": {
              "fillmode": "overlay",
              "size": 10,
              "solidity": 0.2
             }
            },
            "type": "bar"
           }
          ],
          "barpolar": [
           {
            "marker": {
             "line": {
              "color": "#E5ECF6",
              "width": 0.5
             },
             "pattern": {
              "fillmode": "overlay",
              "size": 10,
              "solidity": 0.2
             }
            },
            "type": "barpolar"
           }
          ],
          "carpet": [
           {
            "aaxis": {
             "endlinecolor": "#2a3f5f",
             "gridcolor": "white",
             "linecolor": "white",
             "minorgridcolor": "white",
             "startlinecolor": "#2a3f5f"
            },
            "baxis": {
             "endlinecolor": "#2a3f5f",
             "gridcolor": "white",
             "linecolor": "white",
             "minorgridcolor": "white",
             "startlinecolor": "#2a3f5f"
            },
            "type": "carpet"
           }
          ],
          "choropleth": [
           {
            "colorbar": {
             "outlinewidth": 0,
             "ticks": ""
            },
            "type": "choropleth"
           }
          ],
          "contour": [
           {
            "colorbar": {
             "outlinewidth": 0,
             "ticks": ""
            },
            "colorscale": [
             [
              0,
              "#0d0887"
             ],
             [
              0.1111111111111111,
              "#46039f"
             ],
             [
              0.2222222222222222,
              "#7201a8"
             ],
             [
              0.3333333333333333,
              "#9c179e"
             ],
             [
              0.4444444444444444,
              "#bd3786"
             ],
             [
              0.5555555555555556,
              "#d8576b"
             ],
             [
              0.6666666666666666,
              "#ed7953"
             ],
             [
              0.7777777777777778,
              "#fb9f3a"
             ],
             [
              0.8888888888888888,
              "#fdca26"
             ],
             [
              1,
              "#f0f921"
             ]
            ],
            "type": "contour"
           }
          ],
          "contourcarpet": [
           {
            "colorbar": {
             "outlinewidth": 0,
             "ticks": ""
            },
            "type": "contourcarpet"
           }
          ],
          "heatmap": [
           {
            "colorbar": {
             "outlinewidth": 0,
             "ticks": ""
            },
            "colorscale": [
             [
              0,
              "#0d0887"
             ],
             [
              0.1111111111111111,
              "#46039f"
             ],
             [
              0.2222222222222222,
              "#7201a8"
             ],
             [
              0.3333333333333333,
              "#9c179e"
             ],
             [
              0.4444444444444444,
              "#bd3786"
             ],
             [
              0.5555555555555556,
              "#d8576b"
             ],
             [
              0.6666666666666666,
              "#ed7953"
             ],
             [
              0.7777777777777778,
              "#fb9f3a"
             ],
             [
              0.8888888888888888,
              "#fdca26"
             ],
             [
              1,
              "#f0f921"
             ]
            ],
            "type": "heatmap"
           }
          ],
          "heatmapgl": [
           {
            "colorbar": {
             "outlinewidth": 0,
             "ticks": ""
            },
            "colorscale": [
             [
              0,
              "#0d0887"
             ],
             [
              0.1111111111111111,
              "#46039f"
             ],
             [
              0.2222222222222222,
              "#7201a8"
             ],
             [
              0.3333333333333333,
              "#9c179e"
             ],
             [
              0.4444444444444444,
              "#bd3786"
             ],
             [
              0.5555555555555556,
              "#d8576b"
             ],
             [
              0.6666666666666666,
              "#ed7953"
             ],
             [
              0.7777777777777778,
              "#fb9f3a"
             ],
             [
              0.8888888888888888,
              "#fdca26"
             ],
             [
              1,
              "#f0f921"
             ]
            ],
            "type": "heatmapgl"
           }
          ],
          "histogram": [
           {
            "marker": {
             "pattern": {
              "fillmode": "overlay",
              "size": 10,
              "solidity": 0.2
             }
            },
            "type": "histogram"
           }
          ],
          "histogram2d": [
           {
            "colorbar": {
             "outlinewidth": 0,
             "ticks": ""
            },
            "colorscale": [
             [
              0,
              "#0d0887"
             ],
             [
              0.1111111111111111,
              "#46039f"
             ],
             [
              0.2222222222222222,
              "#7201a8"
             ],
             [
              0.3333333333333333,
              "#9c179e"
             ],
             [
              0.4444444444444444,
              "#bd3786"
             ],
             [
              0.5555555555555556,
              "#d8576b"
             ],
             [
              0.6666666666666666,
              "#ed7953"
             ],
             [
              0.7777777777777778,
              "#fb9f3a"
             ],
             [
              0.8888888888888888,
              "#fdca26"
             ],
             [
              1,
              "#f0f921"
             ]
            ],
            "type": "histogram2d"
           }
          ],
          "histogram2dcontour": [
           {
            "colorbar": {
             "outlinewidth": 0,
             "ticks": ""
            },
            "colorscale": [
             [
              0,
              "#0d0887"
             ],
             [
              0.1111111111111111,
              "#46039f"
             ],
             [
              0.2222222222222222,
              "#7201a8"
             ],
             [
              0.3333333333333333,
              "#9c179e"
             ],
             [
              0.4444444444444444,
              "#bd3786"
             ],
             [
              0.5555555555555556,
              "#d8576b"
             ],
             [
              0.6666666666666666,
              "#ed7953"
             ],
             [
              0.7777777777777778,
              "#fb9f3a"
             ],
             [
              0.8888888888888888,
              "#fdca26"
             ],
             [
              1,
              "#f0f921"
             ]
            ],
            "type": "histogram2dcontour"
           }
          ],
          "mesh3d": [
           {
            "colorbar": {
             "outlinewidth": 0,
             "ticks": ""
            },
            "type": "mesh3d"
           }
          ],
          "parcoords": [
           {
            "line": {
             "colorbar": {
              "outlinewidth": 0,
              "ticks": ""
             }
            },
            "type": "parcoords"
           }
          ],
          "pie": [
           {
            "automargin": true,
            "type": "pie"
           }
          ],
          "scatter": [
           {
            "fillpattern": {
             "fillmode": "overlay",
             "size": 10,
             "solidity": 0.2
            },
            "type": "scatter"
           }
          ],
          "scatter3d": [
           {
            "line": {
             "colorbar": {
              "outlinewidth": 0,
              "ticks": ""
             }
            },
            "marker": {
             "colorbar": {
              "outlinewidth": 0,
              "ticks": ""
             }
            },
            "type": "scatter3d"
           }
          ],
          "scattercarpet": [
           {
            "marker": {
             "colorbar": {
              "outlinewidth": 0,
              "ticks": ""
             }
            },
            "type": "scattercarpet"
           }
          ],
          "scattergeo": [
           {
            "marker": {
             "colorbar": {
              "outlinewidth": 0,
              "ticks": ""
             }
            },
            "type": "scattergeo"
           }
          ],
          "scattergl": [
           {
            "marker": {
             "colorbar": {
              "outlinewidth": 0,
              "ticks": ""
             }
            },
            "type": "scattergl"
           }
          ],
          "scattermapbox": [
           {
            "marker": {
             "colorbar": {
              "outlinewidth": 0,
              "ticks": ""
             }
            },
            "type": "scattermapbox"
           }
          ],
          "scatterpolar": [
           {
            "marker": {
             "colorbar": {
              "outlinewidth": 0,
              "ticks": ""
             }
            },
            "type": "scatterpolar"
           }
          ],
          "scatterpolargl": [
           {
            "marker": {
             "colorbar": {
              "outlinewidth": 0,
              "ticks": ""
             }
            },
            "type": "scatterpolargl"
           }
          ],
          "scatterternary": [
           {
            "marker": {
             "colorbar": {
              "outlinewidth": 0,
              "ticks": ""
             }
            },
            "type": "scatterternary"
           }
          ],
          "surface": [
           {
            "colorbar": {
             "outlinewidth": 0,
             "ticks": ""
            },
            "colorscale": [
             [
              0,
              "#0d0887"
             ],
             [
              0.1111111111111111,
              "#46039f"
             ],
             [
              0.2222222222222222,
              "#7201a8"
             ],
             [
              0.3333333333333333,
              "#9c179e"
             ],
             [
              0.4444444444444444,
              "#bd3786"
             ],
             [
              0.5555555555555556,
              "#d8576b"
             ],
             [
              0.6666666666666666,
              "#ed7953"
             ],
             [
              0.7777777777777778,
              "#fb9f3a"
             ],
             [
              0.8888888888888888,
              "#fdca26"
             ],
             [
              1,
              "#f0f921"
             ]
            ],
            "type": "surface"
           }
          ],
          "table": [
           {
            "cells": {
             "fill": {
              "color": "#EBF0F8"
             },
             "line": {
              "color": "white"
             }
            },
            "header": {
             "fill": {
              "color": "#C8D4E3"
             },
             "line": {
              "color": "white"
             }
            },
            "type": "table"
           }
          ]
         },
         "layout": {
          "annotationdefaults": {
           "arrowcolor": "#2a3f5f",
           "arrowhead": 0,
           "arrowwidth": 1
          },
          "autotypenumbers": "strict",
          "coloraxis": {
           "colorbar": {
            "outlinewidth": 0,
            "ticks": ""
           }
          },
          "colorscale": {
           "diverging": [
            [
             0,
             "#8e0152"
            ],
            [
             0.1,
             "#c51b7d"
            ],
            [
             0.2,
             "#de77ae"
            ],
            [
             0.3,
             "#f1b6da"
            ],
            [
             0.4,
             "#fde0ef"
            ],
            [
             0.5,
             "#f7f7f7"
            ],
            [
             0.6,
             "#e6f5d0"
            ],
            [
             0.7,
             "#b8e186"
            ],
            [
             0.8,
             "#7fbc41"
            ],
            [
             0.9,
             "#4d9221"
            ],
            [
             1,
             "#276419"
            ]
           ],
           "sequential": [
            [
             0,
             "#0d0887"
            ],
            [
             0.1111111111111111,
             "#46039f"
            ],
            [
             0.2222222222222222,
             "#7201a8"
            ],
            [
             0.3333333333333333,
             "#9c179e"
            ],
            [
             0.4444444444444444,
             "#bd3786"
            ],
            [
             0.5555555555555556,
             "#d8576b"
            ],
            [
             0.6666666666666666,
             "#ed7953"
            ],
            [
             0.7777777777777778,
             "#fb9f3a"
            ],
            [
             0.8888888888888888,
             "#fdca26"
            ],
            [
             1,
             "#f0f921"
            ]
           ],
           "sequentialminus": [
            [
             0,
             "#0d0887"
            ],
            [
             0.1111111111111111,
             "#46039f"
            ],
            [
             0.2222222222222222,
             "#7201a8"
            ],
            [
             0.3333333333333333,
             "#9c179e"
            ],
            [
             0.4444444444444444,
             "#bd3786"
            ],
            [
             0.5555555555555556,
             "#d8576b"
            ],
            [
             0.6666666666666666,
             "#ed7953"
            ],
            [
             0.7777777777777778,
             "#fb9f3a"
            ],
            [
             0.8888888888888888,
             "#fdca26"
            ],
            [
             1,
             "#f0f921"
            ]
           ]
          },
          "colorway": [
           "#636efa",
           "#EF553B",
           "#00cc96",
           "#ab63fa",
           "#FFA15A",
           "#19d3f3",
           "#FF6692",
           "#B6E880",
           "#FF97FF",
           "#FECB52"
          ],
          "font": {
           "color": "#2a3f5f"
          },
          "geo": {
           "bgcolor": "white",
           "lakecolor": "white",
           "landcolor": "#E5ECF6",
           "showlakes": true,
           "showland": true,
           "subunitcolor": "white"
          },
          "hoverlabel": {
           "align": "left"
          },
          "hovermode": "closest",
          "mapbox": {
           "style": "light"
          },
          "paper_bgcolor": "white",
          "plot_bgcolor": "#E5ECF6",
          "polar": {
           "angularaxis": {
            "gridcolor": "white",
            "linecolor": "white",
            "ticks": ""
           },
           "bgcolor": "#E5ECF6",
           "radialaxis": {
            "gridcolor": "white",
            "linecolor": "white",
            "ticks": ""
           }
          },
          "scene": {
           "xaxis": {
            "backgroundcolor": "#E5ECF6",
            "gridcolor": "white",
            "gridwidth": 2,
            "linecolor": "white",
            "showbackground": true,
            "ticks": "",
            "zerolinecolor": "white"
           },
           "yaxis": {
            "backgroundcolor": "#E5ECF6",
            "gridcolor": "white",
            "gridwidth": 2,
            "linecolor": "white",
            "showbackground": true,
            "ticks": "",
            "zerolinecolor": "white"
           },
           "zaxis": {
            "backgroundcolor": "#E5ECF6",
            "gridcolor": "white",
            "gridwidth": 2,
            "linecolor": "white",
            "showbackground": true,
            "ticks": "",
            "zerolinecolor": "white"
           }
          },
          "shapedefaults": {
           "line": {
            "color": "#2a3f5f"
           }
          },
          "ternary": {
           "aaxis": {
            "gridcolor": "white",
            "linecolor": "white",
            "ticks": ""
           },
           "baxis": {
            "gridcolor": "white",
            "linecolor": "white",
            "ticks": ""
           },
           "bgcolor": "#E5ECF6",
           "caxis": {
            "gridcolor": "white",
            "linecolor": "white",
            "ticks": ""
           }
          },
          "title": {
           "x": 0.05
          },
          "xaxis": {
           "automargin": true,
           "gridcolor": "white",
           "linecolor": "white",
           "ticks": "",
           "title": {
            "standoff": 15
           },
           "zerolinecolor": "white",
           "zerolinewidth": 2
          },
          "yaxis": {
           "automargin": true,
           "gridcolor": "white",
           "linecolor": "white",
           "ticks": "",
           "title": {
            "standoff": 15
           },
           "zerolinecolor": "white",
           "zerolinewidth": 2
          }
         }
        },
        "title": {
         "text": "Data",
         "x": 0.5,
         "xanchor": "center",
         "y": 0.95,
         "yanchor": "top"
        },
        "xaxis": {
         "anchor": "y",
         "autorange": true,
         "domain": [
          0,
          1
         ],
         "range": [
          "2021-01-01",
          "2021-12-31"
         ],
         "title": {
          "text": "Ngay"
         },
         "type": "date"
        },
        "yaxis": {
         "anchor": "x",
         "autorange": true,
         "domain": [
          0,
          1
         ],
         "range": [
          847.9333333333334,
          1603.2666666666667
         ],
         "title": {
          "text": "3"
         },
         "type": "linear"
        }
       }
      },
      "image/png": "[encoded data removed]",
      "text/html": [
       "<div>                            <div id=\"1e0540c3-7110-4b0f-83ff-c2551fccc84d\" class=\"plotly-graph-div\" style=\"height:525px; width:100%;\"></div>            <script type=\"text/javascript\">                require([\"plotly\"], function(Plotly) {                    window.PLOTLYENV=window.PLOTLYENV || {};                                    if (document.getElementById(\"1e0540c3-7110-4b0f-83ff-c2551fccc84d\")) {                    Plotly.newPlot(                        \"1e0540c3-7110-4b0f-83ff-c2551fccc84d\",                        [{\"hovertemplate\":\"x=%{x}\\u003cbr\\u003ey=%{y}\\u003cextra\\u003e\\u003c\\u002fextra\\u003e\",\"legendgroup\":\"\",\"line\":{\"color\":\"black\",\"dash\":\"solid\"},\"marker\":{\"symbol\":\"circle\"},\"mode\":\"lines\",\"name\":\"\",\"orientation\":\"v\",\"showlegend\":false,\"x\":[\"2021-01-01T00:00:00\",\"2021-01-02T00:00:00\",\"2021-01-03T00:00:00\",\"2021-01-04T00:00:00\",\"2021-01-05T00:00:00\",\"2021-01-06T00:00:00\",\"2021-01-07T00:00:00\",\"2021-01-08T00:00:00\",\"2021-01-09T00:00:00\",\"2021-01-10T00:00:00\",\"2021-01-11T00:00:00\",\"2021-01-12T00:00:00\",\"2021-01-13T00:00:00\",\"2021-01-14T00:00:00\",\"2021-01-15T00:00:00\",\"2021-01-16T00:00:00\",\"2021-01-17T00:00:00\",\"2021-01-18T00:00:00\",\"2021-01-19T00:00:00\",\"2021-01-20T00:00:00\",\"2021-01-21T00:00:00\",\"2021-01-22T00:00:00\",\"2021-01-23T00:00:00\",\"2021-01-24T00:00:00\",\"2021-01-25T00:00:00\",\"2021-01-26T00:00:00\",\"2021-01-27T00:00:00\",\"2021-01-28T00:00:00\",\"2021-01-29T00:00:00\",\"2021-01-30T00:00:00\",\"2021-01-31T00:00:00\",\"2021-02-01T00:00:00\",\"2021-02-02T00:00:00\",\"2021-02-03T00:00:00\",\"2021-02-04T00:00:00\",\"2021-02-05T00:00:00\",\"2021-02-06T00:00:00\",\"2021-02-07T00:00:00\",\"2021-02-08T00:00:00\",\"2021-02-09T00:00:00\",\"2021-02-10T00:00:00\",\"2021-02-11T00:00:00\",\"2021-02-12T00:00:00\",\"2021-02-13T00:00:00\",\"2021-02-14T00:00:00\",\"2021-02-15T00:00:00\",\"2021-02-16T00:00:00\",\"2021-02-17T00:00:00\",\"2021-02-18T00:00:00\",\"2021-02-19T00:00:00\",\"2021-02-20T00:00:00\",\"2021-02-21T00:00:00\",\"2021-02-22T00:00:00\",\"2021-02-23T00:00:00\",\"2021-02-24T00:00:00\",\"2021-02-25T00:00:00\",\"2021-02-26T00:00:00\",\"2021-02-27T00:00:00\",\"2021-02-28T00:00:00\",\"2021-03-01T00:00:00\",\"2021-03-02T00:00:00\",\"2021-03-03T00:00:00\",\"2021-03-04T00:00:00\",\"2021-03-05T00:00:00\",\"2021-03-06T00:00:00\",\"2021-03-07T00:00:00\",\"2021-03-08T00:00:00\",\"2021-03-09T00:00:00\",\"2021-03-10T00:00:00\",\"2021-03-11T00:00:00\",\"2021-03-12T00:00:00\",\"2021-03-13T00:00:00\",\"2021-03-14T00:00:00\",\"2021-03-15T00:00:00\",\"2021-03-16T00:00:00\",\"2021-03-17T00:00:00\",\"2021-03-18T00:00:00\",\"2021-03-19T00:00:00\",\"2021-03-20T00:00:00\",\"2021-03-21T00:00:00\",\"2021-03-22T00:00:00\",\"2021-03-23T00:00:00\",\"2021-03-24T00:00:00\",\"2021-03-25T00:00:00\",\"2021-03-26T00:00:00\",\"2021-03-27T00:00:00\",\"2021-03-28T00:00:00\",\"2021-03-29T00:00:00\",\"2021-03-30T00:00:00\",\"2021-03-31T00:00:00\",\"2021-04-01T00:00:00\",\"2021-04-02T00:00:00\",\"2021-04-03T00:00:00\",\"2021-04-04T00:00:00\",\"2021-04-05T00:00:00\",\"2021-04-06T00:00:00\",\"2021-04-07T00:00:00\",\"2021-04-08T00:00:00\",\"2021-04-09T00:00:00\",\"2021-04-10T00:00:00\",\"2021-04-11T00:00:00\",\"2021-04-12T00:00:00\",\"2021-04-13T00:00:00\",\"2021-04-14T00:00:00\",\"2021-04-15T00:00:00\",\"2021-04-16T00:00:00\",\"2021-04-17T00:00:00\",\"2021-04-18T00:00:00\",\"2021-04-19T00:00:00\",\"2021-04-20T00:00:00\",\"2021-04-21T00:00:00\",\"2021-04-22T00:00:00\",\"2021-04-23T00:00:00\",\"2021-04-24T00:00:00\",\"2021-04-25T00:00:00\",\"2021-04-26T00:00:00\",\"2021-04-27T00:00:00\",\"2021-04-28T00:00:00\",\"2021-04-29T00:00:00\",\"2021-04-30T00:00:00\",\"2021-05-01T00:00:00\",\"2021-05-02T00:00:00\",\"2021-05-03T00:00:00\",\"2021-05-04T00:00:00\",\"2021-05-05T00:00:00\",\"2021-05-06T00:00:00\",\"2021-05-07T00:00:00\",\"2021-05-08T00:00:00\",\"2021-05-09T00:00:00\",\"2021-05-10T00:00:00\",\"2021-05-11T00:00:00\",\"2021-05-12T00:00:00\",\"2021-05-13T00:00:00\",\"2021-05-14T00:00:00\",\"2021-05-15T00:00:00\",\"2021-05-16T00:00:00\",\"2021-05-17T00:00:00\",\"2021-05-18T00:00:00\",\"2021-05-19T00:00:00\",\"2021-05-20T00:00:00\",\"2021-05-21T00:00:00\",\"2021-05-22T00:00:00\",\"2021-05-23T00:00:00\",\"2021-05-24T00:00:00\",\"2021-05-25T00:00:00\",\"2021-05-26T00:00:00\",\"2021-05-27T00:00:00\",\"2021-05-28T00:00:00\",\"2021-05-29T00:00:00\",\"2021-05-30T00:00:00\",\"2021-05-31T00:00:00\",\"2021-06-01T00:00:00\",\"2021-06-02T00:00:00\",\"2021-06-03T00:00:00\",\"2021-06-04T00:00:00\",\"2021-06-05T00:00:00\",\"2021-06-06T00:00:00\",\"2021-06-07T00:00:00\",\"2021-06-08T00:00:00\",\"2021-06-09T00:00:00\",\"2021-06-10T00:00:00\",\"2021-06-11T00:00:00\",\"2021-06-12T00:00:00\",\"2021-06-13T00:00:00\",\"2021-06-14T00:00:00\",\"2021-06-15T00:00:00\",\"2021-06-16T00:00:00\",\"2021-06-17T00:00:00\",\"2021-06-18T00:00:00\",\"2021-06-19T00:00:00\",\"2021-06-20T00:00:00\",\"2021-06-21T00:00:00\",\"2021-06-22T00:00:00\",\"2021-06-23T00:00:00\",\"2021-06-24T00:00:00\",\"2021-06-25T00:00:00\",\"2021-06-26T00:00:00\",\"2021-06-27T00:00:00\",\"2021-06-28T00:00:00\",\"2021-06-29T00:00:00\",\"2021-06-30T00:00:00\",\"2021-07-01T00:00:00\",\"2021-07-02T00:00:00\",\"2021-07-03T00:00:00\",\"2021-07-04T00:00:00\",\"2021-07-05T00:00:00\",\"2021-07-06T00:00:00\",\"2021-07-07T00:00:00\",\"2021-07-08T00:00:00\",\"2021-07-09T00:00:00\",\"2021-07-10T00:00:00\",\"2021-07-11T00:00:00\",\"2021-07-12T00:00:00\",\"2021-07-13T00:00:00\",\"2021-07-14T00:00:00\",\"2021-07-15T00:00:00\",\"2021-07-16T00:00:00\",\"2021-07-17T00:00:00\",\"2021-07-18T00:00:00\",\"2021-07-19T00:00:00\",\"2021-07-20T00:00:00\",\"2021-07-21T00:00:00\",\"2021-07-22T00:00:00\",\"2021-07-23T00:00:00\",\"2021-07-24T00:00:00\",\"2021-07-25T00:00:00\",\"2021-07-26T00:00:00\",\"2021-07-27T00:00:00\",\"2021-07-28T00:00:00\",\"2021-07-29T00:00:00\",\"2021-07-30T00:00:00\",\"2021-07-31T00:00:00\",\"2021-08-01T00:00:00\",\"2021-08-02T00:00:00\",\"2021-08-03T00:00:00\",\"2021-08-04T00:00:00\",\"2021-08-05T00:00:00\",\"2021-08-06T00:00:00\",\"2021-08-07T00:00:00\",\"2021-08-08T00:00:00\",\"2021-08-09T00:00:00\",\"2021-08-10T00:00:00\",\"2021-08-11T00:00:00\",\"2021-08-12T00:00:00\",\"2021-08-13T00:00:00\",\"2021-08-14T00:00:00\",\"2021-08-15T00:00:00\",\"2021-08-16T00:00:00\",\"2021-08-17T00:00:00\",\"2021-08-18T00:00:00\",\"2021-08-19T00:00:00\",\"2021-08-20T00:00:00\",\"2021-08-21T00:00:00\",\"2021-08-22T00:00:00\",\"2021-08-23T00:00:00\",\"2021-08-24T00:00:00\",\"2021-08-25T00:00:00\",\"2021-08-26T00:00:00\",\"2021-08-27T00:00:00\",\"2021-08-28T00:00:00\",\"2021-08-29T00:00:00\",\"2021-08-30T00:00:00\",\"2021-08-31T00:00:00\",\"2021-09-01T00:00:00\",\"2021-09-02T00:00:00\",\"2021-09-03T00:00:00\",\"2021-09-04T00:00:00\",\"2021-09-05T00:00:00\",\"2021-09-06T00:00:00\",\"2021-09-07T00:00:00\",\"2021-09-08T00:00:00\",\"2021-09-09T00:00:00\",\"2021-09-10T00:00:00\",\"2021-09-11T00:00:00\",\"2021-09-12T00:00:00\",\"2021-09-13T00:00:00\",\"2021-09-14T00:00:00\",\"2021-09-15T00:00:00\",\"2021-09-16T00:00:00\",\"2021-09-17T00:00:00\",\"2021-09-18T00:00:00\",\"2021-09-19T00:00:00\",\"2021-09-20T00:00:00\",\"2021-09-21T00:00:00\",\"2021-09-22T00:00:00\",\"2021-09-23T00:00:00\",\"2021-09-24T00:00:00\",\"2021-09-25T00:00:00\",\"2021-09-26T00:00:00\",\"2021-09-27T00:00:00\",\"2021-09-28T00:00:00\",\"2021-09-29T00:00:00\",\"2021-09-30T00:00:00\",\"2021-10-01T00:00:00\",\"2021-10-02T00:00:00\",\"2021-10-03T00:00:00\",\"2021-10-04T00:00:00\",\"2021-10-05T00:00:00\",\"2021-10-06T00:00:00\",\"2021-10-07T00:00:00\",\"2021-10-08T00:00:00\",\"2021-10-09T00:00:00\",\"2021-10-10T00:00:00\",\"2021-10-11T00:00:00\",\"2021-10-12T00:00:00\",\"2021-10-13T00:00:00\",\"2021-10-14T00:00:00\",\"2021-10-15T00:00:00\",\"2021-10-16T00:00:00\",\"2021-10-17T00:00:00\",\"2021-10-18T00:00:00\",\"2021-10-19T00:00:00\",\"2021-10-20T00:00:00\",\"2021-10-21T00:00:00\",\"2021-10-22T00:00:00\",\"2021-10-23T00:00:00\",\"2021-10-24T00:00:00\",\"2021-10-25T00:00:00\",\"2021-10-26T00:00:00\",\"2021-10-27T00:00:00\",\"2021-10-28T00:00:00\",\"2021-10-29T00:00:00\",\"2021-10-30T00:00:00\",\"2021-10-31T00:00:00\",\"2021-11-01T00:00:00\",\"2021-11-02T00:00:00\",\"2021-11-03T00:00:00\",\"2021-11-04T00:00:00\",\"2021-11-05T00:00:00\",\"2021-11-06T00:00:00\",\"2021-11-07T00:00:00\",\"2021-11-08T00:00:00\",\"2021-11-09T00:00:00\",\"2021-11-10T00:00:00\",\"2021-11-11T00:00:00\",\"2021-11-12T00:00:00\",\"2021-11-13T00:00:00\",\"2021-11-14T00:00:00\",\"2021-11-15T00:00:00\",\"2021-11-16T00:00:00\",\"2021-11-17T00:00:00\",\"2021-11-18T00:00:00\",\"2021-11-19T00:00:00\",\"2021-11-20T00:00:00\",\"2021-11-21T00:00:00\",\"2021-11-22T00:00:00\",\"2021-11-23T00:00:00\",\"2021-11-24T00:00:00\",\"2021-11-25T00:00:00\",\"2021-11-26T00:00:00\",\"2021-11-27T00:00:00\",\"2021-11-28T00:00:00\",\"2021-11-29T00:00:00\",\"2021-11-30T00:00:00\",\"2021-12-01T00:00:00\",\"2021-12-02T00:00:00\",\"2021-12-03T00:00:00\",\"2021-12-04T00:00:00\",\"2021-12-05T00:00:00\",\"2021-12-06T00:00:00\",\"2021-12-07T00:00:00\",\"2021-12-08T00:00:00\",\"2021-12-09T00:00:00\",\"2021-12-10T00:00:00\",\"2021-12-11T00:00:00\",\"2021-12-12T00:00:00\",\"2021-12-13T00:00:00\",\"2021-12-14T00:00:00\",\"2021-12-15T00:00:00\",\"2021-12-16T00:00:00\",\"2021-12-17T00:00:00\",\"2021-12-18T00:00:00\",\"2021-12-19T00:00:00\",\"2021-12-20T00:00:00\",\"2021-12-21T00:00:00\",\"2021-12-22T00:00:00\",\"2021-12-23T00:00:00\",\"2021-12-24T00:00:00\",\"2021-12-25T00:00:00\",\"2021-12-26T00:00:00\",\"2021-12-27T00:00:00\",\"2021-12-28T00:00:00\",\"2021-12-29T00:00:00\",\"2021-12-30T00:00:00\",\"2021-12-31T00:00:00\"],\"xaxis\":\"x\",\"y\":[964.4,964.4,988.3,988.4,930.6,990.9,945.5,945.5,1022.6,1022.6,1002.0,1002.1,1061.5,1061.5,1061.5,1066.6,988.4,1058.0,1069.4,1069.4,1069.4,1061.5,1019.7,988.3,988.4,988.4,966.7,963.6,945.5,918.6,966.7,1019.7,966.8,1019.7,1002.0,966.7,990.9,964.4,990.9,885.7,990.9,1061.5,1022.6,894.6,912.1,890.2,963.6,963.6,964.4,964.4,964.4,963.6,988.3,988.3,988.3,988.4,1002.0,988.4,964.4,988.4,966.7,988.4,988.4,1061.5,990.9,966.7,1061.5,1022.6,945.5,1002.0,1002.0,1002.0,1019.7,1002.1,1061.5,1061.5,1069.4,1069.4,1061.5,966.7,1022.6,1022.6,1022.6,1064.0,1061.5,1061.5,966.7,1002.0,1061.5,1022.6,1002.0,964.4,1002.0,966.7,1069.4,990.9,963.6,1064.1,1069.4,1002.0,1022.6,990.9,1061.5,1069.4,1064.1,1069.4,1069.4,1022.6,1069.4,1069.4,1069.4,1069.4,1069.4,1069.4,966.8,1061.5,1069.4,1069.4,1064.0,945.5,1061.5,964.4,1002.1,1002.0,1061.5,966.7,990.9,1069.4,1022.6,1022.6,1002.0,964.4,1069.4,1069.4,1069.4,1022.6,1069.4,1069.4,1061.5,1069.4,1069.4,1069.4,1061.5,1069.4,1069.4,1061.5,1061.5,1061.5,1002.1,990.9,1061.5,1061.5,963.6,988.4,1061.5,1022.6,966.7,1061.5,1069.4,1069.4,966.7,990.9,990.9,990.9,990.9,966.7,1022.6,1022.6,1069.4,1064.0,990.9,966.7,1002.0,1022.6,1061.5,1069.4,1064.1,966.7,966.7,966.7,990.9,1061.5,963.6,966.7,1061.5,988.4,1022.6,966.8,1061.5,1061.5,1022.6,963.6,1002.0,990.9,990.9,1069.4,1069.4,1061.5,966.7,1069.4,1403.0,1565.5,1403.0,1520.2,1403.0,1087.5,1379.4,1331.3,1316.8,1061.5,990.9,964.4,1061.5,963.6,1002.0,1061.5,1002.0,1061.5,990.9,990.9,1061.5,1069.4,990.9,1022.6,1423.1,1403.0,1379.4,1565.1,1503.4,1422.9,1403.0,1379.4,1316.9,1064.1,1069.4,1294.0,1293.5,1069.4,1069.4,990.9,945.5,1002.0,1022.6,1064.1,912.1,1019.7,1022.6,964.4,1069.4,1022.6,1069.4,1061.5,1022.6,1002.0,1061.5,1061.5,1069.4,1022.6,1002.0,1022.6,1002.0,945.5,990.9,1022.6,1022.6,1022.6,990.9,966.7,930.6,964.4,1002.0,1022.6,1002.1,966.7,912.1,1019.7,966.7,1022.6,1069.4,1022.6,1403.0,1293.5,964.4,1069.4,1061.5,1061.5,1064.1,1002.0,990.9,963.6,1002.0,1069.4,1069.4,1061.5,1061.5,1002.0,966.7,1002.0,1022.6,1022.6,990.9,1002.0,990.9,945.4,1002.0,916.8,1061.5,966.7,1061.5,1061.5,964.5,1422.9,1069.4,1022.6,1069.4,1022.6,1002.0,966.7,1069.4,1069.4,1069.4,1061.5,1069.4,1061.5,966.7,1022.6,1061.5,1002.0,1022.6,1002.1,966.8,963.7,966.7,990.9,1066.6,888.5,1002.1,966.7,1069.4,990.9,966.8,1422.9,966.7,1069.4,1061.5,966.7,1022.6,1061.5,1064.1,1061.5,1061.5,1022.6,990.9,1043.3,1061.5,1022.6,1022.6,1022.6,1002.0,966.7,1002.0,1002.0,1061.5,1022.6,1022.6],\"yaxis\":\"y\",\"type\":\"scatter\"}],                        {\"template\":{\"data\":{\"histogram2dcontour\":[{\"type\":\"histogram2dcontour\",\"colorbar\":{\"outlinewidth\":0,\"ticks\":\"\"},\"colorscale\":[[0.0,\"#0d0887\"],[0.1111111111111111,\"#46039f\"],[0.2222222222222222,\"#7201a8\"],[0.3333333333333333,\"#9c179e\"],[0.4444444444444444,\"#bd3786\"],[0.5555555555555556,\"#d8576b\"],[0.6666666666666666,\"#ed7953\"],[0.7777777777777778,\"#fb9f3a\"],[0.8888888888888888,\"#fdca26\"],[1.0,\"#f0f921\"]]}],\"choropleth\":[{\"type\":\"choropleth\",\"colorbar\":{\"outlinewidth\":0,\"ticks\":\"\"}}],\"histogram2d\":[{\"type\":\"histogram2d\",\"colorbar\":{\"outlinewidth\":0,\"ticks\":\"\"},\"colorscale\":[[0.0,\"#0d0887\"],[0.1111111111111111,\"#46039f\"],[0.2222222222222222,\"#7201a8\"],[0.3333333333333333,\"#9c179e\"],[0.4444444444444444,\"#bd3786\"],[0.5555555555555556,\"#d8576b\"],[0.6666666666666666,\"#ed7953\"],[0.7777777777777778,\"#fb9f3a\"],[0.8888888888888888,\"#fdca26\"],[1.0,\"#f0f921\"]]}],\"heatmap\":[{\"type\":\"heatmap\",\"colorbar\":{\"outlinewidth\":0,\"ticks\":\"\"},\"colorscale\":[[0.0,\"#0d0887\"],[0.1111111111111111,\"#46039f\"],[0.2222222222222222,\"#7201a8\"],[0.3333333333333333,\"#9c179e\"],[0.4444444444444444,\"#bd3786\"],[0.5555555555555556,\"#d8576b\"],[0.6666666666666666,\"#ed7953\"],[0.7777777777777778,\"#fb9f3a\"],[0.8888888888888888,\"#fdca26\"],[1.0,\"#f0f921\"]]}],\"heatmapgl\":[{\"type\":\"heatmapgl\",\"colorbar\":{\"outlinewidth\":0,\"ticks\":\"\"},\"colorscale\":[[0.0,\"#0d0887\"],[0.1111111111111111,\"#46039f\"],[0.2222222222222222,\"#7201a8\"],[0.3333333333333333,\"#9c179e\"],[0.4444444444444444,\"#bd3786\"],[0.5555555555555556,\"#d8576b\"],[0.6666666666666666,\"#ed7953\"],[0.7777777777777778,\"#fb9f3a\"],[0.8888888888888888,\"#fdca26\"],[1.0,\"#f0f921\"]]}],\"contourcarpet\":[{\"type\":\"contourcarpet\",\"colorbar\":{\"outlinewidth\":0,\"ticks\":\"\"}}],\"contour\":[{\"type\":\"contour\",\"colorbar\":{\"outlinewidth\":0,\"ticks\":\"\"},\"colorscale\":[[0.0,\"#0d0887\"],[0.1111111111111111,\"#46039f\"],[0.2222222222222222,\"#7201a8\"],[0.3333333333333333,\"#9c179e\"],[0.4444444444444444,\"#bd3786\"],[0.5555555555555556,\"#d8576b\"],[0.6666666666666666,\"#ed7953\"],[0.7777777777777778,\"#fb9f3a\"],[0.8888888888888888,\"#fdca26\"],[1.0,\"#f0f921\"]]}],\"surface\":[{\"type\":\"surface\",\"colorbar\":{\"outlinewidth\":0,\"ticks\":\"\"},\"colorscale\":[[0.0,\"#0d0887\"],[0.1111111111111111,\"#46039f\"],[0.2222222222222222,\"#7201a8\"],[0.3333333333333333,\"#9c179e\"],[0.4444444444444444,\"#bd3786\"],[0.5555555555555556,\"#d8576b\"],[0.6666666666666666,\"#ed7953\"],[0.7777777777777778,\"#fb9f3a\"],[0.8888888888888888,\"#fdca26\"],[1.0,\"#f0f921\"]]}],\"mesh3d\":[{\"type\":\"mesh3d\",\"colorbar\":{\"outlinewidth\":0,\"ticks\":\"\"}}],\"scatter\":[{\"fillpattern\":{\"fillmode\":\"overlay\",\"size\":10,\"solidity\":0.2},\"type\":\"scatter\"}],\"parcoords\":[{\"type\":\"parcoords\",\"line\":{\"colorbar\":{\"outlinewidth\":0,\"ticks\":\"\"}}}],\"scatterpolargl\":[{\"type\":\"scatterpolargl\",\"marker\":{\"colorbar\":{\"outlinewidth\":0,\"ticks\":\"\"}}}],\"bar\":[{\"error_x\":{\"color\":\"#2a3f5f\"},\"error_y\":{\"color\":\"#2a3f5f\"},\"marker\":{\"line\":{\"color\":\"#E5ECF6\",\"width\":0.5},\"pattern\":{\"fillmode\":\"overlay\",\"size\":10,\"solidity\":0.2}},\"type\":\"bar\"}],\"scattergeo\":[{\"type\":\"scattergeo\",\"marker\":{\"colorbar\":{\"outlinewidth\":0,\"ticks\":\"\"}}}],\"scatterpolar\":[{\"type\":\"scatterpolar\",\"marker\":{\"colorbar\":{\"outlinewidth\":0,\"ticks\":\"\"}}}],\"histogram\":[{\"marker\":{\"pattern\":{\"fillmode\":\"overlay\",\"size\":10,\"solidity\":0.2}},\"type\":\"histogram\"}],\"scattergl\":[{\"type\":\"scattergl\",\"marker\":{\"colorbar\":{\"outlinewidth\":0,\"ticks\":\"\"}}}],\"scatter3d\":[{\"type\":\"scatter3d\",\"line\":{\"colorbar\":{\"outlinewidth\":0,\"ticks\":\"\"}},\"marker\":{\"colorbar\":{\"outlinewidth\":0,\"ticks\":\"\"}}}],\"scattermapbox\":[{\"type\":\"scattermapbox\",\"marker\":{\"colorbar\":{\"outlinewidth\":0,\"ticks\":\"\"}}}],\"scatterternary\":[{\"type\":\"scatterternary\",\"marker\":{\"colorbar\":{\"outlinewidth\":0,\"ticks\":\"\"}}}],\"scattercarpet\":[{\"type\":\"scattercarpet\",\"marker\":{\"colorbar\":{\"outlinewidth\":0,\"ticks\":\"\"}}}],\"carpet\":[{\"aaxis\":{\"endlinecolor\":\"#2a3f5f\",\"gridcolor\":\"white\",\"linecolor\":\"white\",\"minorgridcolor\":\"white\",\"startlinecolor\":\"#2a3f5f\"},\"baxis\":{\"endlinecolor\":\"#2a3f5f\",\"gridcolor\":\"white\",\"linecolor\":\"white\",\"minorgridcolor\":\"white\",\"startlinecolor\":\"#2a3f5f\"},\"type\":\"carpet\"}],\"table\":[{\"cells\":{\"fill\":{\"color\":\"#EBF0F8\"},\"line\":{\"color\":\"white\"}},\"header\":{\"fill\":{\"color\":\"#C8D4E3\"},\"line\":{\"color\":\"white\"}},\"type\":\"table\"}],\"barpolar\":[{\"marker\":{\"line\":{\"color\":\"#E5ECF6\",\"width\":0.5},\"pattern\":{\"fillmode\":\"overlay\",\"size\":10,\"solidity\":0.2}},\"type\":\"barpolar\"}],\"pie\":[{\"automargin\":true,\"type\":\"pie\"}]},\"layout\":{\"autotypenumbers\":\"strict\",\"colorway\":[\"#636efa\",\"#EF553B\",\"#00cc96\",\"#ab63fa\",\"#FFA15A\",\"#19d3f3\",\"#FF6692\",\"#B6E880\",\"#FF97FF\",\"#FECB52\"],\"font\":{\"color\":\"#2a3f5f\"},\"hovermode\":\"closest\",\"hoverlabel\":{\"align\":\"left\"},\"paper_bgcolor\":\"white\",\"plot_bgcolor\":\"#E5ECF6\",\"polar\":{\"bgcolor\":\"#E5ECF6\",\"angularaxis\":{\"gridcolor\":\"white\",\"linecolor\":\"white\",\"ticks\":\"\"},\"radialaxis\":{\"gridcolor\":\"white\",\"linecolor\":\"white\",\"ticks\":\"\"}},\"ternary\":{\"bgcolor\":\"#E5ECF6\",\"aaxis\":{\"gridcolor\":\"white\",\"linecolor\":\"white\",\"ticks\":\"\"},\"baxis\":{\"gridcolor\":\"white\",\"linecolor\":\"white\",\"ticks\":\"\"},\"caxis\":{\"gridcolor\":\"white\",\"linecolor\":\"white\",\"ticks\":\"\"}},\"coloraxis\":{\"colorbar\":{\"outlinewidth\":0,\"ticks\":\"\"}},\"colorscale\":{\"sequential\":[[0.0,\"#0d0887\"],[0.1111111111111111,\"#46039f\"],[0.2222222222222222,\"#7201a8\"],[0.3333333333333333,\"#9c179e\"],[0.4444444444444444,\"#bd3786\"],[0.5555555555555556,\"#d8576b\"],[0.6666666666666666,\"#ed7953\"],[0.7777777777777778,\"#fb9f3a\"],[0.8888888888888888,\"#fdca26\"],[1.0,\"#f0f921\"]],\"sequentialminus\":[[0.0,\"#0d0887\"],[0.1111111111111111,\"#46039f\"],[0.2222222222222222,\"#7201a8\"],[0.3333333333333333,\"#9c179e\"],[0.4444444444444444,\"#bd3786\"],[0.5555555555555556,\"#d8576b\"],[0.6666666666666666,\"#ed7953\"],[0.7777777777777778,\"#fb9f3a\"],[0.8888888888888888,\"#fdca26\"],[1.0,\"#f0f921\"]],\"diverging\":[[0,\"#8e0152\"],[0.1,\"#c51b7d\"],[0.2,\"#de77ae\"],[0.3,\"#f1b6da\"],[0.4,\"#fde0ef\"],[0.5,\"#f7f7f7\"],[0.6,\"#e6f5d0\"],[0.7,\"#b8e186\"],[0.8,\"#7fbc41\"],[0.9,\"#4d9221\"],[1,\"#276419\"]]},\"xaxis\":{\"gridcolor\":\"white\",\"linecolor\":\"white\",\"ticks\":\"\",\"title\":{\"standoff\":15},\"zerolinecolor\":\"white\",\"automargin\":true,\"zerolinewidth\":2},\"yaxis\":{\"gridcolor\":\"white\",\"linecolor\":\"white\",\"ticks\":\"\",\"title\":{\"standoff\":15},\"zerolinecolor\":\"white\",\"automargin\":true,\"zerolinewidth\":2},\"scene\":{\"xaxis\":{\"backgroundcolor\":\"#E5ECF6\",\"gridcolor\":\"white\",\"linecolor\":\"white\",\"showbackground\":true,\"ticks\":\"\",\"zerolinecolor\":\"white\",\"gridwidth\":2},\"yaxis\":{\"backgroundcolor\":\"#E5ECF6\",\"gridcolor\":\"white\",\"linecolor\":\"white\",\"showbackground\":true,\"ticks\":\"\",\"zerolinecolor\":\"white\",\"gridwidth\":2},\"zaxis\":{\"backgroundcolor\":\"#E5ECF6\",\"gridcolor\":\"white\",\"linecolor\":\"white\",\"showbackground\":true,\"ticks\":\"\",\"zerolinecolor\":\"white\",\"gridwidth\":2}},\"shapedefaults\":{\"line\":{\"color\":\"#2a3f5f\"}},\"annotationdefaults\":{\"arrowcolor\":\"#2a3f5f\",\"arrowhead\":0,\"arrowwidth\":1},\"geo\":{\"bgcolor\":\"white\",\"landcolor\":\"#E5ECF6\",\"subunitcolor\":\"white\",\"showland\":true,\"showlakes\":true,\"lakecolor\":\"white\"},\"title\":{\"x\":0.05},\"mapbox\":{\"style\":\"light\"}}},\"xaxis\":{\"anchor\":\"y\",\"domain\":[0.0,1.0],\"title\":{\"text\":\"Ngay\"}},\"yaxis\":{\"anchor\":\"x\",\"domain\":[0.0,1.0],\"title\":{\"text\":\"3\"}},\"legend\":{\"tracegroupgap\":0},\"margin\":{\"t\":60},\"title\":{\"text\":\"Data\",\"y\":0.95,\"x\":0.5,\"xanchor\":\"center\",\"yanchor\":\"top\"},\"plot_bgcolor\":\"rgba(53,223,0,0.8)\"},                        {\"responsive\": true}                    ).then(function(){\n",
       "                            \n",
       "var gd = document.getElementById('1e0540c3-7110-4b0f-83ff-c2551fccc84d');\n",
       "var x = new MutationObserver(function (mutations, observer) {{\n",
       "        var display = window.getComputedStyle(gd).display;\n",
       "        if (!display || display === 'none') {{\n",
       "            console.log([gd, 'removed!']);\n",
       "            Plotly.purge(gd);\n",
       "            observer.disconnect();\n",
       "        }}\n",
       "}});\n",
       "\n",
       "// Listen for the removal of the full notebook cells\n",
       "var notebookContainer = gd.closest('#notebook-container');\n",
       "if (notebookContainer) {{\n",
       "    x.observe(notebookContainer, {childList: true});\n",
       "}}\n",
       "\n",
       "// Listen for the clearing of the current output cell\n",
       "var outputEl = gd.closest('.output');\n",
       "if (outputEl) {{\n",
       "    x.observe(outputEl, {childList: true});\n",
       "}}\n",
       "\n",
       "                        })                };                });            </script>        </div>"
      ]
     },
     "metadata": {},
     "output_type": "display_data"
    }
   ],
   "source": [
    "import plotly.express as px\n",
    "fig = px.line(y=df['8'], x=df['Ngay'])\n",
    "fig.update_traces(line_color='black') \n",
    "fig.update_layout(xaxis_title=\"Ngay\", \n",
    "                  yaxis_title=\"3\",\n",
    "                  title={'text': \"Data\", 'y':0.95, 'x':0.5, 'xanchor':'center', 'yanchor':'top'},\n",
    "                  plot_bgcolor='rgba(53,223,0,0.8)')"
   ]
  },
  {
   "cell_type": "code",
   "execution_count": 114,
   "id": "4c9ab459-0195-40f4-ab41-34c677c6ceec",
   "metadata": {},
   "outputs": [
    {
     "data": {
      "image/png": "[encoded data removed]",
      "text/plain": [
       "<Figure size 2250x900 with 1 Axes>"
      ]
     },
     "metadata": {},
     "output_type": "display_data"
    }
   ],
   "source": [
    "plt.figure(figsize=(15, 6), dpi=150)\n",
    "plt.rcParams['axes.facecolor'] = 'yellow'\n",
    "plt.rc('axes',edgecolor='yellow')\n",
    "plt.plot(df['Ngay'][:-test_size], df['8'][:-test_size], color='black', lw=2)\n",
    "plt.plot(df['Ngay'][-test_size:], df['8'][-test_size:], color='blue', lw=2)\n",
    "plt.title('8', fontsize=15)\n",
    "plt.xlabel('Date', fontsize=12)\n",
    "plt.ylabel('8', fontsize=12)\n",
    "plt.legend(['Training set', 'Test set'], loc='upper left', prop={'size': 15})\n",
    "plt.grid(color='white')\n",
    "plt.show()"
   ]
  },
  {
   "cell_type": "code",
   "execution_count": 116,
   "id": "30c1110c-58d6-4a04-bbaa-0f552d3d0c37",
   "metadata": {},
   "outputs": [
    {
     "data": {
      "text/html": [
       "<style>#sk-container-id-2 {color: black;}#sk-container-id-2 pre{padding: 0;}#sk-container-id-2 div.sk-toggleable {background-color: white;}#sk-container-id-2 label.sk-toggleable__label {cursor: pointer;display: block;width: 100%;margin-bottom: 0;padding: 0.3em;box-sizing: border-box;text-align: center;}#sk-container-id-2 label.sk-toggleable__label-arrow:before {content: \"▸\";float: left;margin-right: 0.25em;color: #696969;}#sk-container-id-2 label.sk-toggleable__label-arrow:hover:before {color: black;}#sk-container-id-2 div.sk-estimator:hover label.sk-toggleable__label-arrow:before {color: black;}#sk-container-id-2 div.sk-toggleable__content {max-height: 0;max-width: 0;overflow: hidden;text-align: left;background-color: #f0f8ff;}#sk-container-id-2 div.sk-toggleable__content pre {margin: 0.2em;color: black;border-radius: 0.25em;background-color: #f0f8ff;}#sk-container-id-2 input.sk-toggleable__control:checked~div.sk-toggleable__content {max-height: 200px;max-width: 100%;overflow: auto;}#sk-container-id-2 input.sk-toggleable__control:checked~label.sk-toggleable__label-arrow:before {content: \"▾\";}#sk-container-id-2 div.sk-estimator input.sk-toggleable__control:checked~label.sk-toggleable__label {background-color: #d4ebff;}#sk-container-id-2 div.sk-label input.sk-toggleable__control:checked~label.sk-toggleable__label {background-color: #d4ebff;}#sk-container-id-2 input.sk-hidden--visually {border: 0;clip: rect(1px 1px 1px 1px);clip: rect(1px, 1px, 1px, 1px);height: 1px;margin: -1px;overflow: hidden;padding: 0;position: absolute;width: 1px;}#sk-container-id-2 div.sk-estimator {font-family: monospace;background-color: #f0f8ff;border: 1px dotted black;border-radius: 0.25em;box-sizing: border-box;margin-bottom: 0.5em;}#sk-container-id-2 div.sk-estimator:hover {background-color: #d4ebff;}#sk-container-id-2 div.sk-parallel-item::after {content: \"\";width: 100%;border-bottom: 1px solid gray;flex-grow: 1;}#sk-container-id-2 div.sk-label:hover label.sk-toggleable__label {background-color: #d4ebff;}#sk-container-id-2 div.sk-serial::before {content: \"\";position: absolute;border-left: 1px solid gray;box-sizing: border-box;top: 0;bottom: 0;left: 50%;z-index: 0;}#sk-container-id-2 div.sk-serial {display: flex;flex-direction: column;align-items: center;background-color: white;padding-right: 0.2em;padding-left: 0.2em;position: relative;}#sk-container-id-2 div.sk-item {position: relative;z-index: 1;}#sk-container-id-2 div.sk-parallel {display: flex;align-items: stretch;justify-content: center;background-color: white;position: relative;}#sk-container-id-2 div.sk-item::before, #sk-container-id-2 div.sk-parallel-item::before {content: \"\";position: absolute;border-left: 1px solid gray;box-sizing: border-box;top: 0;bottom: 0;left: 50%;z-index: -1;}#sk-container-id-2 div.sk-parallel-item {display: flex;flex-direction: column;z-index: 1;position: relative;background-color: white;}#sk-container-id-2 div.sk-parallel-item:first-child::after {align-self: flex-end;width: 50%;}#sk-container-id-2 div.sk-parallel-item:last-child::after {align-self: flex-start;width: 50%;}#sk-container-id-2 div.sk-parallel-item:only-child::after {width: 0;}#sk-container-id-2 div.sk-dashed-wrapped {border: 1px dashed gray;margin: 0 0.4em 0.5em 0.4em;box-sizing: border-box;padding-bottom: 0.4em;background-color: white;}#sk-container-id-2 div.sk-label label {font-family: monospace;font-weight: bold;display: inline-block;line-height: 1.2em;}#sk-container-id-2 div.sk-label-container {text-align: center;}#sk-container-id-2 div.sk-container {/* jupyter's `normalize.less` sets `[hidden] { display: none; }` but bootstrap.min.css set `[hidden] { display: none !important; }` so we also need the `!important` here to be able to override the default hidden behavior on the sphinx rendered scikit-learn.org. See: https://github.com/scikit-learn/scikit-learn/issues/21755 */display: inline-block !important;position: relative;}#sk-container-id-2 div.sk-text-repr-fallback {display: none;}</style><div id=\"sk-container-id-2\" class=\"sk-top-container\"><div class=\"sk-text-repr-fallback\"><pre>MinMaxScaler()</pre><b>In a Jupyter environment, please rerun this cell to show the HTML representation or trust the notebook. <br />On GitHub, the HTML representation is unable to render, please try loading this page with nbviewer.org.</b></div><div class=\"sk-container\" hidden><div class=\"sk-item\"><div class=\"sk-estimator sk-toggleable\"><input class=\"sk-toggleable__control sk-hidden--visually\" id=\"sk-estimator-id-2\" type=\"checkbox\" checked><label for=\"sk-estimator-id-2\" class=\"sk-toggleable__label sk-toggleable__label-arrow\">MinMaxScaler</label><div class=\"sk-toggleable__content\"><pre>MinMaxScaler()</pre></div></div></div></div></div>"
      ],
      "text/plain": [
       "MinMaxScaler()"
      ]
     },
     "execution_count": 116,
     "metadata": {},
     "output_type": "execute_result"
    }
   ],
   "source": [
    "from sklearn.preprocessing import MinMaxScaler\n",
    "scaler = MinMaxScaler()\n",
    "scaler.fit(df[['8']])"
   ]
  },
  {
   "cell_type": "code",
   "execution_count": 117,
   "id": "4bf8b50d-2502-46d7-a715-ad4ac57dda82",
   "metadata": {},
   "outputs": [],
   "source": [
    "window_size = 10"
   ]
  },
  {
   "cell_type": "code",
   "execution_count": 118,
   "id": "d7f7ac88-01fd-4fd4-8f1d-b5845e7d6704",
   "metadata": {},
   "outputs": [],
   "source": [
    "train_data = df[['8']][:-test_size]\n",
    "train_data = scaler.transform(train_data)"
   ]
  },
  {
   "cell_type": "code",
   "execution_count": 119,
   "id": "69f62f16-f204-41e9-b90f-375e31b0bbf9",
   "metadata": {},
   "outputs": [],
   "source": [
    "X_train = []\n",
    "y_train = []\n",
    "\n",
    "for i in range(window_size, len(train_data)):\n",
    "    X_train.append(train_data[i-window_size:i, 0])\n",
    "    y_train.append(train_data[i, 0])"
   ]
  },
  {
   "cell_type": "code",
   "execution_count": 120,
   "id": "3ba6a5ae-90ea-4555-be32-d2b9cfc58300",
   "metadata": {},
   "outputs": [],
   "source": [
    "test_data = df[['8']][-test_size-window_size:]\n",
    "test_data = scaler.transform(test_data)"
   ]
  },
  {
   "cell_type": "code",
   "execution_count": 121,
   "id": "b9e39883-54db-49de-b2be-e33518fdaa24",
   "metadata": {},
   "outputs": [],
   "source": [
    "X_test = []\n",
    "y_test = []\n",
    "\n",
    "for i in range(window_size, len(test_data)):\n",
    "    X_test.append(test_data[i-window_size:i, 0])\n",
    "    y_test.append(test_data[i, 0])"
   ]
  },
  {
   "cell_type": "code",
   "execution_count": 122,
   "id": "db7e53c1-bcfb-411d-8076-2758059ceb92",
   "metadata": {},
   "outputs": [],
   "source": [
    "X_train = np.array(X_train)\n",
    "X_test  = np.array(X_test)\n",
    "y_train = np.array(y_train)\n",
    "y_test  = np.array(y_test)"
   ]
  },
  {
   "cell_type": "code",
   "execution_count": 123,
   "id": "6b50e251-f1f2-4895-8fe0-8722e5239222",
   "metadata": {},
   "outputs": [],
   "source": [
    "X_train = np.reshape(X_train, (X_train.shape[0], X_train.shape[1], 1))\n",
    "X_test  = np.reshape(X_test, (X_test.shape[0], X_test.shape[1], 1))\n",
    "y_train = np.reshape(y_train, (-1,1))\n",
    "y_test  = np.reshape(y_test, (-1,1))"
   ]
  },
  {
   "cell_type": "code",
   "execution_count": 124,
   "id": "82c884ec-94d0-45dd-8131-f33b0d4ad599",
   "metadata": {},
   "outputs": [
    {
     "name": "stdout",
     "output_type": "stream",
     "text": [
      "X_train Shape:  (324, 10, 1)\n",
      "y_train Shape:  (324, 1)\n",
      "X_test Shape:   (31, 10, 1)\n",
      "y_test Shape:   (31, 1)\n"
     ]
    }
   ],
   "source": [
    "print('X_train Shape: ', X_train.shape)\n",
    "print('y_train Shape: ', y_train.shape)\n",
    "print('X_test Shape:  ', X_test.shape)\n",
    "print('y_test Shape:  ', y_test.shape)"
   ]
  },
  {
   "cell_type": "code",
   "execution_count": 125,
   "id": "92604626-6921-4832-a0de-d9f99c262edf",
   "metadata": {},
   "outputs": [],
   "source": [
    "def define_model():\n",
    "    input1 = Input(shape=(window_size,1))\n",
    "    x = GRU(units = 64, return_sequences=False)(input1)\n",
    "    x = Dense(32, activation='softmax')(x)\n",
    "    dnn_output = Dense(1)(x)\n",
    "\n",
    "    model = Model(inputs=input1, outputs=[dnn_output])\n",
    "    model.compile(loss='mean_squared_error', optimizer='Nadam')\n",
    "    model.summary()\n",
    "    \n",
    "    return model"
   ]
  },
  {
   "cell_type": "code",
   "execution_count": 126,
   "id": "00a9aabc-bc8b-40e0-91e8-4c3556829823",
   "metadata": {},
   "outputs": [
    {
     "data": {
      "text/html": [
       "<pre style=\"white-space:pre;overflow-x:auto;line-height:normal;font-family:Menlo,'DejaVu Sans Mono',consolas,'Courier New',monospace\"><span style=\"font-weight: bold\">Model: \"functional_3\"</span>\n",
       "</pre>\n"
      ],
      "text/plain": [
       "\u001b[1mModel: \"functional_3\"\u001b[0m\n"
      ]
     },
     "metadata": {},
     "output_type": "display_data"
    },
    {
     "data": {
      "text/html": [
       "<pre style=\"white-space:pre;overflow-x:auto;line-height:normal;font-family:Menlo,'DejaVu Sans Mono',consolas,'Courier New',monospace\">┏━━━━━━━━━━━━━━━━━━━━━━━━━━━━━━━━━━━━━━┳━━━━━━━━━━━━━━━━━━━━━━━━━━━━━┳━━━━━━━━━━━━━━━━━┓\n",
       "┃<span style=\"font-weight: bold\"> Layer (type)                         </span>┃<span style=\"font-weight: bold\"> Output Shape                </span>┃<span style=\"font-weight: bold\">         Param # </span>┃\n",
       "┡━━━━━━━━━━━━━━━━━━━━━━━━━━━━━━━━━━━━━━╇━━━━━━━━━━━━━━━━━━━━━━━━━━━━━╇━━━━━━━━━━━━━━━━━┩\n",
       "│ input_layer_1 (<span style=\"color: #0087ff; text-decoration-color: #0087ff\">InputLayer</span>)           │ (<span style=\"color: #00d7ff; text-decoration-color: #00d7ff\">None</span>, <span style=\"color: #00af00; text-decoration-color: #00af00\">10</span>, <span style=\"color: #00af00; text-decoration-color: #00af00\">1</span>)               │               <span style=\"color: #00af00; text-decoration-color: #00af00\">0</span> │\n",
       "├──────────────────────────────────────┼─────────────────────────────┼─────────────────┤\n",
       "│ gru_1 (<span style=\"color: #0087ff; text-decoration-color: #0087ff\">GRU</span>)                          │ (<span style=\"color: #00d7ff; text-decoration-color: #00d7ff\">None</span>, <span style=\"color: #00af00; text-decoration-color: #00af00\">64</span>)                  │          <span style=\"color: #00af00; text-decoration-color: #00af00\">12,864</span> │\n",
       "├──────────────────────────────────────┼─────────────────────────────┼─────────────────┤\n",
       "│ dense_2 (<span style=\"color: #0087ff; text-decoration-color: #0087ff\">Dense</span>)                      │ (<span style=\"color: #00d7ff; text-decoration-color: #00d7ff\">None</span>, <span style=\"color: #00af00; text-decoration-color: #00af00\">32</span>)                  │           <span style=\"color: #00af00; text-decoration-color: #00af00\">2,080</span> │\n",
       "├──────────────────────────────────────┼─────────────────────────────┼─────────────────┤\n",
       "│ dense_3 (<span style=\"color: #0087ff; text-decoration-color: #0087ff\">Dense</span>)                      │ (<span style=\"color: #00d7ff; text-decoration-color: #00d7ff\">None</span>, <span style=\"color: #00af00; text-decoration-color: #00af00\">1</span>)                   │              <span style=\"color: #00af00; text-decoration-color: #00af00\">33</span> │\n",
       "└──────────────────────────────────────┴─────────────────────────────┴─────────────────┘\n",
       "</pre>\n"
      ],
      "text/plain": [
       "┏━━━━━━━━━━━━━━━━━━━━━━━━━━━━━━━━━━━━━━┳━━━━━━━━━━━━━━━━━━━━━━━━━━━━━┳━━━━━━━━━━━━━━━━━┓\n",
       "┃\u001b[1m \u001b[0m\u001b[1mLayer (type)                        \u001b[0m\u001b[1m \u001b[0m┃\u001b[1m \u001b[0m\u001b[1mOutput Shape               \u001b[0m\u001b[1m \u001b[0m┃\u001b[1m \u001b[0m\u001b[1m        Param #\u001b[0m\u001b[1m \u001b[0m┃\n",
       "┡━━━━━━━━━━━━━━━━━━━━━━━━━━━━━━━━━━━━━━╇━━━━━━━━━━━━━━━━━━━━━━━━━━━━━╇━━━━━━━━━━━━━━━━━┩\n",
       "│ input_layer_1 (\u001b[38;5;33mInputLayer\u001b[0m)           │ (\u001b[38;5;45mNone\u001b[0m, \u001b[38;5;34m10\u001b[0m, \u001b[38;5;34m1\u001b[0m)               │               \u001b[38;5;34m0\u001b[0m │\n",
       "├──────────────────────────────────────┼─────────────────────────────┼─────────────────┤\n",
       "│ gru_1 (\u001b[38;5;33mGRU\u001b[0m)                          │ (\u001b[38;5;45mNone\u001b[0m, \u001b[38;5;34m64\u001b[0m)                  │          \u001b[38;5;34m12,864\u001b[0m │\n",
       "├──────────────────────────────────────┼─────────────────────────────┼─────────────────┤\n",
       "│ dense_2 (\u001b[38;5;33mDense\u001b[0m)                      │ (\u001b[38;5;45mNone\u001b[0m, \u001b[38;5;34m32\u001b[0m)                  │           \u001b[38;5;34m2,080\u001b[0m │\n",
       "├──────────────────────────────────────┼─────────────────────────────┼─────────────────┤\n",
       "│ dense_3 (\u001b[38;5;33mDense\u001b[0m)                      │ (\u001b[38;5;45mNone\u001b[0m, \u001b[38;5;34m1\u001b[0m)                   │              \u001b[38;5;34m33\u001b[0m │\n",
       "└──────────────────────────────────────┴─────────────────────────────┴─────────────────┘\n"
      ]
     },
     "metadata": {},
     "output_type": "display_data"
    },
    {
     "data": {
      "text/html": [
       "<pre style=\"white-space:pre;overflow-x:auto;line-height:normal;font-family:Menlo,'DejaVu Sans Mono',consolas,'Courier New',monospace\"><span style=\"font-weight: bold\"> Total params: </span><span style=\"color: #00af00; text-decoration-color: #00af00\">14,977</span> (58.50 KB)\n",
       "</pre>\n"
      ],
      "text/plain": [
       "\u001b[1m Total params: \u001b[0m\u001b[38;5;34m14,977\u001b[0m (58.50 KB)\n"
      ]
     },
     "metadata": {},
     "output_type": "display_data"
    },
    {
     "data": {
      "text/html": [
       "<pre style=\"white-space:pre;overflow-x:auto;line-height:normal;font-family:Menlo,'DejaVu Sans Mono',consolas,'Courier New',monospace\"><span style=\"font-weight: bold\"> Trainable params: </span><span style=\"color: #00af00; text-decoration-color: #00af00\">14,977</span> (58.50 KB)\n",
       "</pre>\n"
      ],
      "text/plain": [
       "\u001b[1m Trainable params: \u001b[0m\u001b[38;5;34m14,977\u001b[0m (58.50 KB)\n"
      ]
     },
     "metadata": {},
     "output_type": "display_data"
    },
    {
     "data": {
      "text/html": [
       "<pre style=\"white-space:pre;overflow-x:auto;line-height:normal;font-family:Menlo,'DejaVu Sans Mono',consolas,'Courier New',monospace\"><span style=\"font-weight: bold\"> Non-trainable params: </span><span style=\"color: #00af00; text-decoration-color: #00af00\">0</span> (0.00 B)\n",
       "</pre>\n"
      ],
      "text/plain": [
       "\u001b[1m Non-trainable params: \u001b[0m\u001b[38;5;34m0\u001b[0m (0.00 B)\n"
      ]
     },
     "metadata": {},
     "output_type": "display_data"
    },
    {
     "name": "stdout",
     "output_type": "stream",
     "text": [
      "Epoch 1/50\n",
      "\u001b[1m10/10\u001b[0m \u001b[32m━━━━━━━━━━━━━━━━━━━━\u001b[0m\u001b[37m\u001b[0m \u001b[1m3s\u001b[0m 23ms/step - loss: 0.0534 - val_loss: 0.0366\n",
      "Epoch 2/50\n",
      "\u001b[1m10/10\u001b[0m \u001b[32m━━━━━━━━━━━━━━━━━━━━\u001b[0m\u001b[37m\u001b[0m \u001b[1m0s\u001b[0m 6ms/step - loss: 0.0570 - val_loss: 0.0280\n",
      "Epoch 3/50\n",
      "\u001b[1m10/10\u001b[0m \u001b[32m━━━━━━━━━━━━━━━━━━━━\u001b[0m\u001b[37m\u001b[0m \u001b[1m0s\u001b[0m 6ms/step - loss: 0.0331 - val_loss: 0.0149\n",
      "Epoch 4/50\n",
      "\u001b[1m10/10\u001b[0m \u001b[32m━━━━━━━━━━━━━━━━━━━━\u001b[0m\u001b[37m\u001b[0m \u001b[1m0s\u001b[0m 5ms/step - loss: 0.0306 - val_loss: 0.0157\n",
      "Epoch 5/50\n",
      "\u001b[1m10/10\u001b[0m \u001b[32m━━━━━━━━━━━━━━━━━━━━\u001b[0m\u001b[37m\u001b[0m \u001b[1m0s\u001b[0m 6ms/step - loss: 0.0226 - val_loss: 0.0148\n",
      "Epoch 6/50\n",
      "\u001b[1m10/10\u001b[0m \u001b[32m━━━━━━━━━━━━━━━━━━━━\u001b[0m\u001b[37m\u001b[0m \u001b[1m0s\u001b[0m 6ms/step - loss: 0.0264 - val_loss: 0.0149\n",
      "Epoch 7/50\n",
      "\u001b[1m10/10\u001b[0m \u001b[32m━━━━━━━━━━━━━━━━━━━━\u001b[0m\u001b[37m\u001b[0m \u001b[1m0s\u001b[0m 6ms/step - loss: 0.0200 - val_loss: 0.0151\n",
      "Epoch 8/50\n",
      "\u001b[1m10/10\u001b[0m \u001b[32m━━━━━━━━━━━━━━━━━━━━\u001b[0m\u001b[37m\u001b[0m \u001b[1m0s\u001b[0m 5ms/step - loss: 0.0230 - val_loss: 0.0153\n",
      "Epoch 9/50\n",
      "\u001b[1m10/10\u001b[0m \u001b[32m━━━━━━━━━━━━━━━━━━━━\u001b[0m\u001b[37m\u001b[0m \u001b[1m0s\u001b[0m 5ms/step - loss: 0.0202 - val_loss: 0.0151\n",
      "Epoch 10/50\n",
      "\u001b[1m10/10\u001b[0m \u001b[32m━━━━━━━━━━━━━━━━━━━━\u001b[0m\u001b[37m\u001b[0m \u001b[1m0s\u001b[0m 5ms/step - loss: 0.0189 - val_loss: 0.0150\n",
      "Epoch 11/50\n",
      "\u001b[1m10/10\u001b[0m \u001b[32m━━━━━━━━━━━━━━━━━━━━\u001b[0m\u001b[37m\u001b[0m \u001b[1m0s\u001b[0m 6ms/step - loss: 0.0204 - val_loss: 0.0157\n",
      "Epoch 12/50\n",
      "\u001b[1m10/10\u001b[0m \u001b[32m━━━━━━━━━━━━━━━━━━━━\u001b[0m\u001b[37m\u001b[0m \u001b[1m0s\u001b[0m 6ms/step - loss: 0.0157 - val_loss: 0.0152\n",
      "Epoch 13/50\n",
      "\u001b[1m10/10\u001b[0m \u001b[32m━━━━━━━━━━━━━━━━━━━━\u001b[0m\u001b[37m\u001b[0m \u001b[1m0s\u001b[0m 6ms/step - loss: 0.0193 - val_loss: 0.0149\n",
      "Epoch 14/50\n",
      "\u001b[1m10/10\u001b[0m \u001b[32m━━━━━━━━━━━━━━━━━━━━\u001b[0m\u001b[37m\u001b[0m \u001b[1m0s\u001b[0m 8ms/step - loss: 0.0193 - val_loss: 0.0148\n",
      "Epoch 15/50\n",
      "\u001b[1m10/10\u001b[0m \u001b[32m━━━━━━━━━━━━━━━━━━━━\u001b[0m\u001b[37m\u001b[0m \u001b[1m0s\u001b[0m 7ms/step - loss: 0.0163 - val_loss: 0.0148\n",
      "Epoch 16/50\n",
      "\u001b[1m10/10\u001b[0m \u001b[32m━━━━━━━━━━━━━━━━━━━━\u001b[0m\u001b[37m\u001b[0m \u001b[1m0s\u001b[0m 8ms/step - loss: 0.0205 - val_loss: 0.0148\n",
      "Epoch 17/50\n",
      "\u001b[1m10/10\u001b[0m \u001b[32m━━━━━━━━━━━━━━━━━━━━\u001b[0m\u001b[37m\u001b[0m \u001b[1m0s\u001b[0m 7ms/step - loss: 0.0214 - val_loss: 0.0147\n",
      "Epoch 18/50\n",
      "\u001b[1m10/10\u001b[0m \u001b[32m━━━━━━━━━━━━━━━━━━━━\u001b[0m\u001b[37m\u001b[0m \u001b[1m0s\u001b[0m 8ms/step - loss: 0.0174 - val_loss: 0.0159\n",
      "Epoch 19/50\n",
      "\u001b[1m10/10\u001b[0m \u001b[32m━━━━━━━━━━━━━━━━━━━━\u001b[0m\u001b[37m\u001b[0m \u001b[1m0s\u001b[0m 7ms/step - loss: 0.0209 - val_loss: 0.0149\n",
      "Epoch 20/50\n",
      "\u001b[1m10/10\u001b[0m \u001b[32m━━━━━━━━━━━━━━━━━━━━\u001b[0m\u001b[37m\u001b[0m \u001b[1m0s\u001b[0m 6ms/step - loss: 0.0187 - val_loss: 0.0152\n",
      "Epoch 21/50\n",
      "\u001b[1m10/10\u001b[0m \u001b[32m━━━━━━━━━━━━━━━━━━━━\u001b[0m\u001b[37m\u001b[0m \u001b[1m0s\u001b[0m 8ms/step - loss: 0.0173 - val_loss: 0.0151\n",
      "Epoch 22/50\n",
      "\u001b[1m10/10\u001b[0m \u001b[32m━━━━━━━━━━━━━━━━━━━━\u001b[0m\u001b[37m\u001b[0m \u001b[1m0s\u001b[0m 8ms/step - loss: 0.0172 - val_loss: 0.0152\n",
      "Epoch 23/50\n",
      "\u001b[1m10/10\u001b[0m \u001b[32m━━━━━━━━━━━━━━━━━━━━\u001b[0m\u001b[37m\u001b[0m \u001b[1m0s\u001b[0m 7ms/step - loss: 0.0164 - val_loss: 0.0217\n",
      "Epoch 24/50\n",
      "\u001b[1m10/10\u001b[0m \u001b[32m━━━━━━━━━━━━━━━━━━━━\u001b[0m\u001b[37m\u001b[0m \u001b[1m0s\u001b[0m 7ms/step - loss: 0.0215 - val_loss: 0.0155\n",
      "Epoch 25/50\n",
      "\u001b[1m10/10\u001b[0m \u001b[32m━━━━━━━━━━━━━━━━━━━━\u001b[0m\u001b[37m\u001b[0m \u001b[1m0s\u001b[0m 6ms/step - loss: 0.0145 - val_loss: 0.0152\n",
      "Epoch 26/50\n",
      "\u001b[1m10/10\u001b[0m \u001b[32m━━━━━━━━━━━━━━━━━━━━\u001b[0m\u001b[37m\u001b[0m \u001b[1m0s\u001b[0m 7ms/step - loss: 0.0145 - val_loss: 0.0155\n",
      "Epoch 27/50\n",
      "\u001b[1m10/10\u001b[0m \u001b[32m━━━━━━━━━━━━━━━━━━━━\u001b[0m\u001b[37m\u001b[0m \u001b[1m0s\u001b[0m 8ms/step - loss: 0.0162 - val_loss: 0.0154\n",
      "Epoch 28/50\n",
      "\u001b[1m10/10\u001b[0m \u001b[32m━━━━━━━━━━━━━━━━━━━━\u001b[0m\u001b[37m\u001b[0m \u001b[1m0s\u001b[0m 7ms/step - loss: 0.0145 - val_loss: 0.0154\n",
      "Epoch 29/50\n",
      "\u001b[1m10/10\u001b[0m \u001b[32m━━━━━━━━━━━━━━━━━━━━\u001b[0m\u001b[37m\u001b[0m \u001b[1m0s\u001b[0m 7ms/step - loss: 0.0130 - val_loss: 0.0156\n",
      "Epoch 30/50\n",
      "\u001b[1m10/10\u001b[0m \u001b[32m━━━━━━━━━━━━━━━━━━━━\u001b[0m\u001b[37m\u001b[0m \u001b[1m0s\u001b[0m 6ms/step - loss: 0.0173 - val_loss: 0.0156\n",
      "Epoch 31/50\n",
      "\u001b[1m10/10\u001b[0m \u001b[32m━━━━━━━━━━━━━━━━━━━━\u001b[0m\u001b[37m\u001b[0m \u001b[1m0s\u001b[0m 5ms/step - loss: 0.0152 - val_loss: 0.0176\n",
      "Epoch 32/50\n",
      "\u001b[1m10/10\u001b[0m \u001b[32m━━━━━━━━━━━━━━━━━━━━\u001b[0m\u001b[37m\u001b[0m \u001b[1m0s\u001b[0m 6ms/step - loss: 0.0150 - val_loss: 0.0157\n",
      "Epoch 33/50\n",
      "\u001b[1m10/10\u001b[0m \u001b[32m━━━━━━━━━━━━━━━━━━━━\u001b[0m\u001b[37m\u001b[0m \u001b[1m0s\u001b[0m 12ms/step - loss: 0.0127 - val_loss: 0.0167\n",
      "Epoch 34/50\n",
      "\u001b[1m10/10\u001b[0m \u001b[32m━━━━━━━━━━━━━━━━━━━━\u001b[0m\u001b[37m\u001b[0m \u001b[1m0s\u001b[0m 6ms/step - loss: 0.0126 - val_loss: 0.0159\n",
      "Epoch 35/50\n",
      "\u001b[1m10/10\u001b[0m \u001b[32m━━━━━━━━━━━━━━━━━━━━\u001b[0m\u001b[37m\u001b[0m \u001b[1m0s\u001b[0m 8ms/step - loss: 0.0141 - val_loss: 0.0196\n",
      "Epoch 36/50\n",
      "\u001b[1m10/10\u001b[0m \u001b[32m━━━━━━━━━━━━━━━━━━━━\u001b[0m\u001b[37m\u001b[0m \u001b[1m0s\u001b[0m 7ms/step - loss: 0.0174 - val_loss: 0.0159\n",
      "Epoch 37/50\n",
      "\u001b[1m10/10\u001b[0m \u001b[32m━━━━━━━━━━━━━━━━━━━━\u001b[0m\u001b[37m\u001b[0m \u001b[1m0s\u001b[0m 7ms/step - loss: 0.0125 - val_loss: 0.0156\n",
      "Epoch 38/50\n",
      "\u001b[1m10/10\u001b[0m \u001b[32m━━━━━━━━━━━━━━━━━━━━\u001b[0m\u001b[37m\u001b[0m \u001b[1m0s\u001b[0m 5ms/step - loss: 0.0152 - val_loss: 0.0159\n",
      "Epoch 39/50\n",
      "\u001b[1m10/10\u001b[0m \u001b[32m━━━━━━━━━━━━━━━━━━━━\u001b[0m\u001b[37m\u001b[0m \u001b[1m0s\u001b[0m 6ms/step - loss: 0.0146 - val_loss: 0.0164\n",
      "Epoch 40/50\n",
      "\u001b[1m10/10\u001b[0m \u001b[32m━━━━━━━━━━━━━━━━━━━━\u001b[0m\u001b[37m\u001b[0m \u001b[1m0s\u001b[0m 5ms/step - loss: 0.0132 - val_loss: 0.0160\n",
      "Epoch 41/50\n",
      "\u001b[1m10/10\u001b[0m \u001b[32m━━━━━━━━━━━━━━━━━━━━\u001b[0m\u001b[37m\u001b[0m \u001b[1m0s\u001b[0m 5ms/step - loss: 0.0144 - val_loss: 0.0163\n",
      "Epoch 42/50\n",
      "\u001b[1m10/10\u001b[0m \u001b[32m━━━━━━━━━━━━━━━━━━━━\u001b[0m\u001b[37m\u001b[0m \u001b[1m0s\u001b[0m 6ms/step - loss: 0.0148 - val_loss: 0.0159\n",
      "Epoch 43/50\n",
      "\u001b[1m10/10\u001b[0m \u001b[32m━━━━━━━━━━━━━━━━━━━━\u001b[0m\u001b[37m\u001b[0m \u001b[1m0s\u001b[0m 7ms/step - loss: 0.0123 - val_loss: 0.0161\n",
      "Epoch 44/50\n",
      "\u001b[1m10/10\u001b[0m \u001b[32m━━━━━━━━━━━━━━━━━━━━\u001b[0m\u001b[37m\u001b[0m \u001b[1m0s\u001b[0m 7ms/step - loss: 0.0138 - val_loss: 0.0165\n",
      "Epoch 45/50\n",
      "\u001b[1m10/10\u001b[0m \u001b[32m━━━━━━━━━━━━━━━━━━━━\u001b[0m\u001b[37m\u001b[0m \u001b[1m0s\u001b[0m 7ms/step - loss: 0.0129 - val_loss: 0.0161\n",
      "Epoch 46/50\n",
      "\u001b[1m10/10\u001b[0m \u001b[32m━━━━━━━━━━━━━━━━━━━━\u001b[0m\u001b[37m\u001b[0m \u001b[1m0s\u001b[0m 7ms/step - loss: 0.0131 - val_loss: 0.0158\n",
      "Epoch 47/50\n",
      "\u001b[1m10/10\u001b[0m \u001b[32m━━━━━━━━━━━━━━━━━━━━\u001b[0m\u001b[37m\u001b[0m \u001b[1m0s\u001b[0m 5ms/step - loss: 0.0119 - val_loss: 0.0179\n",
      "Epoch 48/50\n",
      "\u001b[1m10/10\u001b[0m \u001b[32m━━━━━━━━━━━━━━━━━━━━\u001b[0m\u001b[37m\u001b[0m \u001b[1m0s\u001b[0m 5ms/step - loss: 0.0145 - val_loss: 0.0167\n",
      "Epoch 49/50\n",
      "\u001b[1m10/10\u001b[0m \u001b[32m━━━━━━━━━━━━━━━━━━━━\u001b[0m\u001b[37m\u001b[0m \u001b[1m0s\u001b[0m 6ms/step - loss: 0.0127 - val_loss: 0.0161\n",
      "Epoch 50/50\n",
      "\u001b[1m10/10\u001b[0m \u001b[32m━━━━━━━━━━━━━━━━━━━━\u001b[0m\u001b[37m\u001b[0m \u001b[1m0s\u001b[0m 6ms/step - loss: 0.0115 - val_loss: 0.0166\n"
     ]
    }
   ],
   "source": [
    "model = define_model()\n",
    "history = model.fit(X_train, y_train, epochs=50, batch_size=32, validation_split=0.1, verbose=1)"
   ]
  },
  {
   "cell_type": "code",
   "execution_count": 127,
   "id": "c945d3eb-52b9-4117-a5c9-018dac0ddecd",
   "metadata": {},
   "outputs": [
    {
     "name": "stdout",
     "output_type": "stream",
     "text": [
      "\u001b[1m1/1\u001b[0m \u001b[32m━━━━━━━━━━━━━━━━━━━━\u001b[0m\u001b[37m\u001b[0m \u001b[1m0s\u001b[0m 20ms/step - loss: 0.0183\n",
      "\u001b[1m1/1\u001b[0m \u001b[32m━━━━━━━━━━━━━━━━━━━━\u001b[0m\u001b[37m\u001b[0m \u001b[1m0s\u001b[0m 125ms/step\n"
     ]
    }
   ],
   "source": [
    "result = model.evaluate(X_test, y_test)\n",
    "y_pred = model.predict(X_test)"
   ]
  },
  {
   "cell_type": "code",
   "execution_count": 128,
   "id": "699654f9-fa68-4295-9d54-fe0211d3b914",
   "metadata": {},
   "outputs": [],
   "source": [
    "from sklearn.metrics import mean_absolute_percentage_error\n",
    "MAPE = mean_absolute_percentage_error(y_test, y_pred)"
   ]
  },
  {
   "cell_type": "code",
   "execution_count": 129,
   "id": "32da8b0f-eb8b-4984-a3ee-576ad99b5aa2",
   "metadata": {},
   "outputs": [
    {
     "name": "stdout",
     "output_type": "stream",
     "text": [
      "Test Loss: 0.018314993008971214\n",
      "Test MAPE: 1.8694586624761358\n"
     ]
    }
   ],
   "source": [
    "print(\"Test Loss:\", result)\n",
    "print(\"Test MAPE:\", MAPE)"
   ]
  },
  {
   "cell_type": "code",
   "execution_count": 130,
   "id": "7c58cbce-00ff-400c-81e0-40e28f0a5bf5",
   "metadata": {},
   "outputs": [],
   "source": [
    "y_test_true = scaler.inverse_transform(y_test)\n",
    "y_test_pred = scaler.inverse_transform(y_pred)"
   ]
  },
  {
   "cell_type": "code",
   "execution_count": 131,
   "id": "29d015eb-5325-4318-aa65-71e57d04194e",
   "metadata": {},
   "outputs": [
    {
     "data": {
      "image/png": "[encoded data removed]",
      "text/plain": [
       "<Figure size 1500x1200 with 1 Axes>"
      ]
     },
     "metadata": {},
     "output_type": "display_data"
    }
   ],
   "source": [
    "plt.figure(figsize=(10, 8), dpi=150)\n",
    "plt.rcParams['axes.facecolor'] = 'yellow'\n",
    "plt.rc('axes',edgecolor='yellow')\n",
    "plt.plot(df['Ngay'].iloc[:-test_size], scaler.inverse_transform(train_data), color='black', lw=2)\n",
    "plt.plot(df['Ngay'].iloc[-test_size:], y_test_true, color='blue', lw=2)\n",
    "plt.plot(df['Ngay'].iloc[-test_size:], y_test_pred, color='red', lw=2)\n",
    "plt.title('Prediction', fontsize=15)\n",
    "plt.xlabel('Date', fontsize=12)\n",
    "plt.ylabel('8', fontsize=12)\n",
    "plt.legend(['Training', 'Data thực tế', 'Data dự đoán'], loc='upper left', prop={'size': 15})\n",
    "plt.grid(color='white')\n",
    "plt.show()"
   ]
  },
  {
   "cell_type": "code",
   "execution_count": null,
   "id": "2c4723bd-edc7-41da-a640-00158ad6bc8b",
   "metadata": {},
   "outputs": [],
   "source": []
  }
 ],
 "metadata": {
  "kernelspec": {
   "display_name": "Python 3 (ipykernel)",
   "language": "python",
   "name": "python3"
  },
  "language_info": {
   "codemirror_mode": {
    "name": "ipython",
    "version": 3
   },
   "file_extension": ".py",
   "mimetype": "text/x-python",
   "name": "python",
   "nbconvert_exporter": "python",
   "pygments_lexer": "ipython3",
   "version": "3.12.3"
  }
 },
 "nbformat": 4,
 "nbformat_minor": 5
}
